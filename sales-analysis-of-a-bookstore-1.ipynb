{
 "cells": [
  {
   "cell_type": "markdown",
   "id": "ca12963b",
   "metadata": {},
   "source": [
    "# PROJET 6 Analysez les ventes d'une librairie avec R ou Python"
   ]
  },
  {
   "cell_type": "code",
   "execution_count": 1,
   "id": "d36156bc",
   "metadata": {},
   "outputs": [],
   "source": [
    "#Importation des librairies\n",
    "import numpy as np\n",
    "import pandas as pd\n",
    "import matplotlib.pyplot as plt\n",
    "import seaborn as sns\n",
    "import scipy.stats as st\n",
    "import warnings\n",
    "warnings.simplefilter(\"ignore\")"
   ]
  },
  {
   "cell_type": "code",
   "execution_count": 2,
   "id": "fea3f313",
   "metadata": {},
   "outputs": [],
   "source": [
    "#Importation des fichiers sources\n",
    "df_customers= pd.read_csv(r\"C:\\Users\\franc\\Desktop\\DATA\\PROJET 6 Analysez les ventes d'une librairie avec R ou Python\\customers.csv\")\n",
    "df_products=pd.read_csv(r\"C:\\Users\\franc\\Desktop\\DATA\\PROJET 6 Analysez les ventes d'une librairie avec R ou Python\\products.csv\")\n",
    "df_transactions=pd.read_csv(r\"C:\\Users\\franc\\Desktop\\DATA\\PROJET 6 Analysez les ventes d'une librairie avec R ou Python\\transactions.csv\")"
   ]
  },
  {
   "cell_type": "code",
   "execution_count": 3,
   "id": "9a5c0fcb",
   "metadata": {},
   "outputs": [
    {
     "name": "stdout",
     "output_type": "stream",
     "text": [
      "df_customers\n"
     ]
    },
    {
     "data": {
      "text/html": [
       "<div>\n",
       "<style scoped>\n",
       "    .dataframe tbody tr th:only-of-type {\n",
       "        vertical-align: middle;\n",
       "    }\n",
       "\n",
       "    .dataframe tbody tr th {\n",
       "        vertical-align: top;\n",
       "    }\n",
       "\n",
       "    .dataframe thead th {\n",
       "        text-align: right;\n",
       "    }\n",
       "</style>\n",
       "<table border=\"1\" class=\"dataframe\">\n",
       "  <thead>\n",
       "    <tr style=\"text-align: right;\">\n",
       "      <th></th>\n",
       "      <th>client_id</th>\n",
       "      <th>sex</th>\n",
       "      <th>birth</th>\n",
       "    </tr>\n",
       "  </thead>\n",
       "  <tbody>\n",
       "    <tr>\n",
       "      <th>0</th>\n",
       "      <td>c_4410</td>\n",
       "      <td>f</td>\n",
       "      <td>1967</td>\n",
       "    </tr>\n",
       "    <tr>\n",
       "      <th>1</th>\n",
       "      <td>c_7839</td>\n",
       "      <td>f</td>\n",
       "      <td>1975</td>\n",
       "    </tr>\n",
       "    <tr>\n",
       "      <th>2</th>\n",
       "      <td>c_1699</td>\n",
       "      <td>f</td>\n",
       "      <td>1984</td>\n",
       "    </tr>\n",
       "    <tr>\n",
       "      <th>3</th>\n",
       "      <td>c_5961</td>\n",
       "      <td>f</td>\n",
       "      <td>1962</td>\n",
       "    </tr>\n",
       "    <tr>\n",
       "      <th>4</th>\n",
       "      <td>c_5320</td>\n",
       "      <td>m</td>\n",
       "      <td>1943</td>\n",
       "    </tr>\n",
       "  </tbody>\n",
       "</table>\n",
       "</div>"
      ],
      "text/plain": [
       "  client_id sex  birth\n",
       "0    c_4410   f   1967\n",
       "1    c_7839   f   1975\n",
       "2    c_1699   f   1984\n",
       "3    c_5961   f   1962\n",
       "4    c_5320   m   1943"
      ]
     },
     "metadata": {},
     "output_type": "display_data"
    },
    {
     "data": {
      "text/plain": [
       "(8623, 3)"
      ]
     },
     "metadata": {},
     "output_type": "display_data"
    },
    {
     "name": "stdout",
     "output_type": "stream",
     "text": [
      "df_products\n"
     ]
    },
    {
     "data": {
      "text/html": [
       "<div>\n",
       "<style scoped>\n",
       "    .dataframe tbody tr th:only-of-type {\n",
       "        vertical-align: middle;\n",
       "    }\n",
       "\n",
       "    .dataframe tbody tr th {\n",
       "        vertical-align: top;\n",
       "    }\n",
       "\n",
       "    .dataframe thead th {\n",
       "        text-align: right;\n",
       "    }\n",
       "</style>\n",
       "<table border=\"1\" class=\"dataframe\">\n",
       "  <thead>\n",
       "    <tr style=\"text-align: right;\">\n",
       "      <th></th>\n",
       "      <th>id_prod</th>\n",
       "      <th>price</th>\n",
       "      <th>categ</th>\n",
       "    </tr>\n",
       "  </thead>\n",
       "  <tbody>\n",
       "    <tr>\n",
       "      <th>0</th>\n",
       "      <td>0_1421</td>\n",
       "      <td>19.99</td>\n",
       "      <td>0</td>\n",
       "    </tr>\n",
       "    <tr>\n",
       "      <th>1</th>\n",
       "      <td>0_1368</td>\n",
       "      <td>5.13</td>\n",
       "      <td>0</td>\n",
       "    </tr>\n",
       "    <tr>\n",
       "      <th>2</th>\n",
       "      <td>0_731</td>\n",
       "      <td>17.99</td>\n",
       "      <td>0</td>\n",
       "    </tr>\n",
       "    <tr>\n",
       "      <th>3</th>\n",
       "      <td>1_587</td>\n",
       "      <td>4.99</td>\n",
       "      <td>1</td>\n",
       "    </tr>\n",
       "    <tr>\n",
       "      <th>4</th>\n",
       "      <td>0_1507</td>\n",
       "      <td>3.99</td>\n",
       "      <td>0</td>\n",
       "    </tr>\n",
       "  </tbody>\n",
       "</table>\n",
       "</div>"
      ],
      "text/plain": [
       "  id_prod  price  categ\n",
       "0  0_1421  19.99      0\n",
       "1  0_1368   5.13      0\n",
       "2   0_731  17.99      0\n",
       "3   1_587   4.99      1\n",
       "4  0_1507   3.99      0"
      ]
     },
     "metadata": {},
     "output_type": "display_data"
    },
    {
     "data": {
      "text/plain": [
       "(3287, 3)"
      ]
     },
     "metadata": {},
     "output_type": "display_data"
    },
    {
     "name": "stdout",
     "output_type": "stream",
     "text": [
      "df_transactions\n"
     ]
    },
    {
     "data": {
      "text/html": [
       "<div>\n",
       "<style scoped>\n",
       "    .dataframe tbody tr th:only-of-type {\n",
       "        vertical-align: middle;\n",
       "    }\n",
       "\n",
       "    .dataframe tbody tr th {\n",
       "        vertical-align: top;\n",
       "    }\n",
       "\n",
       "    .dataframe thead th {\n",
       "        text-align: right;\n",
       "    }\n",
       "</style>\n",
       "<table border=\"1\" class=\"dataframe\">\n",
       "  <thead>\n",
       "    <tr style=\"text-align: right;\">\n",
       "      <th></th>\n",
       "      <th>id_prod</th>\n",
       "      <th>date</th>\n",
       "      <th>session_id</th>\n",
       "      <th>client_id</th>\n",
       "    </tr>\n",
       "  </thead>\n",
       "  <tbody>\n",
       "    <tr>\n",
       "      <th>0</th>\n",
       "      <td>0_1518</td>\n",
       "      <td>2022-05-20 13:21:29.043970</td>\n",
       "      <td>s_211425</td>\n",
       "      <td>c_103</td>\n",
       "    </tr>\n",
       "    <tr>\n",
       "      <th>1</th>\n",
       "      <td>1_251</td>\n",
       "      <td>2022-02-02 07:55:19.149409</td>\n",
       "      <td>s_158752</td>\n",
       "      <td>c_8534</td>\n",
       "    </tr>\n",
       "    <tr>\n",
       "      <th>2</th>\n",
       "      <td>0_1277</td>\n",
       "      <td>2022-06-18 15:44:33.155329</td>\n",
       "      <td>s_225667</td>\n",
       "      <td>c_6714</td>\n",
       "    </tr>\n",
       "    <tr>\n",
       "      <th>3</th>\n",
       "      <td>2_209</td>\n",
       "      <td>2021-06-24 04:19:29.835891</td>\n",
       "      <td>s_52962</td>\n",
       "      <td>c_6941</td>\n",
       "    </tr>\n",
       "    <tr>\n",
       "      <th>4</th>\n",
       "      <td>0_1509</td>\n",
       "      <td>2023-01-11 08:22:08.194479</td>\n",
       "      <td>s_325227</td>\n",
       "      <td>c_4232</td>\n",
       "    </tr>\n",
       "  </tbody>\n",
       "</table>\n",
       "</div>"
      ],
      "text/plain": [
       "  id_prod                        date session_id client_id\n",
       "0  0_1518  2022-05-20 13:21:29.043970   s_211425     c_103\n",
       "1   1_251  2022-02-02 07:55:19.149409   s_158752    c_8534\n",
       "2  0_1277  2022-06-18 15:44:33.155329   s_225667    c_6714\n",
       "3   2_209  2021-06-24 04:19:29.835891    s_52962    c_6941\n",
       "4  0_1509  2023-01-11 08:22:08.194479   s_325227    c_4232"
      ]
     },
     "metadata": {},
     "output_type": "display_data"
    },
    {
     "data": {
      "text/plain": [
       "(679532, 4)"
      ]
     },
     "metadata": {},
     "output_type": "display_data"
    }
   ],
   "source": [
    "#Display des dataframes\n",
    "print('df_customers')\n",
    "display(df_customers.head())\n",
    "display(df_customers.shape)\n",
    "print('df_products')\n",
    "display(df_products.head())\n",
    "display(df_products.shape)\n",
    "print('df_transactions')\n",
    "display(df_transactions.head())\n",
    "display(df_transactions.shape)"
   ]
  },
  {
   "cell_type": "markdown",
   "id": "2799ce9a",
   "metadata": {},
   "source": [
    "# Nettoyage des données"
   ]
  },
  {
   "cell_type": "markdown",
   "id": "cdf59fd9",
   "metadata": {},
   "source": [
    "## df_customers"
   ]
  },
  {
   "cell_type": "code",
   "execution_count": 4,
   "id": "7b268425",
   "metadata": {},
   "outputs": [
    {
     "name": "stdout",
     "output_type": "stream",
     "text": [
      "df_customers\n"
     ]
    },
    {
     "data": {
      "text/html": [
       "<div>\n",
       "<style scoped>\n",
       "    .dataframe tbody tr th:only-of-type {\n",
       "        vertical-align: middle;\n",
       "    }\n",
       "\n",
       "    .dataframe tbody tr th {\n",
       "        vertical-align: top;\n",
       "    }\n",
       "\n",
       "    .dataframe thead th {\n",
       "        text-align: right;\n",
       "    }\n",
       "</style>\n",
       "<table border=\"1\" class=\"dataframe\">\n",
       "  <thead>\n",
       "    <tr style=\"text-align: right;\">\n",
       "      <th></th>\n",
       "      <th>client_id</th>\n",
       "      <th>sex</th>\n",
       "      <th>birth</th>\n",
       "    </tr>\n",
       "  </thead>\n",
       "  <tbody>\n",
       "    <tr>\n",
       "      <th>0</th>\n",
       "      <td>c_4410</td>\n",
       "      <td>f</td>\n",
       "      <td>1967</td>\n",
       "    </tr>\n",
       "    <tr>\n",
       "      <th>1</th>\n",
       "      <td>c_7839</td>\n",
       "      <td>f</td>\n",
       "      <td>1975</td>\n",
       "    </tr>\n",
       "    <tr>\n",
       "      <th>2</th>\n",
       "      <td>c_1699</td>\n",
       "      <td>f</td>\n",
       "      <td>1984</td>\n",
       "    </tr>\n",
       "    <tr>\n",
       "      <th>3</th>\n",
       "      <td>c_5961</td>\n",
       "      <td>f</td>\n",
       "      <td>1962</td>\n",
       "    </tr>\n",
       "    <tr>\n",
       "      <th>4</th>\n",
       "      <td>c_5320</td>\n",
       "      <td>m</td>\n",
       "      <td>1943</td>\n",
       "    </tr>\n",
       "  </tbody>\n",
       "</table>\n",
       "</div>"
      ],
      "text/plain": [
       "  client_id sex  birth\n",
       "0    c_4410   f   1967\n",
       "1    c_7839   f   1975\n",
       "2    c_1699   f   1984\n",
       "3    c_5961   f   1962\n",
       "4    c_5320   m   1943"
      ]
     },
     "metadata": {},
     "output_type": "display_data"
    },
    {
     "data": {
      "text/plain": [
       "(8623, 3)"
      ]
     },
     "metadata": {},
     "output_type": "display_data"
    },
    {
     "name": "stdout",
     "output_type": "stream",
     "text": [
      "<class 'pandas.core.frame.DataFrame'>\n",
      "RangeIndex: 8623 entries, 0 to 8622\n",
      "Data columns (total 3 columns):\n",
      " #   Column     Non-Null Count  Dtype \n",
      "---  ------     --------------  ----- \n",
      " 0   client_id  8623 non-null   object\n",
      " 1   sex        8623 non-null   object\n",
      " 2   birth      8623 non-null   int64 \n",
      "dtypes: int64(1), object(2)\n",
      "memory usage: 202.2+ KB\n"
     ]
    },
    {
     "data": {
      "text/plain": [
       "None"
      ]
     },
     "metadata": {},
     "output_type": "display_data"
    }
   ],
   "source": [
    "#Affichage du df_customers\n",
    "print('df_customers')\n",
    "display(df_customers.head())\n",
    "display(df_customers.shape)\n",
    "display(df_customers.info())"
   ]
  },
  {
   "cell_type": "code",
   "execution_count": 5,
   "id": "83f31c0d",
   "metadata": {},
   "outputs": [
    {
     "data": {
      "text/plain": [
       "array(['f', 'm'], dtype=object)"
      ]
     },
     "execution_count": 5,
     "metadata": {},
     "output_type": "execute_result"
    }
   ],
   "source": [
    "#Vérification si on a des erreurs dans le genre\n",
    "df_customers['sex'].unique()"
   ]
  },
  {
   "cell_type": "code",
   "execution_count": 6,
   "id": "fe74ed2c",
   "metadata": {},
   "outputs": [
    {
     "data": {
      "text/plain": [
       "8623"
      ]
     },
     "execution_count": 6,
     "metadata": {},
     "output_type": "execute_result"
    }
   ],
   "source": [
    "#Nombre de clients uniques dans la database\n",
    "df_customers['client_id'].nunique()"
   ]
  },
  {
   "cell_type": "code",
   "execution_count": 7,
   "id": "7166cc47",
   "metadata": {},
   "outputs": [
    {
     "data": {
      "text/plain": [
       "client_id    0\n",
       "sex          0\n",
       "birth        0\n",
       "dtype: int64"
      ]
     },
     "execution_count": 7,
     "metadata": {},
     "output_type": "execute_result"
    }
   ],
   "source": [
    "#Recherche de valeurs manquantes\n",
    "df_customers_missing_values_count =df_customers.isnull().sum()\n",
    "df_customers_missing_values_count.head()"
   ]
  },
  {
   "cell_type": "code",
   "execution_count": 8,
   "id": "5dc64e56",
   "metadata": {},
   "outputs": [
    {
     "data": {
      "text/html": [
       "<div>\n",
       "<style scoped>\n",
       "    .dataframe tbody tr th:only-of-type {\n",
       "        vertical-align: middle;\n",
       "    }\n",
       "\n",
       "    .dataframe tbody tr th {\n",
       "        vertical-align: top;\n",
       "    }\n",
       "\n",
       "    .dataframe thead th {\n",
       "        text-align: right;\n",
       "    }\n",
       "</style>\n",
       "<table border=\"1\" class=\"dataframe\">\n",
       "  <thead>\n",
       "    <tr style=\"text-align: right;\">\n",
       "      <th></th>\n",
       "      <th>birth</th>\n",
       "    </tr>\n",
       "  </thead>\n",
       "  <tbody>\n",
       "    <tr>\n",
       "      <th>count</th>\n",
       "      <td>8623.000000</td>\n",
       "    </tr>\n",
       "    <tr>\n",
       "      <th>mean</th>\n",
       "      <td>1978.280877</td>\n",
       "    </tr>\n",
       "    <tr>\n",
       "      <th>std</th>\n",
       "      <td>16.919535</td>\n",
       "    </tr>\n",
       "    <tr>\n",
       "      <th>min</th>\n",
       "      <td>1929.000000</td>\n",
       "    </tr>\n",
       "    <tr>\n",
       "      <th>25%</th>\n",
       "      <td>1966.000000</td>\n",
       "    </tr>\n",
       "    <tr>\n",
       "      <th>50%</th>\n",
       "      <td>1979.000000</td>\n",
       "    </tr>\n",
       "    <tr>\n",
       "      <th>75%</th>\n",
       "      <td>1992.000000</td>\n",
       "    </tr>\n",
       "    <tr>\n",
       "      <th>max</th>\n",
       "      <td>2004.000000</td>\n",
       "    </tr>\n",
       "  </tbody>\n",
       "</table>\n",
       "</div>"
      ],
      "text/plain": [
       "             birth\n",
       "count  8623.000000\n",
       "mean   1978.280877\n",
       "std      16.919535\n",
       "min    1929.000000\n",
       "25%    1966.000000\n",
       "50%    1979.000000\n",
       "75%    1992.000000\n",
       "max    2004.000000"
      ]
     },
     "metadata": {},
     "output_type": "display_data"
    },
    {
     "name": "stdout",
     "output_type": "stream",
     "text": [
      "Il ne semble pas y avoir d'erreurs au niveau des années\n"
     ]
    }
   ],
   "source": [
    "#On regarde la variable âge : min max pour vérifier qu'on a pas de valeurs abhérrantes\n",
    "display(df_customers.describe())\n",
    "print(\"Il ne semble pas y avoir d'erreurs au niveau des années\")"
   ]
  },
  {
   "cell_type": "code",
   "execution_count": 9,
   "id": "a0be42fa",
   "metadata": {},
   "outputs": [
    {
     "data": {
      "text/plain": [
       "client_id\n",
       "c_1       1\n",
       "c_10      1\n",
       "c_100     1\n",
       "c_1000    1\n",
       "c_1001    1\n",
       "         ..\n",
       "c_997     1\n",
       "c_998     1\n",
       "c_999     1\n",
       "ct_0      1\n",
       "ct_1      1\n",
       "Length: 8623, dtype: int64"
      ]
     },
     "execution_count": 9,
     "metadata": {},
     "output_type": "execute_result"
    }
   ],
   "source": [
    "#Recherche de duplicat dans colonne product_id clé primaire candidate\n",
    "dub_df_customers=df_customers.pivot_table(index=['client_id'], aggfunc='size')\n",
    "dub_df_customers"
   ]
  },
  {
   "cell_type": "code",
   "execution_count": 10,
   "id": "95e78cbd",
   "metadata": {},
   "outputs": [
    {
     "data": {
      "text/html": [
       "<div>\n",
       "<style scoped>\n",
       "    .dataframe tbody tr th:only-of-type {\n",
       "        vertical-align: middle;\n",
       "    }\n",
       "\n",
       "    .dataframe tbody tr th {\n",
       "        vertical-align: top;\n",
       "    }\n",
       "\n",
       "    .dataframe thead th {\n",
       "        text-align: right;\n",
       "    }\n",
       "</style>\n",
       "<table border=\"1\" class=\"dataframe\">\n",
       "  <thead>\n",
       "    <tr style=\"text-align: right;\">\n",
       "      <th></th>\n",
       "      <th>client_id</th>\n",
       "      <th>sex</th>\n",
       "      <th>birth</th>\n",
       "    </tr>\n",
       "  </thead>\n",
       "  <tbody>\n",
       "  </tbody>\n",
       "</table>\n",
       "</div>"
      ],
      "text/plain": [
       "Empty DataFrame\n",
       "Columns: [client_id, sex, birth]\n",
       "Index: []"
      ]
     },
     "execution_count": 10,
     "metadata": {},
     "output_type": "execute_result"
    }
   ],
   "source": [
    "#Recherche de duplicat\n",
    "df_customers[df_customers.duplicated(['client_id'], keep= False)].sort_values(by=['client_id'])\n"
   ]
  },
  {
   "cell_type": "code",
   "execution_count": 11,
   "id": "c581b852",
   "metadata": {},
   "outputs": [
    {
     "data": {
      "text/plain": [
       "0"
      ]
     },
     "execution_count": 11,
     "metadata": {},
     "output_type": "execute_result"
    }
   ],
   "source": [
    "df_customers.duplicated(['client_id']).sum()"
   ]
  },
  {
   "cell_type": "markdown",
   "id": "1e2df86a",
   "metadata": {},
   "source": [
    "## df_products"
   ]
  },
  {
   "cell_type": "code",
   "execution_count": 12,
   "id": "b01a20dc",
   "metadata": {
    "scrolled": true
   },
   "outputs": [
    {
     "name": "stdout",
     "output_type": "stream",
     "text": [
      "df_products\n"
     ]
    },
    {
     "data": {
      "text/html": [
       "<div>\n",
       "<style scoped>\n",
       "    .dataframe tbody tr th:only-of-type {\n",
       "        vertical-align: middle;\n",
       "    }\n",
       "\n",
       "    .dataframe tbody tr th {\n",
       "        vertical-align: top;\n",
       "    }\n",
       "\n",
       "    .dataframe thead th {\n",
       "        text-align: right;\n",
       "    }\n",
       "</style>\n",
       "<table border=\"1\" class=\"dataframe\">\n",
       "  <thead>\n",
       "    <tr style=\"text-align: right;\">\n",
       "      <th></th>\n",
       "      <th>id_prod</th>\n",
       "      <th>price</th>\n",
       "      <th>categ</th>\n",
       "    </tr>\n",
       "  </thead>\n",
       "  <tbody>\n",
       "    <tr>\n",
       "      <th>0</th>\n",
       "      <td>0_1421</td>\n",
       "      <td>19.99</td>\n",
       "      <td>0</td>\n",
       "    </tr>\n",
       "    <tr>\n",
       "      <th>1</th>\n",
       "      <td>0_1368</td>\n",
       "      <td>5.13</td>\n",
       "      <td>0</td>\n",
       "    </tr>\n",
       "    <tr>\n",
       "      <th>2</th>\n",
       "      <td>0_731</td>\n",
       "      <td>17.99</td>\n",
       "      <td>0</td>\n",
       "    </tr>\n",
       "    <tr>\n",
       "      <th>3</th>\n",
       "      <td>1_587</td>\n",
       "      <td>4.99</td>\n",
       "      <td>1</td>\n",
       "    </tr>\n",
       "    <tr>\n",
       "      <th>4</th>\n",
       "      <td>0_1507</td>\n",
       "      <td>3.99</td>\n",
       "      <td>0</td>\n",
       "    </tr>\n",
       "  </tbody>\n",
       "</table>\n",
       "</div>"
      ],
      "text/plain": [
       "  id_prod  price  categ\n",
       "0  0_1421  19.99      0\n",
       "1  0_1368   5.13      0\n",
       "2   0_731  17.99      0\n",
       "3   1_587   4.99      1\n",
       "4  0_1507   3.99      0"
      ]
     },
     "metadata": {},
     "output_type": "display_data"
    },
    {
     "data": {
      "text/plain": [
       "(3287, 3)"
      ]
     },
     "metadata": {},
     "output_type": "display_data"
    },
    {
     "name": "stdout",
     "output_type": "stream",
     "text": [
      "<class 'pandas.core.frame.DataFrame'>\n",
      "RangeIndex: 3287 entries, 0 to 3286\n",
      "Data columns (total 3 columns):\n",
      " #   Column   Non-Null Count  Dtype  \n",
      "---  ------   --------------  -----  \n",
      " 0   id_prod  3287 non-null   object \n",
      " 1   price    3287 non-null   float64\n",
      " 2   categ    3287 non-null   int64  \n",
      "dtypes: float64(1), int64(1), object(1)\n",
      "memory usage: 77.2+ KB\n"
     ]
    },
    {
     "data": {
      "text/plain": [
       "None"
      ]
     },
     "metadata": {},
     "output_type": "display_data"
    }
   ],
   "source": [
    "#Affichage du dataframe df_product\n",
    "print('df_products')\n",
    "display(df_products.head())\n",
    "display(df_products.shape)\n",
    "display(df_products.info())"
   ]
  },
  {
   "cell_type": "code",
   "execution_count": 13,
   "id": "c2c3971b",
   "metadata": {},
   "outputs": [
    {
     "data": {
      "text/plain": [
       "id_prod     object\n",
       "price      float64\n",
       "categ       object\n",
       "dtype: object"
      ]
     },
     "metadata": {},
     "output_type": "display_data"
    }
   ],
   "source": [
    "#Changement du type de variable en object car id pour categ\n",
    "df_products['categ']=df_products['categ'].astype('object')\n",
    "display(df_products.dtypes)"
   ]
  },
  {
   "cell_type": "code",
   "execution_count": 14,
   "id": "fa848d91",
   "metadata": {},
   "outputs": [
    {
     "data": {
      "text/html": [
       "<div>\n",
       "<style scoped>\n",
       "    .dataframe tbody tr th:only-of-type {\n",
       "        vertical-align: middle;\n",
       "    }\n",
       "\n",
       "    .dataframe tbody tr th {\n",
       "        vertical-align: top;\n",
       "    }\n",
       "\n",
       "    .dataframe thead th {\n",
       "        text-align: right;\n",
       "    }\n",
       "</style>\n",
       "<table border=\"1\" class=\"dataframe\">\n",
       "  <thead>\n",
       "    <tr style=\"text-align: right;\">\n",
       "      <th></th>\n",
       "      <th>price</th>\n",
       "    </tr>\n",
       "  </thead>\n",
       "  <tbody>\n",
       "    <tr>\n",
       "      <th>count</th>\n",
       "      <td>3287.000000</td>\n",
       "    </tr>\n",
       "    <tr>\n",
       "      <th>mean</th>\n",
       "      <td>21.856641</td>\n",
       "    </tr>\n",
       "    <tr>\n",
       "      <th>std</th>\n",
       "      <td>29.847908</td>\n",
       "    </tr>\n",
       "    <tr>\n",
       "      <th>min</th>\n",
       "      <td>-1.000000</td>\n",
       "    </tr>\n",
       "    <tr>\n",
       "      <th>25%</th>\n",
       "      <td>6.990000</td>\n",
       "    </tr>\n",
       "    <tr>\n",
       "      <th>50%</th>\n",
       "      <td>13.060000</td>\n",
       "    </tr>\n",
       "    <tr>\n",
       "      <th>75%</th>\n",
       "      <td>22.990000</td>\n",
       "    </tr>\n",
       "    <tr>\n",
       "      <th>max</th>\n",
       "      <td>300.000000</td>\n",
       "    </tr>\n",
       "  </tbody>\n",
       "</table>\n",
       "</div>"
      ],
      "text/plain": [
       "             price\n",
       "count  3287.000000\n",
       "mean     21.856641\n",
       "std      29.847908\n",
       "min      -1.000000\n",
       "25%       6.990000\n",
       "50%      13.060000\n",
       "75%      22.990000\n",
       "max     300.000000"
      ]
     },
     "execution_count": 14,
     "metadata": {},
     "output_type": "execute_result"
    }
   ],
   "source": [
    "#Vérification pour voir si on a des valeurs abhérrantes sur les prix\n",
    "df_products.describe()"
   ]
  },
  {
   "cell_type": "code",
   "execution_count": 15,
   "id": "b43441fc",
   "metadata": {},
   "outputs": [
    {
     "data": {
      "text/html": [
       "<div>\n",
       "<style scoped>\n",
       "    .dataframe tbody tr th:only-of-type {\n",
       "        vertical-align: middle;\n",
       "    }\n",
       "\n",
       "    .dataframe tbody tr th {\n",
       "        vertical-align: top;\n",
       "    }\n",
       "\n",
       "    .dataframe thead th {\n",
       "        text-align: right;\n",
       "    }\n",
       "</style>\n",
       "<table border=\"1\" class=\"dataframe\">\n",
       "  <thead>\n",
       "    <tr style=\"text-align: right;\">\n",
       "      <th></th>\n",
       "      <th>id_prod</th>\n",
       "      <th>price</th>\n",
       "      <th>categ</th>\n",
       "    </tr>\n",
       "  </thead>\n",
       "  <tbody>\n",
       "    <tr>\n",
       "      <th>731</th>\n",
       "      <td>T_0</td>\n",
       "      <td>-1.0</td>\n",
       "      <td>0</td>\n",
       "    </tr>\n",
       "  </tbody>\n",
       "</table>\n",
       "</div>"
      ],
      "text/plain": [
       "    id_prod  price categ\n",
       "731     T_0   -1.0     0"
      ]
     },
     "execution_count": 15,
     "metadata": {},
     "output_type": "execute_result"
    }
   ],
   "source": [
    "#Recherche des valeurs négatives pour les prix\n",
    "df_products.loc[df_products['price']<0]\n",
    "#erreur ou réduction? à investiguer"
   ]
  },
  {
   "cell_type": "code",
   "execution_count": 16,
   "id": "ed399f65",
   "metadata": {},
   "outputs": [],
   "source": [
    "#On enlève le produit T_0 qui est négatif en gardant les valeurs positives\n",
    "df_products=df_products[df_products.price>0]"
   ]
  },
  {
   "cell_type": "code",
   "execution_count": 17,
   "id": "7aa4ea3d",
   "metadata": {},
   "outputs": [
    {
     "data": {
      "text/plain": [
       "id_prod    0\n",
       "price      0\n",
       "categ      0\n",
       "dtype: int64"
      ]
     },
     "execution_count": 17,
     "metadata": {},
     "output_type": "execute_result"
    }
   ],
   "source": [
    "df_products_missing_values_count=df_products.isnull().sum()\n",
    "df_products_missing_values_count.head()"
   ]
  },
  {
   "cell_type": "code",
   "execution_count": 18,
   "id": "a79af540",
   "metadata": {},
   "outputs": [
    {
     "data": {
      "text/plain": [
       "id_prod\n",
       "0_0       1\n",
       "0_1       1\n",
       "0_10      1\n",
       "0_100     1\n",
       "0_1000    1\n",
       "         ..\n",
       "2_95      1\n",
       "2_96      1\n",
       "2_97      1\n",
       "2_98      1\n",
       "2_99      1\n",
       "Length: 3286, dtype: int64"
      ]
     },
     "execution_count": 18,
     "metadata": {},
     "output_type": "execute_result"
    }
   ],
   "source": [
    "#Recherche de duplicat\n",
    "dub_products=df_products.pivot_table(index='id_prod', aggfunc='size')\n",
    "dub_products"
   ]
  },
  {
   "cell_type": "code",
   "execution_count": 19,
   "id": "c2c9a0fe",
   "metadata": {},
   "outputs": [
    {
     "data": {
      "text/html": [
       "<div>\n",
       "<style scoped>\n",
       "    .dataframe tbody tr th:only-of-type {\n",
       "        vertical-align: middle;\n",
       "    }\n",
       "\n",
       "    .dataframe tbody tr th {\n",
       "        vertical-align: top;\n",
       "    }\n",
       "\n",
       "    .dataframe thead th {\n",
       "        text-align: right;\n",
       "    }\n",
       "</style>\n",
       "<table border=\"1\" class=\"dataframe\">\n",
       "  <thead>\n",
       "    <tr style=\"text-align: right;\">\n",
       "      <th></th>\n",
       "      <th>id_prod</th>\n",
       "      <th>price</th>\n",
       "      <th>categ</th>\n",
       "    </tr>\n",
       "  </thead>\n",
       "  <tbody>\n",
       "  </tbody>\n",
       "</table>\n",
       "</div>"
      ],
      "text/plain": [
       "Empty DataFrame\n",
       "Columns: [id_prod, price, categ]\n",
       "Index: []"
      ]
     },
     "execution_count": 19,
     "metadata": {},
     "output_type": "execute_result"
    }
   ],
   "source": [
    "df_products[df_products.duplicated(['id_prod'], keep= False)].sort_values(by=['id_prod'])"
   ]
  },
  {
   "cell_type": "code",
   "execution_count": 20,
   "id": "bbd7f049",
   "metadata": {},
   "outputs": [
    {
     "data": {
      "text/plain": [
       "0"
      ]
     },
     "execution_count": 20,
     "metadata": {},
     "output_type": "execute_result"
    }
   ],
   "source": [
    "df_products.duplicated(['id_prod']).sum()"
   ]
  },
  {
   "cell_type": "code",
   "execution_count": 21,
   "id": "1aae8e57",
   "metadata": {},
   "outputs": [
    {
     "data": {
      "text/html": [
       "<div>\n",
       "<style scoped>\n",
       "    .dataframe tbody tr th:only-of-type {\n",
       "        vertical-align: middle;\n",
       "    }\n",
       "\n",
       "    .dataframe tbody tr th {\n",
       "        vertical-align: top;\n",
       "    }\n",
       "\n",
       "    .dataframe thead th {\n",
       "        text-align: right;\n",
       "    }\n",
       "</style>\n",
       "<table border=\"1\" class=\"dataframe\">\n",
       "  <thead>\n",
       "    <tr style=\"text-align: right;\">\n",
       "      <th></th>\n",
       "      <th>id_prod</th>\n",
       "      <th>price</th>\n",
       "      <th>categ</th>\n",
       "    </tr>\n",
       "  </thead>\n",
       "  <tbody>\n",
       "    <tr>\n",
       "      <th>0</th>\n",
       "      <td>0_1421</td>\n",
       "      <td>19.99</td>\n",
       "      <td>0</td>\n",
       "    </tr>\n",
       "    <tr>\n",
       "      <th>1</th>\n",
       "      <td>0_1368</td>\n",
       "      <td>5.13</td>\n",
       "      <td>0</td>\n",
       "    </tr>\n",
       "    <tr>\n",
       "      <th>2</th>\n",
       "      <td>0_731</td>\n",
       "      <td>17.99</td>\n",
       "      <td>0</td>\n",
       "    </tr>\n",
       "    <tr>\n",
       "      <th>3</th>\n",
       "      <td>1_587</td>\n",
       "      <td>4.99</td>\n",
       "      <td>1</td>\n",
       "    </tr>\n",
       "    <tr>\n",
       "      <th>4</th>\n",
       "      <td>0_1507</td>\n",
       "      <td>3.99</td>\n",
       "      <td>0</td>\n",
       "    </tr>\n",
       "  </tbody>\n",
       "</table>\n",
       "</div>"
      ],
      "text/plain": [
       "  id_prod  price categ\n",
       "0  0_1421  19.99     0\n",
       "1  0_1368   5.13     0\n",
       "2   0_731  17.99     0\n",
       "3   1_587   4.99     1\n",
       "4  0_1507   3.99     0"
      ]
     },
     "metadata": {},
     "output_type": "display_data"
    },
    {
     "data": {
      "text/plain": [
       "(3286, 3)"
      ]
     },
     "metadata": {},
     "output_type": "display_data"
    }
   ],
   "source": [
    "#df_products clean\n",
    "display(df_products.head())\n",
    "display(df_products.shape)"
   ]
  },
  {
   "cell_type": "markdown",
   "id": "daebb371",
   "metadata": {},
   "source": [
    "# df_transactions"
   ]
  },
  {
   "cell_type": "code",
   "execution_count": 22,
   "id": "cdf234fa",
   "metadata": {},
   "outputs": [
    {
     "name": "stdout",
     "output_type": "stream",
     "text": [
      "df_transactions\n"
     ]
    },
    {
     "data": {
      "text/html": [
       "<div>\n",
       "<style scoped>\n",
       "    .dataframe tbody tr th:only-of-type {\n",
       "        vertical-align: middle;\n",
       "    }\n",
       "\n",
       "    .dataframe tbody tr th {\n",
       "        vertical-align: top;\n",
       "    }\n",
       "\n",
       "    .dataframe thead th {\n",
       "        text-align: right;\n",
       "    }\n",
       "</style>\n",
       "<table border=\"1\" class=\"dataframe\">\n",
       "  <thead>\n",
       "    <tr style=\"text-align: right;\">\n",
       "      <th></th>\n",
       "      <th>id_prod</th>\n",
       "      <th>date</th>\n",
       "      <th>session_id</th>\n",
       "      <th>client_id</th>\n",
       "    </tr>\n",
       "  </thead>\n",
       "  <tbody>\n",
       "    <tr>\n",
       "      <th>0</th>\n",
       "      <td>0_1518</td>\n",
       "      <td>2022-05-20 13:21:29.043970</td>\n",
       "      <td>s_211425</td>\n",
       "      <td>c_103</td>\n",
       "    </tr>\n",
       "    <tr>\n",
       "      <th>1</th>\n",
       "      <td>1_251</td>\n",
       "      <td>2022-02-02 07:55:19.149409</td>\n",
       "      <td>s_158752</td>\n",
       "      <td>c_8534</td>\n",
       "    </tr>\n",
       "    <tr>\n",
       "      <th>2</th>\n",
       "      <td>0_1277</td>\n",
       "      <td>2022-06-18 15:44:33.155329</td>\n",
       "      <td>s_225667</td>\n",
       "      <td>c_6714</td>\n",
       "    </tr>\n",
       "    <tr>\n",
       "      <th>3</th>\n",
       "      <td>2_209</td>\n",
       "      <td>2021-06-24 04:19:29.835891</td>\n",
       "      <td>s_52962</td>\n",
       "      <td>c_6941</td>\n",
       "    </tr>\n",
       "    <tr>\n",
       "      <th>4</th>\n",
       "      <td>0_1509</td>\n",
       "      <td>2023-01-11 08:22:08.194479</td>\n",
       "      <td>s_325227</td>\n",
       "      <td>c_4232</td>\n",
       "    </tr>\n",
       "  </tbody>\n",
       "</table>\n",
       "</div>"
      ],
      "text/plain": [
       "  id_prod                        date session_id client_id\n",
       "0  0_1518  2022-05-20 13:21:29.043970   s_211425     c_103\n",
       "1   1_251  2022-02-02 07:55:19.149409   s_158752    c_8534\n",
       "2  0_1277  2022-06-18 15:44:33.155329   s_225667    c_6714\n",
       "3   2_209  2021-06-24 04:19:29.835891    s_52962    c_6941\n",
       "4  0_1509  2023-01-11 08:22:08.194479   s_325227    c_4232"
      ]
     },
     "metadata": {},
     "output_type": "display_data"
    },
    {
     "data": {
      "text/plain": [
       "(679532, 4)"
      ]
     },
     "metadata": {},
     "output_type": "display_data"
    },
    {
     "name": "stdout",
     "output_type": "stream",
     "text": [
      "<class 'pandas.core.frame.DataFrame'>\n",
      "RangeIndex: 679532 entries, 0 to 679531\n",
      "Data columns (total 4 columns):\n",
      " #   Column      Non-Null Count   Dtype \n",
      "---  ------      --------------   ----- \n",
      " 0   id_prod     679532 non-null  object\n",
      " 1   date        679532 non-null  object\n",
      " 2   session_id  679532 non-null  object\n",
      " 3   client_id   679532 non-null  object\n",
      "dtypes: object(4)\n",
      "memory usage: 20.7+ MB\n"
     ]
    },
    {
     "data": {
      "text/plain": [
       "None"
      ]
     },
     "metadata": {},
     "output_type": "display_data"
    }
   ],
   "source": [
    "#Affichage du df et de ses charactéristiques\n",
    "print('df_transactions')\n",
    "display(df_transactions.head())\n",
    "display(df_transactions.shape)\n",
    "display(df_transactions.info())"
   ]
  },
  {
   "cell_type": "code",
   "execution_count": 23,
   "id": "6eb229e8",
   "metadata": {},
   "outputs": [
    {
     "name": "stdout",
     "output_type": "stream",
     "text": [
      "id_prod       0\n",
      "date          0\n",
      "session_id    0\n",
      "client_id     0\n",
      "dtype: int64\n"
     ]
    }
   ],
   "source": [
    "#Recherche de valeurs nulles \n",
    "df_transactions_missing_values_count=df_transactions.isnull().sum()\n",
    "print(df_transactions_missing_values_count)"
   ]
  },
  {
   "cell_type": "code",
   "execution_count": 24,
   "id": "6173deb7",
   "metadata": {
    "scrolled": true
   },
   "outputs": [
    {
     "data": {
      "text/plain": [
       "session_id\n",
       "s_0       200\n",
       "s_1         1\n",
       "s_10        1\n",
       "s_100       2\n",
       "s_1000      4\n",
       "dtype: int64"
      ]
     },
     "execution_count": 24,
     "metadata": {},
     "output_type": "execute_result"
    }
   ],
   "source": [
    "#Recherche de duplicat\n",
    "sub_df_transactions=df_transactions.pivot_table(index='session_id', aggfunc='size')\n",
    "sub_df_transactions.head()"
   ]
  },
  {
   "cell_type": "code",
   "execution_count": 25,
   "id": "9a0159f8",
   "metadata": {},
   "outputs": [
    {
     "data": {
      "text/plain": [
       "1025"
      ]
     },
     "execution_count": 25,
     "metadata": {},
     "output_type": "execute_result"
    }
   ],
   "source": [
    "df_transactions.duplicated(['session_id','client_id', 'id_prod']).sum()"
   ]
  },
  {
   "cell_type": "code",
   "execution_count": 26,
   "id": "5848364f",
   "metadata": {},
   "outputs": [
    {
     "data": {
      "text/html": [
       "<div>\n",
       "<style scoped>\n",
       "    .dataframe tbody tr th:only-of-type {\n",
       "        vertical-align: middle;\n",
       "    }\n",
       "\n",
       "    .dataframe tbody tr th {\n",
       "        vertical-align: top;\n",
       "    }\n",
       "\n",
       "    .dataframe thead th {\n",
       "        text-align: right;\n",
       "    }\n",
       "</style>\n",
       "<table border=\"1\" class=\"dataframe\">\n",
       "  <thead>\n",
       "    <tr style=\"text-align: right;\">\n",
       "      <th></th>\n",
       "      <th>id_prod</th>\n",
       "      <th>date</th>\n",
       "      <th>session_id</th>\n",
       "      <th>client_id</th>\n",
       "    </tr>\n",
       "  </thead>\n",
       "  <tbody>\n",
       "    <tr>\n",
       "      <th>582</th>\n",
       "      <td>0_1123</td>\n",
       "      <td>2021-04-29 21:21:22.708928</td>\n",
       "      <td>s_27641</td>\n",
       "      <td>c_4459</td>\n",
       "    </tr>\n",
       "    <tr>\n",
       "      <th>889</th>\n",
       "      <td>0_1335</td>\n",
       "      <td>2023-02-01 18:55:40.983876</td>\n",
       "      <td>s_335537</td>\n",
       "      <td>c_4561</td>\n",
       "    </tr>\n",
       "    <tr>\n",
       "      <th>1193</th>\n",
       "      <td>0_1424</td>\n",
       "      <td>2021-03-20 05:24:33.132965</td>\n",
       "      <td>s_8842</td>\n",
       "      <td>c_4595</td>\n",
       "    </tr>\n",
       "    <tr>\n",
       "      <th>1278</th>\n",
       "      <td>1_397</td>\n",
       "      <td>2022-05-17 05:45:19.203870</td>\n",
       "      <td>s_209799</td>\n",
       "      <td>c_915</td>\n",
       "    </tr>\n",
       "    <tr>\n",
       "      <th>1292</th>\n",
       "      <td>0_1361</td>\n",
       "      <td>2022-04-24 20:56:36.206670</td>\n",
       "      <td>s_198937</td>\n",
       "      <td>c_1784</td>\n",
       "    </tr>\n",
       "    <tr>\n",
       "      <th>...</th>\n",
       "      <td>...</td>\n",
       "      <td>...</td>\n",
       "      <td>...</td>\n",
       "      <td>...</td>\n",
       "    </tr>\n",
       "    <tr>\n",
       "      <th>677618</th>\n",
       "      <td>0_1561</td>\n",
       "      <td>2021-06-21 05:30:53.999603</td>\n",
       "      <td>s_51611</td>\n",
       "      <td>c_8596</td>\n",
       "    </tr>\n",
       "    <tr>\n",
       "      <th>678160</th>\n",
       "      <td>0_2267</td>\n",
       "      <td>2021-04-01 04:30:02.545268</td>\n",
       "      <td>s_14298</td>\n",
       "      <td>c_7526</td>\n",
       "    </tr>\n",
       "    <tr>\n",
       "      <th>679180</th>\n",
       "      <td>T_0</td>\n",
       "      <td>test_2021-03-01 02:30:02.237425</td>\n",
       "      <td>s_0</td>\n",
       "      <td>ct_1</td>\n",
       "    </tr>\n",
       "    <tr>\n",
       "      <th>679356</th>\n",
       "      <td>1_459</td>\n",
       "      <td>2021-12-14 10:10:02.741338</td>\n",
       "      <td>s_134184</td>\n",
       "      <td>c_120</td>\n",
       "    </tr>\n",
       "    <tr>\n",
       "      <th>679436</th>\n",
       "      <td>1_456</td>\n",
       "      <td>2022-03-24 06:42:14.381510</td>\n",
       "      <td>s_183690</td>\n",
       "      <td>c_4222</td>\n",
       "    </tr>\n",
       "  </tbody>\n",
       "</table>\n",
       "<p>1852 rows × 4 columns</p>\n",
       "</div>"
      ],
      "text/plain": [
       "       id_prod                             date session_id client_id\n",
       "582     0_1123       2021-04-29 21:21:22.708928    s_27641    c_4459\n",
       "889     0_1335       2023-02-01 18:55:40.983876   s_335537    c_4561\n",
       "1193    0_1424       2021-03-20 05:24:33.132965     s_8842    c_4595\n",
       "1278     1_397       2022-05-17 05:45:19.203870   s_209799     c_915\n",
       "1292    0_1361       2022-04-24 20:56:36.206670   s_198937    c_1784\n",
       "...        ...                              ...        ...       ...\n",
       "677618  0_1561       2021-06-21 05:30:53.999603    s_51611    c_8596\n",
       "678160  0_2267       2021-04-01 04:30:02.545268    s_14298    c_7526\n",
       "679180     T_0  test_2021-03-01 02:30:02.237425        s_0      ct_1\n",
       "679356   1_459       2021-12-14 10:10:02.741338   s_134184     c_120\n",
       "679436   1_456       2022-03-24 06:42:14.381510   s_183690    c_4222\n",
       "\n",
       "[1852 rows x 4 columns]"
      ]
     },
     "execution_count": 26,
     "metadata": {},
     "output_type": "execute_result"
    }
   ],
   "source": [
    "df1 = df_transactions.loc[df_transactions[['id_prod','session_id','client_id']].duplicated(keep=False),:]\n",
    "df1"
   ]
  },
  {
   "cell_type": "code",
   "execution_count": 27,
   "id": "04cd7c54",
   "metadata": {},
   "outputs": [
    {
     "data": {
      "text/html": [
       "<div>\n",
       "<style scoped>\n",
       "    .dataframe tbody tr th:only-of-type {\n",
       "        vertical-align: middle;\n",
       "    }\n",
       "\n",
       "    .dataframe tbody tr th {\n",
       "        vertical-align: top;\n",
       "    }\n",
       "\n",
       "    .dataframe thead th {\n",
       "        text-align: right;\n",
       "    }\n",
       "</style>\n",
       "<table border=\"1\" class=\"dataframe\">\n",
       "  <thead>\n",
       "    <tr style=\"text-align: right;\">\n",
       "      <th></th>\n",
       "      <th>id_prod</th>\n",
       "      <th>date</th>\n",
       "      <th>session_id</th>\n",
       "      <th>client_id</th>\n",
       "    </tr>\n",
       "  </thead>\n",
       "  <tbody>\n",
       "    <tr>\n",
       "      <th>104823</th>\n",
       "      <td>0_0</td>\n",
       "      <td>2021-07-28 10:29:00.318720</td>\n",
       "      <td>s_68191</td>\n",
       "      <td>c_3076</td>\n",
       "    </tr>\n",
       "    <tr>\n",
       "      <th>278049</th>\n",
       "      <td>0_0</td>\n",
       "      <td>2022-11-23 17:57:00.986667</td>\n",
       "      <td>s_301707</td>\n",
       "      <td>c_1801</td>\n",
       "    </tr>\n",
       "    <tr>\n",
       "      <th>494937</th>\n",
       "      <td>0_0</td>\n",
       "      <td>2022-03-21 10:46:39.376835</td>\n",
       "      <td>s_182261</td>\n",
       "      <td>c_8026</td>\n",
       "    </tr>\n",
       "    <tr>\n",
       "      <th>300057</th>\n",
       "      <td>0_0</td>\n",
       "      <td>2023-01-13 21:00:41.856032</td>\n",
       "      <td>s_326436</td>\n",
       "      <td>c_5564</td>\n",
       "    </tr>\n",
       "    <tr>\n",
       "      <th>571099</th>\n",
       "      <td>0_0</td>\n",
       "      <td>2022-01-27 00:36:59.326960</td>\n",
       "      <td>s_155711</td>\n",
       "      <td>c_6581</td>\n",
       "    </tr>\n",
       "    <tr>\n",
       "      <th>...</th>\n",
       "      <td>...</td>\n",
       "      <td>...</td>\n",
       "      <td>...</td>\n",
       "      <td>...</td>\n",
       "    </tr>\n",
       "    <tr>\n",
       "      <th>514953</th>\n",
       "      <td>T_0</td>\n",
       "      <td>test_2021-03-01 02:30:02.237442</td>\n",
       "      <td>s_0</td>\n",
       "      <td>ct_0</td>\n",
       "    </tr>\n",
       "    <tr>\n",
       "      <th>134253</th>\n",
       "      <td>T_0</td>\n",
       "      <td>test_2021-03-01 02:30:02.237435</td>\n",
       "      <td>s_0</td>\n",
       "      <td>ct_0</td>\n",
       "    </tr>\n",
       "    <tr>\n",
       "      <th>345831</th>\n",
       "      <td>T_0</td>\n",
       "      <td>test_2021-03-01 02:30:02.237429</td>\n",
       "      <td>s_0</td>\n",
       "      <td>ct_0</td>\n",
       "    </tr>\n",
       "    <tr>\n",
       "      <th>9668</th>\n",
       "      <td>T_0</td>\n",
       "      <td>test_2021-03-01 02:30:02.237437</td>\n",
       "      <td>s_0</td>\n",
       "      <td>ct_1</td>\n",
       "    </tr>\n",
       "    <tr>\n",
       "      <th>589180</th>\n",
       "      <td>T_0</td>\n",
       "      <td>test_2021-03-01 02:30:02.237443</td>\n",
       "      <td>s_0</td>\n",
       "      <td>ct_1</td>\n",
       "    </tr>\n",
       "  </tbody>\n",
       "</table>\n",
       "<p>679514 rows × 4 columns</p>\n",
       "</div>"
      ],
      "text/plain": [
       "       id_prod                             date session_id client_id\n",
       "104823     0_0       2021-07-28 10:29:00.318720    s_68191    c_3076\n",
       "278049     0_0       2022-11-23 17:57:00.986667   s_301707    c_1801\n",
       "494937     0_0       2022-03-21 10:46:39.376835   s_182261    c_8026\n",
       "300057     0_0       2023-01-13 21:00:41.856032   s_326436    c_5564\n",
       "571099     0_0       2022-01-27 00:36:59.326960   s_155711    c_6581\n",
       "...        ...                              ...        ...       ...\n",
       "514953     T_0  test_2021-03-01 02:30:02.237442        s_0      ct_0\n",
       "134253     T_0  test_2021-03-01 02:30:02.237435        s_0      ct_0\n",
       "345831     T_0  test_2021-03-01 02:30:02.237429        s_0      ct_0\n",
       "9668       T_0  test_2021-03-01 02:30:02.237437        s_0      ct_1\n",
       "589180     T_0  test_2021-03-01 02:30:02.237443        s_0      ct_1\n",
       "\n",
       "[679514 rows x 4 columns]"
      ]
     },
     "metadata": {},
     "output_type": "display_data"
    },
    {
     "name": "stdout",
     "output_type": "stream",
     "text": [
      "1 client peut faire plusieurs achats de plusieurs produits sur une session, 1 client peut aussi faire plusieurs sessions achats\n"
     ]
    }
   ],
   "source": [
    "#Recherche et regroupement des duplicats\n",
    "display(df_transactions[df_transactions.duplicated(['id_prod'], keep= False)].sort_values(by=['id_prod']))\n",
    "print(\"1 client peut faire plusieurs achats de plusieurs produits sur une session, 1 client peut aussi faire plusieurs sessions achats\")"
   ]
  },
  {
   "cell_type": "markdown",
   "id": "a8b5ae3f",
   "metadata": {},
   "source": [
    "## Anomalie de la session de Test S_0"
   ]
  },
  {
   "cell_type": "code",
   "execution_count": 28,
   "id": "c4e596cd",
   "metadata": {},
   "outputs": [
    {
     "data": {
      "text/html": [
       "<div>\n",
       "<style scoped>\n",
       "    .dataframe tbody tr th:only-of-type {\n",
       "        vertical-align: middle;\n",
       "    }\n",
       "\n",
       "    .dataframe tbody tr th {\n",
       "        vertical-align: top;\n",
       "    }\n",
       "\n",
       "    .dataframe thead th {\n",
       "        text-align: right;\n",
       "    }\n",
       "</style>\n",
       "<table border=\"1\" class=\"dataframe\">\n",
       "  <thead>\n",
       "    <tr style=\"text-align: right;\">\n",
       "      <th></th>\n",
       "      <th>id_prod</th>\n",
       "      <th>date</th>\n",
       "      <th>session_id</th>\n",
       "      <th>client_id</th>\n",
       "    </tr>\n",
       "  </thead>\n",
       "  <tbody>\n",
       "    <tr>\n",
       "      <th>3019</th>\n",
       "      <td>T_0</td>\n",
       "      <td>test_2021-03-01 02:30:02.237419</td>\n",
       "      <td>s_0</td>\n",
       "      <td>ct_0</td>\n",
       "    </tr>\n",
       "    <tr>\n",
       "      <th>5138</th>\n",
       "      <td>T_0</td>\n",
       "      <td>test_2021-03-01 02:30:02.237425</td>\n",
       "      <td>s_0</td>\n",
       "      <td>ct_0</td>\n",
       "    </tr>\n",
       "    <tr>\n",
       "      <th>9668</th>\n",
       "      <td>T_0</td>\n",
       "      <td>test_2021-03-01 02:30:02.237437</td>\n",
       "      <td>s_0</td>\n",
       "      <td>ct_1</td>\n",
       "    </tr>\n",
       "    <tr>\n",
       "      <th>10728</th>\n",
       "      <td>T_0</td>\n",
       "      <td>test_2021-03-01 02:30:02.237436</td>\n",
       "      <td>s_0</td>\n",
       "      <td>ct_0</td>\n",
       "    </tr>\n",
       "    <tr>\n",
       "      <th>15292</th>\n",
       "      <td>T_0</td>\n",
       "      <td>test_2021-03-01 02:30:02.237430</td>\n",
       "      <td>s_0</td>\n",
       "      <td>ct_0</td>\n",
       "    </tr>\n",
       "    <tr>\n",
       "      <th>...</th>\n",
       "      <td>...</td>\n",
       "      <td>...</td>\n",
       "      <td>...</td>\n",
       "      <td>...</td>\n",
       "    </tr>\n",
       "    <tr>\n",
       "      <th>657830</th>\n",
       "      <td>T_0</td>\n",
       "      <td>test_2021-03-01 02:30:02.237417</td>\n",
       "      <td>s_0</td>\n",
       "      <td>ct_0</td>\n",
       "    </tr>\n",
       "    <tr>\n",
       "      <th>662081</th>\n",
       "      <td>T_0</td>\n",
       "      <td>test_2021-03-01 02:30:02.237427</td>\n",
       "      <td>s_0</td>\n",
       "      <td>ct_1</td>\n",
       "    </tr>\n",
       "    <tr>\n",
       "      <th>670680</th>\n",
       "      <td>T_0</td>\n",
       "      <td>test_2021-03-01 02:30:02.237449</td>\n",
       "      <td>s_0</td>\n",
       "      <td>ct_1</td>\n",
       "    </tr>\n",
       "    <tr>\n",
       "      <th>671647</th>\n",
       "      <td>T_0</td>\n",
       "      <td>test_2021-03-01 02:30:02.237424</td>\n",
       "      <td>s_0</td>\n",
       "      <td>ct_1</td>\n",
       "    </tr>\n",
       "    <tr>\n",
       "      <th>679180</th>\n",
       "      <td>T_0</td>\n",
       "      <td>test_2021-03-01 02:30:02.237425</td>\n",
       "      <td>s_0</td>\n",
       "      <td>ct_1</td>\n",
       "    </tr>\n",
       "  </tbody>\n",
       "</table>\n",
       "<p>200 rows × 4 columns</p>\n",
       "</div>"
      ],
      "text/plain": [
       "       id_prod                             date session_id client_id\n",
       "3019       T_0  test_2021-03-01 02:30:02.237419        s_0      ct_0\n",
       "5138       T_0  test_2021-03-01 02:30:02.237425        s_0      ct_0\n",
       "9668       T_0  test_2021-03-01 02:30:02.237437        s_0      ct_1\n",
       "10728      T_0  test_2021-03-01 02:30:02.237436        s_0      ct_0\n",
       "15292      T_0  test_2021-03-01 02:30:02.237430        s_0      ct_0\n",
       "...        ...                              ...        ...       ...\n",
       "657830     T_0  test_2021-03-01 02:30:02.237417        s_0      ct_0\n",
       "662081     T_0  test_2021-03-01 02:30:02.237427        s_0      ct_1\n",
       "670680     T_0  test_2021-03-01 02:30:02.237449        s_0      ct_1\n",
       "671647     T_0  test_2021-03-01 02:30:02.237424        s_0      ct_1\n",
       "679180     T_0  test_2021-03-01 02:30:02.237425        s_0      ct_1\n",
       "\n",
       "[200 rows x 4 columns]"
      ]
     },
     "metadata": {},
     "output_type": "display_data"
    },
    {
     "name": "stdout",
     "output_type": "stream",
     "text": [
      "Il y a 200 transactions test\n"
     ]
    }
   ],
   "source": [
    "# La session S_0 regroupe les valeurs dates test session S_0 concernant des clients ct_0 et ct_1 en date test_2021-03-01\n",
    "\n",
    "df_transaction_test=df_transactions[df_transactions.id_prod == 'T_0']\n",
    "display(df_transaction_test)\n",
    "print(\"Il y a 200 transactions test\")"
   ]
  },
  {
   "cell_type": "code",
   "execution_count": 29,
   "id": "e3bf63ab",
   "metadata": {},
   "outputs": [
    {
     "name": "stdout",
     "output_type": "stream",
     "text": [
      " la date test_2021-03-01 concerne des achats de client_id ct_0 femme et ct_1 homme id_prod T_0. Nous devons donc enlever les clients ct_0 et ct_1 du df_customers\n"
     ]
    }
   ],
   "source": [
    "#On choisis de supprimer ces valeurs test pour ne pas biaiser l'analyse\n",
    "df_transactions=df_transactions[df_transactions.id_prod != 'T_0']\n",
    "\n",
    "print(\" la date test_2021-03-01 concerne des achats de client_id ct_0 femme et ct_1 homme id_prod T_0. Nous devons donc enlever les clients ct_0 et ct_1 du df_customers\")"
   ]
  },
  {
   "cell_type": "code",
   "execution_count": 30,
   "id": "336b4776",
   "metadata": {},
   "outputs": [
    {
     "data": {
      "text/html": [
       "<div>\n",
       "<style scoped>\n",
       "    .dataframe tbody tr th:only-of-type {\n",
       "        vertical-align: middle;\n",
       "    }\n",
       "\n",
       "    .dataframe tbody tr th {\n",
       "        vertical-align: top;\n",
       "    }\n",
       "\n",
       "    .dataframe thead th {\n",
       "        text-align: right;\n",
       "    }\n",
       "</style>\n",
       "<table border=\"1\" class=\"dataframe\">\n",
       "  <thead>\n",
       "    <tr style=\"text-align: right;\">\n",
       "      <th></th>\n",
       "      <th>id_prod</th>\n",
       "      <th>date</th>\n",
       "      <th>session_id</th>\n",
       "      <th>client_id</th>\n",
       "    </tr>\n",
       "  </thead>\n",
       "  <tbody>\n",
       "    <tr>\n",
       "      <th>0</th>\n",
       "      <td>0_1518</td>\n",
       "      <td>2022-05-20 13:21:29</td>\n",
       "      <td>s_211425</td>\n",
       "      <td>c_103</td>\n",
       "    </tr>\n",
       "    <tr>\n",
       "      <th>1</th>\n",
       "      <td>1_251</td>\n",
       "      <td>2022-02-02 07:55:19</td>\n",
       "      <td>s_158752</td>\n",
       "      <td>c_8534</td>\n",
       "    </tr>\n",
       "    <tr>\n",
       "      <th>2</th>\n",
       "      <td>0_1277</td>\n",
       "      <td>2022-06-18 15:44:33</td>\n",
       "      <td>s_225667</td>\n",
       "      <td>c_6714</td>\n",
       "    </tr>\n",
       "    <tr>\n",
       "      <th>3</th>\n",
       "      <td>2_209</td>\n",
       "      <td>2021-06-24 04:19:29</td>\n",
       "      <td>s_52962</td>\n",
       "      <td>c_6941</td>\n",
       "    </tr>\n",
       "    <tr>\n",
       "      <th>4</th>\n",
       "      <td>0_1509</td>\n",
       "      <td>2023-01-11 08:22:08</td>\n",
       "      <td>s_325227</td>\n",
       "      <td>c_4232</td>\n",
       "    </tr>\n",
       "  </tbody>\n",
       "</table>\n",
       "</div>"
      ],
      "text/plain": [
       "  id_prod                 date session_id client_id\n",
       "0  0_1518  2022-05-20 13:21:29   s_211425     c_103\n",
       "1   1_251  2022-02-02 07:55:19   s_158752    c_8534\n",
       "2  0_1277  2022-06-18 15:44:33   s_225667    c_6714\n",
       "3   2_209  2021-06-24 04:19:29    s_52962    c_6941\n",
       "4  0_1509  2023-01-11 08:22:08   s_325227    c_4232"
      ]
     },
     "execution_count": 30,
     "metadata": {},
     "output_type": "execute_result"
    }
   ],
   "source": [
    "#Changement de type de variable en date et du format de date\n",
    "df_transactions['date'] = pd.to_datetime(df_transactions['date'], errors='coerce')\n",
    "df_transactions['date'] = df_transactions[\"date\"].dt.strftime(\"%Y-%m-%d %H:%M:%S\")\n",
    "\n",
    "df_transactions.head()"
   ]
  },
  {
   "cell_type": "code",
   "execution_count": 31,
   "id": "972f3295",
   "metadata": {},
   "outputs": [
    {
     "data": {
      "text/html": [
       "<div>\n",
       "<style scoped>\n",
       "    .dataframe tbody tr th:only-of-type {\n",
       "        vertical-align: middle;\n",
       "    }\n",
       "\n",
       "    .dataframe tbody tr th {\n",
       "        vertical-align: top;\n",
       "    }\n",
       "\n",
       "    .dataframe thead th {\n",
       "        text-align: right;\n",
       "    }\n",
       "</style>\n",
       "<table border=\"1\" class=\"dataframe\">\n",
       "  <thead>\n",
       "    <tr style=\"text-align: right;\">\n",
       "      <th></th>\n",
       "      <th>id_prod</th>\n",
       "      <th>date</th>\n",
       "      <th>session_id</th>\n",
       "      <th>client_id</th>\n",
       "    </tr>\n",
       "  </thead>\n",
       "  <tbody>\n",
       "    <tr>\n",
       "      <th>0</th>\n",
       "      <td>0_1518</td>\n",
       "      <td>2022-05-20 13:21:29</td>\n",
       "      <td>s_211425</td>\n",
       "      <td>c_103</td>\n",
       "    </tr>\n",
       "    <tr>\n",
       "      <th>1</th>\n",
       "      <td>1_251</td>\n",
       "      <td>2022-02-02 07:55:19</td>\n",
       "      <td>s_158752</td>\n",
       "      <td>c_8534</td>\n",
       "    </tr>\n",
       "    <tr>\n",
       "      <th>2</th>\n",
       "      <td>0_1277</td>\n",
       "      <td>2022-06-18 15:44:33</td>\n",
       "      <td>s_225667</td>\n",
       "      <td>c_6714</td>\n",
       "    </tr>\n",
       "    <tr>\n",
       "      <th>3</th>\n",
       "      <td>2_209</td>\n",
       "      <td>2021-06-24 04:19:29</td>\n",
       "      <td>s_52962</td>\n",
       "      <td>c_6941</td>\n",
       "    </tr>\n",
       "    <tr>\n",
       "      <th>4</th>\n",
       "      <td>0_1509</td>\n",
       "      <td>2023-01-11 08:22:08</td>\n",
       "      <td>s_325227</td>\n",
       "      <td>c_4232</td>\n",
       "    </tr>\n",
       "  </tbody>\n",
       "</table>\n",
       "</div>"
      ],
      "text/plain": [
       "  id_prod                 date session_id client_id\n",
       "0  0_1518  2022-05-20 13:21:29   s_211425     c_103\n",
       "1   1_251  2022-02-02 07:55:19   s_158752    c_8534\n",
       "2  0_1277  2022-06-18 15:44:33   s_225667    c_6714\n",
       "3   2_209  2021-06-24 04:19:29    s_52962    c_6941\n",
       "4  0_1509  2023-01-11 08:22:08   s_325227    c_4232"
      ]
     },
     "metadata": {},
     "output_type": "display_data"
    },
    {
     "data": {
      "text/plain": [
       "(679332, 4)"
      ]
     },
     "metadata": {},
     "output_type": "display_data"
    }
   ],
   "source": [
    "display(df_transactions.head())\n",
    "display(df_transactions.shape)"
   ]
  },
  {
   "cell_type": "code",
   "execution_count": 32,
   "id": "b0add1c3",
   "metadata": {},
   "outputs": [],
   "source": [
    "#Suppression des clients test ct_0 et ct_1 dans le df_customers\n",
    "\n",
    "df_customers=df_customers.drop(df_customers[df_customers['client_id'] == 'ct_0'].index)\n",
    "df_customers=df_customers.drop(df_customers[df_customers['client_id'] == 'ct_1'].index)\n"
   ]
  },
  {
   "cell_type": "code",
   "execution_count": 33,
   "id": "542db53a",
   "metadata": {},
   "outputs": [
    {
     "data": {
      "text/html": [
       "<div>\n",
       "<style scoped>\n",
       "    .dataframe tbody tr th:only-of-type {\n",
       "        vertical-align: middle;\n",
       "    }\n",
       "\n",
       "    .dataframe tbody tr th {\n",
       "        vertical-align: top;\n",
       "    }\n",
       "\n",
       "    .dataframe thead th {\n",
       "        text-align: right;\n",
       "    }\n",
       "</style>\n",
       "<table border=\"1\" class=\"dataframe\">\n",
       "  <thead>\n",
       "    <tr style=\"text-align: right;\">\n",
       "      <th></th>\n",
       "      <th>client_id</th>\n",
       "      <th>sex</th>\n",
       "      <th>birth</th>\n",
       "    </tr>\n",
       "  </thead>\n",
       "  <tbody>\n",
       "    <tr>\n",
       "      <th>0</th>\n",
       "      <td>c_4410</td>\n",
       "      <td>f</td>\n",
       "      <td>1967</td>\n",
       "    </tr>\n",
       "    <tr>\n",
       "      <th>1</th>\n",
       "      <td>c_7839</td>\n",
       "      <td>f</td>\n",
       "      <td>1975</td>\n",
       "    </tr>\n",
       "    <tr>\n",
       "      <th>2</th>\n",
       "      <td>c_1699</td>\n",
       "      <td>f</td>\n",
       "      <td>1984</td>\n",
       "    </tr>\n",
       "    <tr>\n",
       "      <th>3</th>\n",
       "      <td>c_5961</td>\n",
       "      <td>f</td>\n",
       "      <td>1962</td>\n",
       "    </tr>\n",
       "    <tr>\n",
       "      <th>4</th>\n",
       "      <td>c_5320</td>\n",
       "      <td>m</td>\n",
       "      <td>1943</td>\n",
       "    </tr>\n",
       "  </tbody>\n",
       "</table>\n",
       "</div>"
      ],
      "text/plain": [
       "  client_id sex  birth\n",
       "0    c_4410   f   1967\n",
       "1    c_7839   f   1975\n",
       "2    c_1699   f   1984\n",
       "3    c_5961   f   1962\n",
       "4    c_5320   m   1943"
      ]
     },
     "execution_count": 33,
     "metadata": {},
     "output_type": "execute_result"
    }
   ],
   "source": [
    "df_customers.head()"
   ]
  },
  {
   "cell_type": "code",
   "execution_count": 34,
   "id": "72e88014",
   "metadata": {},
   "outputs": [
    {
     "data": {
      "text/plain": [
       "client_id    object\n",
       "sex          object\n",
       "birth         int64\n",
       "dtype: object"
      ]
     },
     "execution_count": 34,
     "metadata": {},
     "output_type": "execute_result"
    }
   ],
   "source": [
    "df_customers.dtypes"
   ]
  },
  {
   "cell_type": "code",
   "execution_count": 35,
   "id": "9966a3a4",
   "metadata": {},
   "outputs": [
    {
     "data": {
      "text/html": [
       "<div>\n",
       "<style scoped>\n",
       "    .dataframe tbody tr th:only-of-type {\n",
       "        vertical-align: middle;\n",
       "    }\n",
       "\n",
       "    .dataframe tbody tr th {\n",
       "        vertical-align: top;\n",
       "    }\n",
       "\n",
       "    .dataframe thead th {\n",
       "        text-align: right;\n",
       "    }\n",
       "</style>\n",
       "<table border=\"1\" class=\"dataframe\">\n",
       "  <thead>\n",
       "    <tr style=\"text-align: right;\">\n",
       "      <th></th>\n",
       "      <th>client_id</th>\n",
       "      <th>sex</th>\n",
       "      <th>birth</th>\n",
       "      <th>age</th>\n",
       "    </tr>\n",
       "  </thead>\n",
       "  <tbody>\n",
       "    <tr>\n",
       "      <th>0</th>\n",
       "      <td>c_4410</td>\n",
       "      <td>f</td>\n",
       "      <td>1967</td>\n",
       "      <td>55</td>\n",
       "    </tr>\n",
       "    <tr>\n",
       "      <th>1</th>\n",
       "      <td>c_7839</td>\n",
       "      <td>f</td>\n",
       "      <td>1975</td>\n",
       "      <td>47</td>\n",
       "    </tr>\n",
       "    <tr>\n",
       "      <th>2</th>\n",
       "      <td>c_1699</td>\n",
       "      <td>f</td>\n",
       "      <td>1984</td>\n",
       "      <td>38</td>\n",
       "    </tr>\n",
       "    <tr>\n",
       "      <th>3</th>\n",
       "      <td>c_5961</td>\n",
       "      <td>f</td>\n",
       "      <td>1962</td>\n",
       "      <td>60</td>\n",
       "    </tr>\n",
       "    <tr>\n",
       "      <th>4</th>\n",
       "      <td>c_5320</td>\n",
       "      <td>m</td>\n",
       "      <td>1943</td>\n",
       "      <td>79</td>\n",
       "    </tr>\n",
       "  </tbody>\n",
       "</table>\n",
       "</div>"
      ],
      "text/plain": [
       "  client_id sex  birth  age\n",
       "0    c_4410   f   1967   55\n",
       "1    c_7839   f   1975   47\n",
       "2    c_1699   f   1984   38\n",
       "3    c_5961   f   1962   60\n",
       "4    c_5320   m   1943   79"
      ]
     },
     "execution_count": 35,
     "metadata": {},
     "output_type": "execute_result"
    }
   ],
   "source": [
    "#Ajout de la colonne age \n",
    "df_customers['age']=(pd.to_datetime('today').year-df_customers['birth'])\n",
    "df_customers.head()"
   ]
  },
  {
   "cell_type": "code",
   "execution_count": 36,
   "id": "94c8f21f",
   "metadata": {},
   "outputs": [
    {
     "data": {
      "text/plain": [
       "([<matplotlib.patches.Wedge at 0x1fddf8214c0>,\n",
       "  <matplotlib.patches.Wedge at 0x1fddf821be0>],\n",
       " [Text(-0.07190185494341694, 1.0976475405409953, 'f'),\n",
       "  Text(0.0719019577125963, -1.097647533809053, 'm')],\n",
       " [Text(-0.03921919360550014, 0.5987168402950883, '52.08%'),\n",
       "  Text(0.03921924966141616, -0.5987168366231197, '47.92%')])"
      ]
     },
     "execution_count": 36,
     "metadata": {},
     "output_type": "execute_result"
    },
    {
     "data": {
      "image/png": "[encoded data removed]",
      "text/plain": [
       "<Figure size 432x288 with 1 Axes>"
      ]
     },
     "metadata": {},
     "output_type": "display_data"
    }
   ],
   "source": [
    "genre_client = df_customers.groupby('sex').size().reset_index()\n",
    "genre_client.columns = ['sex','nombre']\n",
    "plt.pie(x=genre_client['nombre'], labels=genre_client['sex'], autopct='%.2f%%')"
   ]
  },
  {
   "cell_type": "markdown",
   "id": "f4537367",
   "metadata": {},
   "source": [
    "# Jointures des fichiers"
   ]
  },
  {
   "cell_type": "code",
   "execution_count": 37,
   "id": "cfd6c8f1",
   "metadata": {},
   "outputs": [
    {
     "data": {
      "text/html": [
       "<div>\n",
       "<style scoped>\n",
       "    .dataframe tbody tr th:only-of-type {\n",
       "        vertical-align: middle;\n",
       "    }\n",
       "\n",
       "    .dataframe tbody tr th {\n",
       "        vertical-align: top;\n",
       "    }\n",
       "\n",
       "    .dataframe thead th {\n",
       "        text-align: right;\n",
       "    }\n",
       "</style>\n",
       "<table border=\"1\" class=\"dataframe\">\n",
       "  <thead>\n",
       "    <tr style=\"text-align: right;\">\n",
       "      <th></th>\n",
       "      <th>client_id</th>\n",
       "      <th>sex</th>\n",
       "      <th>birth</th>\n",
       "      <th>age</th>\n",
       "    </tr>\n",
       "  </thead>\n",
       "  <tbody>\n",
       "    <tr>\n",
       "      <th>0</th>\n",
       "      <td>c_4410</td>\n",
       "      <td>f</td>\n",
       "      <td>1967</td>\n",
       "      <td>55</td>\n",
       "    </tr>\n",
       "    <tr>\n",
       "      <th>1</th>\n",
       "      <td>c_7839</td>\n",
       "      <td>f</td>\n",
       "      <td>1975</td>\n",
       "      <td>47</td>\n",
       "    </tr>\n",
       "    <tr>\n",
       "      <th>2</th>\n",
       "      <td>c_1699</td>\n",
       "      <td>f</td>\n",
       "      <td>1984</td>\n",
       "      <td>38</td>\n",
       "    </tr>\n",
       "    <tr>\n",
       "      <th>3</th>\n",
       "      <td>c_5961</td>\n",
       "      <td>f</td>\n",
       "      <td>1962</td>\n",
       "      <td>60</td>\n",
       "    </tr>\n",
       "    <tr>\n",
       "      <th>4</th>\n",
       "      <td>c_5320</td>\n",
       "      <td>m</td>\n",
       "      <td>1943</td>\n",
       "      <td>79</td>\n",
       "    </tr>\n",
       "  </tbody>\n",
       "</table>\n",
       "</div>"
      ],
      "text/plain": [
       "  client_id sex  birth  age\n",
       "0    c_4410   f   1967   55\n",
       "1    c_7839   f   1975   47\n",
       "2    c_1699   f   1984   38\n",
       "3    c_5961   f   1962   60\n",
       "4    c_5320   m   1943   79"
      ]
     },
     "execution_count": 37,
     "metadata": {},
     "output_type": "execute_result"
    }
   ],
   "source": [
    "df_customers.head()"
   ]
  },
  {
   "cell_type": "code",
   "execution_count": 38,
   "id": "736a1adc",
   "metadata": {},
   "outputs": [
    {
     "data": {
      "text/html": [
       "<div>\n",
       "<style scoped>\n",
       "    .dataframe tbody tr th:only-of-type {\n",
       "        vertical-align: middle;\n",
       "    }\n",
       "\n",
       "    .dataframe tbody tr th {\n",
       "        vertical-align: top;\n",
       "    }\n",
       "\n",
       "    .dataframe thead th {\n",
       "        text-align: right;\n",
       "    }\n",
       "</style>\n",
       "<table border=\"1\" class=\"dataframe\">\n",
       "  <thead>\n",
       "    <tr style=\"text-align: right;\">\n",
       "      <th></th>\n",
       "      <th>id_prod</th>\n",
       "      <th>date</th>\n",
       "      <th>session_id</th>\n",
       "      <th>client_id</th>\n",
       "    </tr>\n",
       "  </thead>\n",
       "  <tbody>\n",
       "    <tr>\n",
       "      <th>0</th>\n",
       "      <td>0_1518</td>\n",
       "      <td>2022-05-20 13:21:29</td>\n",
       "      <td>s_211425</td>\n",
       "      <td>c_103</td>\n",
       "    </tr>\n",
       "    <tr>\n",
       "      <th>1</th>\n",
       "      <td>1_251</td>\n",
       "      <td>2022-02-02 07:55:19</td>\n",
       "      <td>s_158752</td>\n",
       "      <td>c_8534</td>\n",
       "    </tr>\n",
       "    <tr>\n",
       "      <th>2</th>\n",
       "      <td>0_1277</td>\n",
       "      <td>2022-06-18 15:44:33</td>\n",
       "      <td>s_225667</td>\n",
       "      <td>c_6714</td>\n",
       "    </tr>\n",
       "    <tr>\n",
       "      <th>3</th>\n",
       "      <td>2_209</td>\n",
       "      <td>2021-06-24 04:19:29</td>\n",
       "      <td>s_52962</td>\n",
       "      <td>c_6941</td>\n",
       "    </tr>\n",
       "    <tr>\n",
       "      <th>4</th>\n",
       "      <td>0_1509</td>\n",
       "      <td>2023-01-11 08:22:08</td>\n",
       "      <td>s_325227</td>\n",
       "      <td>c_4232</td>\n",
       "    </tr>\n",
       "  </tbody>\n",
       "</table>\n",
       "</div>"
      ],
      "text/plain": [
       "  id_prod                 date session_id client_id\n",
       "0  0_1518  2022-05-20 13:21:29   s_211425     c_103\n",
       "1   1_251  2022-02-02 07:55:19   s_158752    c_8534\n",
       "2  0_1277  2022-06-18 15:44:33   s_225667    c_6714\n",
       "3   2_209  2021-06-24 04:19:29    s_52962    c_6941\n",
       "4  0_1509  2023-01-11 08:22:08   s_325227    c_4232"
      ]
     },
     "execution_count": 38,
     "metadata": {},
     "output_type": "execute_result"
    }
   ],
   "source": [
    "df_transactions.head()"
   ]
  },
  {
   "cell_type": "code",
   "execution_count": 39,
   "id": "f0e9063c",
   "metadata": {},
   "outputs": [
    {
     "data": {
      "text/html": [
       "<div>\n",
       "<style scoped>\n",
       "    .dataframe tbody tr th:only-of-type {\n",
       "        vertical-align: middle;\n",
       "    }\n",
       "\n",
       "    .dataframe tbody tr th {\n",
       "        vertical-align: top;\n",
       "    }\n",
       "\n",
       "    .dataframe thead th {\n",
       "        text-align: right;\n",
       "    }\n",
       "</style>\n",
       "<table border=\"1\" class=\"dataframe\">\n",
       "  <thead>\n",
       "    <tr style=\"text-align: right;\">\n",
       "      <th></th>\n",
       "      <th>client_id</th>\n",
       "      <th>sex</th>\n",
       "      <th>birth</th>\n",
       "      <th>age</th>\n",
       "      <th>id_prod</th>\n",
       "      <th>date</th>\n",
       "      <th>session_id</th>\n",
       "      <th>_merge</th>\n",
       "    </tr>\n",
       "  </thead>\n",
       "  <tbody>\n",
       "    <tr>\n",
       "      <th>0</th>\n",
       "      <td>c_103</td>\n",
       "      <td>f</td>\n",
       "      <td>1986</td>\n",
       "      <td>36</td>\n",
       "      <td>0_1518</td>\n",
       "      <td>2022-05-20 13:21:29</td>\n",
       "      <td>s_211425</td>\n",
       "      <td>both</td>\n",
       "    </tr>\n",
       "    <tr>\n",
       "      <th>1</th>\n",
       "      <td>c_8534</td>\n",
       "      <td>m</td>\n",
       "      <td>1988</td>\n",
       "      <td>34</td>\n",
       "      <td>1_251</td>\n",
       "      <td>2022-02-02 07:55:19</td>\n",
       "      <td>s_158752</td>\n",
       "      <td>both</td>\n",
       "    </tr>\n",
       "    <tr>\n",
       "      <th>2</th>\n",
       "      <td>c_6714</td>\n",
       "      <td>f</td>\n",
       "      <td>1968</td>\n",
       "      <td>54</td>\n",
       "      <td>0_1277</td>\n",
       "      <td>2022-06-18 15:44:33</td>\n",
       "      <td>s_225667</td>\n",
       "      <td>both</td>\n",
       "    </tr>\n",
       "    <tr>\n",
       "      <th>3</th>\n",
       "      <td>c_6941</td>\n",
       "      <td>m</td>\n",
       "      <td>2000</td>\n",
       "      <td>22</td>\n",
       "      <td>2_209</td>\n",
       "      <td>2021-06-24 04:19:29</td>\n",
       "      <td>s_52962</td>\n",
       "      <td>both</td>\n",
       "    </tr>\n",
       "    <tr>\n",
       "      <th>4</th>\n",
       "      <td>c_4232</td>\n",
       "      <td>m</td>\n",
       "      <td>1980</td>\n",
       "      <td>42</td>\n",
       "      <td>0_1509</td>\n",
       "      <td>2023-01-11 08:22:08</td>\n",
       "      <td>s_325227</td>\n",
       "      <td>both</td>\n",
       "    </tr>\n",
       "  </tbody>\n",
       "</table>\n",
       "</div>"
      ],
      "text/plain": [
       "  client_id sex  birth  age id_prod                 date session_id _merge\n",
       "0     c_103   f   1986   36  0_1518  2022-05-20 13:21:29   s_211425   both\n",
       "1    c_8534   m   1988   34   1_251  2022-02-02 07:55:19   s_158752   both\n",
       "2    c_6714   f   1968   54  0_1277  2022-06-18 15:44:33   s_225667   both\n",
       "3    c_6941   m   2000   22   2_209  2021-06-24 04:19:29    s_52962   both\n",
       "4    c_4232   m   1980   42  0_1509  2023-01-11 08:22:08   s_325227   both"
      ]
     },
     "execution_count": 39,
     "metadata": {},
     "output_type": "execute_result"
    }
   ],
   "source": [
    "#Jointure des fichiers df_customers & transactions\n",
    "df_customers_transactions=pd.merge(df_customers, df_transactions, on='client_id', how= 'right', indicator=True)\n",
    "df_customers_transactions.head()"
   ]
  },
  {
   "cell_type": "code",
   "execution_count": 40,
   "id": "5bcdd71d",
   "metadata": {},
   "outputs": [
    {
     "data": {
      "text/plain": [
       "both          679332\n",
       "left_only          0\n",
       "right_only         0\n",
       "Name: _merge, dtype: int64"
      ]
     },
     "execution_count": 40,
     "metadata": {},
     "output_type": "execute_result"
    }
   ],
   "source": [
    "df_customers_transactions['_merge'].value_counts()"
   ]
  },
  {
   "cell_type": "code",
   "execution_count": 41,
   "id": "6765b104",
   "metadata": {},
   "outputs": [
    {
     "data": {
      "text/html": [
       "<div>\n",
       "<style scoped>\n",
       "    .dataframe tbody tr th:only-of-type {\n",
       "        vertical-align: middle;\n",
       "    }\n",
       "\n",
       "    .dataframe tbody tr th {\n",
       "        vertical-align: top;\n",
       "    }\n",
       "\n",
       "    .dataframe thead th {\n",
       "        text-align: right;\n",
       "    }\n",
       "</style>\n",
       "<table border=\"1\" class=\"dataframe\">\n",
       "  <thead>\n",
       "    <tr style=\"text-align: right;\">\n",
       "      <th></th>\n",
       "      <th>client_id</th>\n",
       "      <th>sex</th>\n",
       "      <th>birth</th>\n",
       "      <th>age</th>\n",
       "      <th>id_prod</th>\n",
       "      <th>date</th>\n",
       "      <th>session_id</th>\n",
       "    </tr>\n",
       "  </thead>\n",
       "  <tbody>\n",
       "    <tr>\n",
       "      <th>0</th>\n",
       "      <td>c_103</td>\n",
       "      <td>f</td>\n",
       "      <td>1986</td>\n",
       "      <td>36</td>\n",
       "      <td>0_1518</td>\n",
       "      <td>2022-05-20 13:21:29</td>\n",
       "      <td>s_211425</td>\n",
       "    </tr>\n",
       "    <tr>\n",
       "      <th>1</th>\n",
       "      <td>c_8534</td>\n",
       "      <td>m</td>\n",
       "      <td>1988</td>\n",
       "      <td>34</td>\n",
       "      <td>1_251</td>\n",
       "      <td>2022-02-02 07:55:19</td>\n",
       "      <td>s_158752</td>\n",
       "    </tr>\n",
       "    <tr>\n",
       "      <th>2</th>\n",
       "      <td>c_6714</td>\n",
       "      <td>f</td>\n",
       "      <td>1968</td>\n",
       "      <td>54</td>\n",
       "      <td>0_1277</td>\n",
       "      <td>2022-06-18 15:44:33</td>\n",
       "      <td>s_225667</td>\n",
       "    </tr>\n",
       "    <tr>\n",
       "      <th>3</th>\n",
       "      <td>c_6941</td>\n",
       "      <td>m</td>\n",
       "      <td>2000</td>\n",
       "      <td>22</td>\n",
       "      <td>2_209</td>\n",
       "      <td>2021-06-24 04:19:29</td>\n",
       "      <td>s_52962</td>\n",
       "    </tr>\n",
       "    <tr>\n",
       "      <th>4</th>\n",
       "      <td>c_4232</td>\n",
       "      <td>m</td>\n",
       "      <td>1980</td>\n",
       "      <td>42</td>\n",
       "      <td>0_1509</td>\n",
       "      <td>2023-01-11 08:22:08</td>\n",
       "      <td>s_325227</td>\n",
       "    </tr>\n",
       "    <tr>\n",
       "      <th>...</th>\n",
       "      <td>...</td>\n",
       "      <td>...</td>\n",
       "      <td>...</td>\n",
       "      <td>...</td>\n",
       "      <td>...</td>\n",
       "      <td>...</td>\n",
       "      <td>...</td>\n",
       "    </tr>\n",
       "    <tr>\n",
       "      <th>679327</th>\n",
       "      <td>c_8489</td>\n",
       "      <td>f</td>\n",
       "      <td>1951</td>\n",
       "      <td>71</td>\n",
       "      <td>0_1551</td>\n",
       "      <td>2022-01-15 13:05:06</td>\n",
       "      <td>s_150195</td>\n",
       "    </tr>\n",
       "    <tr>\n",
       "      <th>679328</th>\n",
       "      <td>c_4370</td>\n",
       "      <td>f</td>\n",
       "      <td>1977</td>\n",
       "      <td>45</td>\n",
       "      <td>1_639</td>\n",
       "      <td>2022-03-19 16:03:23</td>\n",
       "      <td>s_181434</td>\n",
       "    </tr>\n",
       "    <tr>\n",
       "      <th>679329</th>\n",
       "      <td>c_304</td>\n",
       "      <td>f</td>\n",
       "      <td>1988</td>\n",
       "      <td>34</td>\n",
       "      <td>0_1425</td>\n",
       "      <td>2022-12-20 04:33:37</td>\n",
       "      <td>s_314704</td>\n",
       "    </tr>\n",
       "    <tr>\n",
       "      <th>679330</th>\n",
       "      <td>c_2227</td>\n",
       "      <td>m</td>\n",
       "      <td>1986</td>\n",
       "      <td>36</td>\n",
       "      <td>0_1994</td>\n",
       "      <td>2021-07-16 20:36:35</td>\n",
       "      <td>s_63204</td>\n",
       "    </tr>\n",
       "    <tr>\n",
       "      <th>679331</th>\n",
       "      <td>c_3873</td>\n",
       "      <td>m</td>\n",
       "      <td>1995</td>\n",
       "      <td>27</td>\n",
       "      <td>1_523</td>\n",
       "      <td>2022-09-28 01:12:01</td>\n",
       "      <td>s_274568</td>\n",
       "    </tr>\n",
       "  </tbody>\n",
       "</table>\n",
       "<p>679332 rows × 7 columns</p>\n",
       "</div>"
      ],
      "text/plain": [
       "       client_id sex  birth  age id_prod                 date session_id\n",
       "0          c_103   f   1986   36  0_1518  2022-05-20 13:21:29   s_211425\n",
       "1         c_8534   m   1988   34   1_251  2022-02-02 07:55:19   s_158752\n",
       "2         c_6714   f   1968   54  0_1277  2022-06-18 15:44:33   s_225667\n",
       "3         c_6941   m   2000   22   2_209  2021-06-24 04:19:29    s_52962\n",
       "4         c_4232   m   1980   42  0_1509  2023-01-11 08:22:08   s_325227\n",
       "...          ...  ..    ...  ...     ...                  ...        ...\n",
       "679327    c_8489   f   1951   71  0_1551  2022-01-15 13:05:06   s_150195\n",
       "679328    c_4370   f   1977   45   1_639  2022-03-19 16:03:23   s_181434\n",
       "679329     c_304   f   1988   34  0_1425  2022-12-20 04:33:37   s_314704\n",
       "679330    c_2227   m   1986   36  0_1994  2021-07-16 20:36:35    s_63204\n",
       "679331    c_3873   m   1995   27   1_523  2022-09-28 01:12:01   s_274568\n",
       "\n",
       "[679332 rows x 7 columns]"
      ]
     },
     "execution_count": 41,
     "metadata": {},
     "output_type": "execute_result"
    }
   ],
   "source": [
    "#on enlève la colonne _merge\n",
    "df_customers_transactions=df_customers_transactions.drop(['_merge'], axis=1)\n",
    "df_customers_transactions"
   ]
  },
  {
   "cell_type": "code",
   "execution_count": 42,
   "id": "f2dc9fb4",
   "metadata": {},
   "outputs": [
    {
     "data": {
      "text/html": [
       "<div>\n",
       "<style scoped>\n",
       "    .dataframe tbody tr th:only-of-type {\n",
       "        vertical-align: middle;\n",
       "    }\n",
       "\n",
       "    .dataframe tbody tr th {\n",
       "        vertical-align: top;\n",
       "    }\n",
       "\n",
       "    .dataframe thead th {\n",
       "        text-align: right;\n",
       "    }\n",
       "</style>\n",
       "<table border=\"1\" class=\"dataframe\">\n",
       "  <thead>\n",
       "    <tr style=\"text-align: right;\">\n",
       "      <th></th>\n",
       "      <th>id_prod</th>\n",
       "      <th>price</th>\n",
       "      <th>categ</th>\n",
       "      <th>client_id</th>\n",
       "      <th>sex</th>\n",
       "      <th>birth</th>\n",
       "      <th>age</th>\n",
       "      <th>date</th>\n",
       "      <th>session_id</th>\n",
       "      <th>_merge</th>\n",
       "    </tr>\n",
       "  </thead>\n",
       "  <tbody>\n",
       "    <tr>\n",
       "      <th>0</th>\n",
       "      <td>0_1518</td>\n",
       "      <td>4.18</td>\n",
       "      <td>0</td>\n",
       "      <td>c_103</td>\n",
       "      <td>f</td>\n",
       "      <td>1986</td>\n",
       "      <td>36</td>\n",
       "      <td>2022-05-20 13:21:29</td>\n",
       "      <td>s_211425</td>\n",
       "      <td>both</td>\n",
       "    </tr>\n",
       "    <tr>\n",
       "      <th>1</th>\n",
       "      <td>1_251</td>\n",
       "      <td>15.99</td>\n",
       "      <td>1</td>\n",
       "      <td>c_8534</td>\n",
       "      <td>m</td>\n",
       "      <td>1988</td>\n",
       "      <td>34</td>\n",
       "      <td>2022-02-02 07:55:19</td>\n",
       "      <td>s_158752</td>\n",
       "      <td>both</td>\n",
       "    </tr>\n",
       "    <tr>\n",
       "      <th>2</th>\n",
       "      <td>0_1277</td>\n",
       "      <td>7.99</td>\n",
       "      <td>0</td>\n",
       "      <td>c_6714</td>\n",
       "      <td>f</td>\n",
       "      <td>1968</td>\n",
       "      <td>54</td>\n",
       "      <td>2022-06-18 15:44:33</td>\n",
       "      <td>s_225667</td>\n",
       "      <td>both</td>\n",
       "    </tr>\n",
       "    <tr>\n",
       "      <th>3</th>\n",
       "      <td>2_209</td>\n",
       "      <td>69.99</td>\n",
       "      <td>2</td>\n",
       "      <td>c_6941</td>\n",
       "      <td>m</td>\n",
       "      <td>2000</td>\n",
       "      <td>22</td>\n",
       "      <td>2021-06-24 04:19:29</td>\n",
       "      <td>s_52962</td>\n",
       "      <td>both</td>\n",
       "    </tr>\n",
       "    <tr>\n",
       "      <th>4</th>\n",
       "      <td>0_1509</td>\n",
       "      <td>4.99</td>\n",
       "      <td>0</td>\n",
       "      <td>c_4232</td>\n",
       "      <td>m</td>\n",
       "      <td>1980</td>\n",
       "      <td>42</td>\n",
       "      <td>2023-01-11 08:22:08</td>\n",
       "      <td>s_325227</td>\n",
       "      <td>both</td>\n",
       "    </tr>\n",
       "  </tbody>\n",
       "</table>\n",
       "</div>"
      ],
      "text/plain": [
       "  id_prod  price categ client_id sex  birth  age                 date  \\\n",
       "0  0_1518   4.18     0     c_103   f   1986   36  2022-05-20 13:21:29   \n",
       "1   1_251  15.99     1    c_8534   m   1988   34  2022-02-02 07:55:19   \n",
       "2  0_1277   7.99     0    c_6714   f   1968   54  2022-06-18 15:44:33   \n",
       "3   2_209  69.99     2    c_6941   m   2000   22  2021-06-24 04:19:29   \n",
       "4  0_1509   4.99     0    c_4232   m   1980   42  2023-01-11 08:22:08   \n",
       "\n",
       "  session_id _merge  \n",
       "0   s_211425   both  \n",
       "1   s_158752   both  \n",
       "2   s_225667   both  \n",
       "3    s_52962   both  \n",
       "4   s_325227   both  "
      ]
     },
     "metadata": {},
     "output_type": "display_data"
    },
    {
     "data": {
      "text/plain": [
       "(679332, 10)"
      ]
     },
     "metadata": {},
     "output_type": "display_data"
    }
   ],
   "source": [
    "#Jointure df products et customers_transactions\n",
    "df_merge= pd.merge(df_products,df_customers_transactions, on='id_prod', how='right', indicator= True)\n",
    "display(df_merge.head())\n",
    "display(df_merge.shape)"
   ]
  },
  {
   "cell_type": "code",
   "execution_count": 43,
   "id": "e1d3be67",
   "metadata": {},
   "outputs": [
    {
     "data": {
      "text/plain": [
       "count    679111.000000\n",
       "mean         17.454773\n",
       "std          18.328998\n",
       "min           0.620000\n",
       "25%           8.870000\n",
       "50%          13.990000\n",
       "75%          18.990000\n",
       "max         300.000000\n",
       "Name: price, dtype: float64"
      ]
     },
     "execution_count": 43,
     "metadata": {},
     "output_type": "execute_result"
    }
   ],
   "source": [
    "df_merge['price'].describe()"
   ]
  },
  {
   "cell_type": "code",
   "execution_count": 44,
   "id": "e1b9d15f",
   "metadata": {},
   "outputs": [
    {
     "data": {
      "text/plain": [
       "both          679111\n",
       "right_only       221\n",
       "left_only          0\n",
       "Name: _merge, dtype: int64"
      ]
     },
     "execution_count": 44,
     "metadata": {},
     "output_type": "execute_result"
    }
   ],
   "source": [
    "df_merge['_merge'].value_counts()"
   ]
  },
  {
   "cell_type": "code",
   "execution_count": 45,
   "id": "6bf97e92",
   "metadata": {},
   "outputs": [
    {
     "data": {
      "text/html": [
       "<div>\n",
       "<style scoped>\n",
       "    .dataframe tbody tr th:only-of-type {\n",
       "        vertical-align: middle;\n",
       "    }\n",
       "\n",
       "    .dataframe tbody tr th {\n",
       "        vertical-align: top;\n",
       "    }\n",
       "\n",
       "    .dataframe thead th {\n",
       "        text-align: right;\n",
       "    }\n",
       "</style>\n",
       "<table border=\"1\" class=\"dataframe\">\n",
       "  <thead>\n",
       "    <tr style=\"text-align: right;\">\n",
       "      <th></th>\n",
       "      <th>id_prod</th>\n",
       "      <th>price</th>\n",
       "      <th>categ</th>\n",
       "      <th>client_id</th>\n",
       "      <th>sex</th>\n",
       "      <th>birth</th>\n",
       "      <th>age</th>\n",
       "      <th>date</th>\n",
       "      <th>session_id</th>\n",
       "      <th>_merge</th>\n",
       "    </tr>\n",
       "  </thead>\n",
       "  <tbody>\n",
       "    <tr>\n",
       "      <th>2633</th>\n",
       "      <td>0_2245</td>\n",
       "      <td>NaN</td>\n",
       "      <td>NaN</td>\n",
       "      <td>c_4746</td>\n",
       "      <td>m</td>\n",
       "      <td>1940</td>\n",
       "      <td>82</td>\n",
       "      <td>2022-09-23 07:22:38</td>\n",
       "      <td>s_272266</td>\n",
       "      <td>right_only</td>\n",
       "    </tr>\n",
       "    <tr>\n",
       "      <th>10103</th>\n",
       "      <td>0_2245</td>\n",
       "      <td>NaN</td>\n",
       "      <td>NaN</td>\n",
       "      <td>c_6713</td>\n",
       "      <td>f</td>\n",
       "      <td>1963</td>\n",
       "      <td>59</td>\n",
       "      <td>2022-07-23 09:24:14</td>\n",
       "      <td>s_242482</td>\n",
       "      <td>right_only</td>\n",
       "    </tr>\n",
       "    <tr>\n",
       "      <th>11723</th>\n",
       "      <td>0_2245</td>\n",
       "      <td>NaN</td>\n",
       "      <td>NaN</td>\n",
       "      <td>c_5108</td>\n",
       "      <td>m</td>\n",
       "      <td>1978</td>\n",
       "      <td>44</td>\n",
       "      <td>2022-12-03 03:26:35</td>\n",
       "      <td>s_306338</td>\n",
       "      <td>right_only</td>\n",
       "    </tr>\n",
       "    <tr>\n",
       "      <th>15670</th>\n",
       "      <td>0_2245</td>\n",
       "      <td>NaN</td>\n",
       "      <td>NaN</td>\n",
       "      <td>c_1391</td>\n",
       "      <td>m</td>\n",
       "      <td>1991</td>\n",
       "      <td>31</td>\n",
       "      <td>2021-08-16 11:33:25</td>\n",
       "      <td>s_76493</td>\n",
       "      <td>right_only</td>\n",
       "    </tr>\n",
       "    <tr>\n",
       "      <th>16372</th>\n",
       "      <td>0_2245</td>\n",
       "      <td>NaN</td>\n",
       "      <td>NaN</td>\n",
       "      <td>c_7954</td>\n",
       "      <td>m</td>\n",
       "      <td>1973</td>\n",
       "      <td>49</td>\n",
       "      <td>2022-07-16 05:53:01</td>\n",
       "      <td>s_239078</td>\n",
       "      <td>right_only</td>\n",
       "    </tr>\n",
       "  </tbody>\n",
       "</table>\n",
       "</div>"
      ],
      "text/plain": [
       "      id_prod  price categ client_id sex  birth  age                 date  \\\n",
       "2633   0_2245    NaN   NaN    c_4746   m   1940   82  2022-09-23 07:22:38   \n",
       "10103  0_2245    NaN   NaN    c_6713   f   1963   59  2022-07-23 09:24:14   \n",
       "11723  0_2245    NaN   NaN    c_5108   m   1978   44  2022-12-03 03:26:35   \n",
       "15670  0_2245    NaN   NaN    c_1391   m   1991   31  2021-08-16 11:33:25   \n",
       "16372  0_2245    NaN   NaN    c_7954   m   1973   49  2022-07-16 05:53:01   \n",
       "\n",
       "      session_id      _merge  \n",
       "2633    s_272266  right_only  \n",
       "10103   s_242482  right_only  \n",
       "11723   s_306338  right_only  \n",
       "15670    s_76493  right_only  \n",
       "16372   s_239078  right_only  "
      ]
     },
     "metadata": {},
     "output_type": "display_data"
    },
    {
     "data": {
      "text/plain": [
       "(221, 10)"
      ]
     },
     "metadata": {},
     "output_type": "display_data"
    }
   ],
   "source": [
    "#Nous vérifions les données manquantes avec right_only et c'est surtout ce qui va nous intéresser\n",
    "df_merge_manquant_right= df_merge.loc[df_merge['_merge']=='right_only']\n",
    "display(df_merge_manquant_right.head())\n",
    "display(df_merge_manquant_right.shape)\n",
    "#On a 221 transactions pour lesquelles nous n'avons pas de prix concernant le product 0_2245"
   ]
  },
  {
   "cell_type": "markdown",
   "id": "37b8f453",
   "metadata": {},
   "source": [
    "## Analyse du produit ['0_2245']"
   ]
  },
  {
   "cell_type": "code",
   "execution_count": 46,
   "id": "333c97f5",
   "metadata": {},
   "outputs": [
    {
     "name": "stdout",
     "output_type": "stream",
     "text": [
      "Le produit ['0_2245'] est manquant dans le système et nécessite investigation en interne erreur ou oubli\n"
     ]
    }
   ],
   "source": [
    "#Recherche des produits manquants \n",
    "id_prod_missing=df_merge_manquant_right['id_prod'].unique()\n",
    "print(\"Le produit\",id_prod_missing,\"est manquant dans le système et nécessite investigation en interne erreur ou oubli\")"
   ]
  },
  {
   "cell_type": "code",
   "execution_count": 47,
   "id": "7ec8d922",
   "metadata": {},
   "outputs": [
    {
     "data": {
      "text/html": [
       "<div>\n",
       "<style scoped>\n",
       "    .dataframe tbody tr th:only-of-type {\n",
       "        vertical-align: middle;\n",
       "    }\n",
       "\n",
       "    .dataframe tbody tr th {\n",
       "        vertical-align: top;\n",
       "    }\n",
       "\n",
       "    .dataframe thead th {\n",
       "        text-align: right;\n",
       "    }\n",
       "</style>\n",
       "<table border=\"1\" class=\"dataframe\">\n",
       "  <thead>\n",
       "    <tr style=\"text-align: right;\">\n",
       "      <th></th>\n",
       "      <th>id_prod</th>\n",
       "      <th>price</th>\n",
       "      <th>categ</th>\n",
       "    </tr>\n",
       "  </thead>\n",
       "  <tbody>\n",
       "  </tbody>\n",
       "</table>\n",
       "</div>"
      ],
      "text/plain": [
       "Empty DataFrame\n",
       "Columns: [id_prod, price, categ]\n",
       "Index: []"
      ]
     },
     "execution_count": 47,
     "metadata": {},
     "output_type": "execute_result"
    }
   ],
   "source": [
    "df_products.loc[df_products['id_prod']=='0_2245'] #le produit est bien manquant dans le df_products"
   ]
  },
  {
   "cell_type": "code",
   "execution_count": 48,
   "id": "51988784",
   "metadata": {},
   "outputs": [
    {
     "data": {
      "text/html": [
       "<div>\n",
       "<style scoped>\n",
       "    .dataframe tbody tr th:only-of-type {\n",
       "        vertical-align: middle;\n",
       "    }\n",
       "\n",
       "    .dataframe tbody tr th {\n",
       "        vertical-align: top;\n",
       "    }\n",
       "\n",
       "    .dataframe thead th {\n",
       "        text-align: right;\n",
       "    }\n",
       "</style>\n",
       "<table border=\"1\" class=\"dataframe\">\n",
       "  <thead>\n",
       "    <tr style=\"text-align: right;\">\n",
       "      <th></th>\n",
       "      <th>id_prod</th>\n",
       "      <th>price</th>\n",
       "      <th>categ</th>\n",
       "      <th>client_id</th>\n",
       "      <th>sex</th>\n",
       "      <th>birth</th>\n",
       "      <th>age</th>\n",
       "      <th>date</th>\n",
       "      <th>session_id</th>\n",
       "      <th>_merge</th>\n",
       "    </tr>\n",
       "  </thead>\n",
       "  <tbody>\n",
       "    <tr>\n",
       "      <th>2633</th>\n",
       "      <td>0_2245</td>\n",
       "      <td>NaN</td>\n",
       "      <td>NaN</td>\n",
       "      <td>c_4746</td>\n",
       "      <td>m</td>\n",
       "      <td>1940</td>\n",
       "      <td>82</td>\n",
       "      <td>2022-09-23 07:22:38</td>\n",
       "      <td>s_272266</td>\n",
       "      <td>right_only</td>\n",
       "    </tr>\n",
       "    <tr>\n",
       "      <th>10103</th>\n",
       "      <td>0_2245</td>\n",
       "      <td>NaN</td>\n",
       "      <td>NaN</td>\n",
       "      <td>c_6713</td>\n",
       "      <td>f</td>\n",
       "      <td>1963</td>\n",
       "      <td>59</td>\n",
       "      <td>2022-07-23 09:24:14</td>\n",
       "      <td>s_242482</td>\n",
       "      <td>right_only</td>\n",
       "    </tr>\n",
       "    <tr>\n",
       "      <th>11723</th>\n",
       "      <td>0_2245</td>\n",
       "      <td>NaN</td>\n",
       "      <td>NaN</td>\n",
       "      <td>c_5108</td>\n",
       "      <td>m</td>\n",
       "      <td>1978</td>\n",
       "      <td>44</td>\n",
       "      <td>2022-12-03 03:26:35</td>\n",
       "      <td>s_306338</td>\n",
       "      <td>right_only</td>\n",
       "    </tr>\n",
       "    <tr>\n",
       "      <th>15670</th>\n",
       "      <td>0_2245</td>\n",
       "      <td>NaN</td>\n",
       "      <td>NaN</td>\n",
       "      <td>c_1391</td>\n",
       "      <td>m</td>\n",
       "      <td>1991</td>\n",
       "      <td>31</td>\n",
       "      <td>2021-08-16 11:33:25</td>\n",
       "      <td>s_76493</td>\n",
       "      <td>right_only</td>\n",
       "    </tr>\n",
       "    <tr>\n",
       "      <th>16372</th>\n",
       "      <td>0_2245</td>\n",
       "      <td>NaN</td>\n",
       "      <td>NaN</td>\n",
       "      <td>c_7954</td>\n",
       "      <td>m</td>\n",
       "      <td>1973</td>\n",
       "      <td>49</td>\n",
       "      <td>2022-07-16 05:53:01</td>\n",
       "      <td>s_239078</td>\n",
       "      <td>right_only</td>\n",
       "    </tr>\n",
       "  </tbody>\n",
       "</table>\n",
       "</div>"
      ],
      "text/plain": [
       "      id_prod  price categ client_id sex  birth  age                 date  \\\n",
       "2633   0_2245    NaN   NaN    c_4746   m   1940   82  2022-09-23 07:22:38   \n",
       "10103  0_2245    NaN   NaN    c_6713   f   1963   59  2022-07-23 09:24:14   \n",
       "11723  0_2245    NaN   NaN    c_5108   m   1978   44  2022-12-03 03:26:35   \n",
       "15670  0_2245    NaN   NaN    c_1391   m   1991   31  2021-08-16 11:33:25   \n",
       "16372  0_2245    NaN   NaN    c_7954   m   1973   49  2022-07-16 05:53:01   \n",
       "\n",
       "      session_id      _merge  \n",
       "2633    s_272266  right_only  \n",
       "10103   s_242482  right_only  \n",
       "11723   s_306338  right_only  \n",
       "15670    s_76493  right_only  \n",
       "16372   s_239078  right_only  "
      ]
     },
     "metadata": {},
     "output_type": "display_data"
    },
    {
     "name": "stdout",
     "output_type": "stream",
     "text": [
      "il y a 221 transactions correspondant au produit 0_2245 \n"
     ]
    }
   ],
   "source": [
    "#Affichage de id_prod 0_2245\n",
    "id_prod_missing_0_2245=df_merge_manquant_right.loc[df_merge_manquant_right['id_prod']=='0_2245']\n",
    "display(id_prod_missing_0_2245.head())\n",
    "print(\"il y a\",id_prod_missing_0_2245.shape[0],\"transactions correspondant au produit 0_2245 \")"
   ]
  },
  {
   "cell_type": "code",
   "execution_count": 49,
   "id": "37b122ed",
   "metadata": {},
   "outputs": [
    {
     "data": {
      "text/plain": [
       "679332"
      ]
     },
     "execution_count": 49,
     "metadata": {},
     "output_type": "execute_result"
    }
   ],
   "source": [
    "df_merge.shape[0]"
   ]
  },
  {
   "cell_type": "code",
   "execution_count": 50,
   "id": "d1b51ec8",
   "metadata": {},
   "outputs": [
    {
     "name": "stdout",
     "output_type": "stream",
     "text": [
      "Nous avons 0.033 % de données manquantes\n"
     ]
    }
   ],
   "source": [
    "#si on supprime ces données on aura un perte\n",
    "poucentage_incertitude= 221/ (df_merge.shape[0])*100\n",
    "print(\"Nous avons\", round(poucentage_incertitude,3),\"% de données manquantes\")"
   ]
  },
  {
   "cell_type": "code",
   "execution_count": 51,
   "id": "07663a41",
   "metadata": {},
   "outputs": [
    {
     "data": {
      "text/html": [
       "<div>\n",
       "<style scoped>\n",
       "    .dataframe tbody tr th:only-of-type {\n",
       "        vertical-align: middle;\n",
       "    }\n",
       "\n",
       "    .dataframe tbody tr th {\n",
       "        vertical-align: top;\n",
       "    }\n",
       "\n",
       "    .dataframe thead th {\n",
       "        text-align: right;\n",
       "    }\n",
       "</style>\n",
       "<table border=\"1\" class=\"dataframe\">\n",
       "  <thead>\n",
       "    <tr style=\"text-align: right;\">\n",
       "      <th>test_id_prod</th>\n",
       "      <th>0</th>\n",
       "      <th>1</th>\n",
       "      <th>2</th>\n",
       "    </tr>\n",
       "    <tr>\n",
       "      <th>categ</th>\n",
       "      <th></th>\n",
       "      <th></th>\n",
       "      <th></th>\n",
       "    </tr>\n",
       "  </thead>\n",
       "  <tbody>\n",
       "    <tr>\n",
       "      <th>0</th>\n",
       "      <td>True</td>\n",
       "      <td>False</td>\n",
       "      <td>False</td>\n",
       "    </tr>\n",
       "    <tr>\n",
       "      <th>1</th>\n",
       "      <td>False</td>\n",
       "      <td>True</td>\n",
       "      <td>False</td>\n",
       "    </tr>\n",
       "    <tr>\n",
       "      <th>2</th>\n",
       "      <td>False</td>\n",
       "      <td>False</td>\n",
       "      <td>True</td>\n",
       "    </tr>\n",
       "  </tbody>\n",
       "</table>\n",
       "</div>"
      ],
      "text/plain": [
       "test_id_prod      0      1      2\n",
       "categ                            \n",
       "0              True  False  False\n",
       "1             False   True  False\n",
       "2             False  False   True"
      ]
     },
     "execution_count": 51,
     "metadata": {},
     "output_type": "execute_result"
    }
   ],
   "source": [
    "#On vérifie si pour chaque début de id_prod (test_id_prod) cela correspond bien a la catégorie\n",
    "#On prend le premier élément des id_products pour vérifier notre hypothèse si cela correspond bien à la catégorie\n",
    "df_merge['test_id_prod'] = df_merge['id_prod'].str[0]\n",
    "\n",
    "pd.crosstab(df_merge['categ'], df_merge['test_id_prod']).astype(bool)\n"
   ]
  },
  {
   "cell_type": "code",
   "execution_count": 52,
   "id": "7901581b",
   "metadata": {},
   "outputs": [],
   "source": [
    "df_merge.drop('test_id_prod', inplace=True, axis=1)"
   ]
  },
  {
   "cell_type": "code",
   "execution_count": 53,
   "id": "d698c74d",
   "metadata": {},
   "outputs": [
    {
     "name": "stdout",
     "output_type": "stream",
     "text": [
      "Le prix moyen des livres de categorie 0 est de 10.64 €\n"
     ]
    }
   ],
   "source": [
    "#Choix de l'imputation par la moyenne en utilisant la moyenne du prix de la catégorie 0 car le id commence par 0\n",
    "moyenne_prix_categ_0= df_merge.loc[df_merge['categ']==0]['price'].mean()\n",
    "print(\"Le prix moyen des livres de categorie 0 est de\", round(moyenne_prix_categ_0,2),\"€\")\n",
    "df_merge['price']=df_merge['price'].fillna(moyenne_prix_categ_0)"
   ]
  },
  {
   "cell_type": "code",
   "execution_count": 54,
   "id": "545d3b46",
   "metadata": {},
   "outputs": [
    {
     "data": {
      "text/html": [
       "<div>\n",
       "<style scoped>\n",
       "    .dataframe tbody tr th:only-of-type {\n",
       "        vertical-align: middle;\n",
       "    }\n",
       "\n",
       "    .dataframe tbody tr th {\n",
       "        vertical-align: top;\n",
       "    }\n",
       "\n",
       "    .dataframe thead th {\n",
       "        text-align: right;\n",
       "    }\n",
       "</style>\n",
       "<table border=\"1\" class=\"dataframe\">\n",
       "  <thead>\n",
       "    <tr style=\"text-align: right;\">\n",
       "      <th></th>\n",
       "      <th>id_prod</th>\n",
       "      <th>price</th>\n",
       "      <th>categ</th>\n",
       "      <th>client_id</th>\n",
       "      <th>sex</th>\n",
       "      <th>birth</th>\n",
       "      <th>age</th>\n",
       "      <th>date</th>\n",
       "      <th>session_id</th>\n",
       "      <th>_merge</th>\n",
       "    </tr>\n",
       "  </thead>\n",
       "  <tbody>\n",
       "    <tr>\n",
       "      <th>2633</th>\n",
       "      <td>0_2245</td>\n",
       "      <td>10.638188</td>\n",
       "      <td>NaN</td>\n",
       "      <td>c_4746</td>\n",
       "      <td>m</td>\n",
       "      <td>1940</td>\n",
       "      <td>82</td>\n",
       "      <td>2022-09-23 07:22:38</td>\n",
       "      <td>s_272266</td>\n",
       "      <td>right_only</td>\n",
       "    </tr>\n",
       "    <tr>\n",
       "      <th>10103</th>\n",
       "      <td>0_2245</td>\n",
       "      <td>10.638188</td>\n",
       "      <td>NaN</td>\n",
       "      <td>c_6713</td>\n",
       "      <td>f</td>\n",
       "      <td>1963</td>\n",
       "      <td>59</td>\n",
       "      <td>2022-07-23 09:24:14</td>\n",
       "      <td>s_242482</td>\n",
       "      <td>right_only</td>\n",
       "    </tr>\n",
       "    <tr>\n",
       "      <th>11723</th>\n",
       "      <td>0_2245</td>\n",
       "      <td>10.638188</td>\n",
       "      <td>NaN</td>\n",
       "      <td>c_5108</td>\n",
       "      <td>m</td>\n",
       "      <td>1978</td>\n",
       "      <td>44</td>\n",
       "      <td>2022-12-03 03:26:35</td>\n",
       "      <td>s_306338</td>\n",
       "      <td>right_only</td>\n",
       "    </tr>\n",
       "    <tr>\n",
       "      <th>15670</th>\n",
       "      <td>0_2245</td>\n",
       "      <td>10.638188</td>\n",
       "      <td>NaN</td>\n",
       "      <td>c_1391</td>\n",
       "      <td>m</td>\n",
       "      <td>1991</td>\n",
       "      <td>31</td>\n",
       "      <td>2021-08-16 11:33:25</td>\n",
       "      <td>s_76493</td>\n",
       "      <td>right_only</td>\n",
       "    </tr>\n",
       "    <tr>\n",
       "      <th>16372</th>\n",
       "      <td>0_2245</td>\n",
       "      <td>10.638188</td>\n",
       "      <td>NaN</td>\n",
       "      <td>c_7954</td>\n",
       "      <td>m</td>\n",
       "      <td>1973</td>\n",
       "      <td>49</td>\n",
       "      <td>2022-07-16 05:53:01</td>\n",
       "      <td>s_239078</td>\n",
       "      <td>right_only</td>\n",
       "    </tr>\n",
       "    <tr>\n",
       "      <th>...</th>\n",
       "      <td>...</td>\n",
       "      <td>...</td>\n",
       "      <td>...</td>\n",
       "      <td>...</td>\n",
       "      <td>...</td>\n",
       "      <td>...</td>\n",
       "      <td>...</td>\n",
       "      <td>...</td>\n",
       "      <td>...</td>\n",
       "      <td>...</td>\n",
       "    </tr>\n",
       "    <tr>\n",
       "      <th>669533</th>\n",
       "      <td>0_2245</td>\n",
       "      <td>10.638188</td>\n",
       "      <td>NaN</td>\n",
       "      <td>c_131</td>\n",
       "      <td>m</td>\n",
       "      <td>1981</td>\n",
       "      <td>41</td>\n",
       "      <td>2021-08-25 09:06:03</td>\n",
       "      <td>s_80395</td>\n",
       "      <td>right_only</td>\n",
       "    </tr>\n",
       "    <tr>\n",
       "      <th>670484</th>\n",
       "      <td>0_2245</td>\n",
       "      <td>10.638188</td>\n",
       "      <td>NaN</td>\n",
       "      <td>c_4167</td>\n",
       "      <td>f</td>\n",
       "      <td>1979</td>\n",
       "      <td>43</td>\n",
       "      <td>2022-03-06 19:59:19</td>\n",
       "      <td>s_175311</td>\n",
       "      <td>right_only</td>\n",
       "    </tr>\n",
       "    <tr>\n",
       "      <th>671088</th>\n",
       "      <td>0_2245</td>\n",
       "      <td>10.638188</td>\n",
       "      <td>NaN</td>\n",
       "      <td>c_4453</td>\n",
       "      <td>m</td>\n",
       "      <td>1981</td>\n",
       "      <td>41</td>\n",
       "      <td>2022-05-16 11:35:20</td>\n",
       "      <td>s_209381</td>\n",
       "      <td>right_only</td>\n",
       "    </tr>\n",
       "    <tr>\n",
       "      <th>675480</th>\n",
       "      <td>0_2245</td>\n",
       "      <td>10.638188</td>\n",
       "      <td>NaN</td>\n",
       "      <td>c_1098</td>\n",
       "      <td>m</td>\n",
       "      <td>1986</td>\n",
       "      <td>36</td>\n",
       "      <td>2022-02-11 09:05:43</td>\n",
       "      <td>s_163405</td>\n",
       "      <td>right_only</td>\n",
       "    </tr>\n",
       "    <tr>\n",
       "      <th>677797</th>\n",
       "      <td>0_2245</td>\n",
       "      <td>10.638188</td>\n",
       "      <td>NaN</td>\n",
       "      <td>c_4854</td>\n",
       "      <td>m</td>\n",
       "      <td>1968</td>\n",
       "      <td>54</td>\n",
       "      <td>2021-12-14 22:34:54</td>\n",
       "      <td>s_134446</td>\n",
       "      <td>right_only</td>\n",
       "    </tr>\n",
       "  </tbody>\n",
       "</table>\n",
       "<p>221 rows × 10 columns</p>\n",
       "</div>"
      ],
      "text/plain": [
       "       id_prod      price categ client_id sex  birth  age  \\\n",
       "2633    0_2245  10.638188   NaN    c_4746   m   1940   82   \n",
       "10103   0_2245  10.638188   NaN    c_6713   f   1963   59   \n",
       "11723   0_2245  10.638188   NaN    c_5108   m   1978   44   \n",
       "15670   0_2245  10.638188   NaN    c_1391   m   1991   31   \n",
       "16372   0_2245  10.638188   NaN    c_7954   m   1973   49   \n",
       "...        ...        ...   ...       ...  ..    ...  ...   \n",
       "669533  0_2245  10.638188   NaN     c_131   m   1981   41   \n",
       "670484  0_2245  10.638188   NaN    c_4167   f   1979   43   \n",
       "671088  0_2245  10.638188   NaN    c_4453   m   1981   41   \n",
       "675480  0_2245  10.638188   NaN    c_1098   m   1986   36   \n",
       "677797  0_2245  10.638188   NaN    c_4854   m   1968   54   \n",
       "\n",
       "                       date session_id      _merge  \n",
       "2633    2022-09-23 07:22:38   s_272266  right_only  \n",
       "10103   2022-07-23 09:24:14   s_242482  right_only  \n",
       "11723   2022-12-03 03:26:35   s_306338  right_only  \n",
       "15670   2021-08-16 11:33:25    s_76493  right_only  \n",
       "16372   2022-07-16 05:53:01   s_239078  right_only  \n",
       "...                     ...        ...         ...  \n",
       "669533  2021-08-25 09:06:03    s_80395  right_only  \n",
       "670484  2022-03-06 19:59:19   s_175311  right_only  \n",
       "671088  2022-05-16 11:35:20   s_209381  right_only  \n",
       "675480  2022-02-11 09:05:43   s_163405  right_only  \n",
       "677797  2021-12-14 22:34:54   s_134446  right_only  \n",
       "\n",
       "[221 rows x 10 columns]"
      ]
     },
     "execution_count": 54,
     "metadata": {},
     "output_type": "execute_result"
    }
   ],
   "source": [
    "df_merge.loc[df_merge['id_prod']=='0_2245']"
   ]
  },
  {
   "cell_type": "code",
   "execution_count": 55,
   "id": "82a64e98",
   "metadata": {},
   "outputs": [],
   "source": [
    "#On remplace donc la valeur manquante dans categorie par 0 \n",
    "df_merge['categ']=df_merge['categ'].fillna(0)\n"
   ]
  },
  {
   "cell_type": "code",
   "execution_count": 56,
   "id": "7a99cbff",
   "metadata": {},
   "outputs": [
    {
     "data": {
      "text/plain": [
       "array([0, 1, 2], dtype=int64)"
      ]
     },
     "execution_count": 56,
     "metadata": {},
     "output_type": "execute_result"
    }
   ],
   "source": [
    "df_merge['categ'].unique()"
   ]
  },
  {
   "cell_type": "code",
   "execution_count": 57,
   "id": "70dbf341",
   "metadata": {},
   "outputs": [
    {
     "data": {
      "text/html": [
       "<div>\n",
       "<style scoped>\n",
       "    .dataframe tbody tr th:only-of-type {\n",
       "        vertical-align: middle;\n",
       "    }\n",
       "\n",
       "    .dataframe tbody tr th {\n",
       "        vertical-align: top;\n",
       "    }\n",
       "\n",
       "    .dataframe thead th {\n",
       "        text-align: right;\n",
       "    }\n",
       "</style>\n",
       "<table border=\"1\" class=\"dataframe\">\n",
       "  <thead>\n",
       "    <tr style=\"text-align: right;\">\n",
       "      <th></th>\n",
       "      <th>id_prod</th>\n",
       "      <th>price</th>\n",
       "      <th>categ</th>\n",
       "      <th>client_id</th>\n",
       "      <th>sex</th>\n",
       "      <th>birth</th>\n",
       "      <th>age</th>\n",
       "      <th>date</th>\n",
       "      <th>session_id</th>\n",
       "    </tr>\n",
       "  </thead>\n",
       "  <tbody>\n",
       "    <tr>\n",
       "      <th>0</th>\n",
       "      <td>0_1518</td>\n",
       "      <td>4.18</td>\n",
       "      <td>0</td>\n",
       "      <td>c_103</td>\n",
       "      <td>f</td>\n",
       "      <td>1986</td>\n",
       "      <td>36</td>\n",
       "      <td>2022-05-20 13:21:29</td>\n",
       "      <td>s_211425</td>\n",
       "    </tr>\n",
       "    <tr>\n",
       "      <th>1</th>\n",
       "      <td>1_251</td>\n",
       "      <td>15.99</td>\n",
       "      <td>1</td>\n",
       "      <td>c_8534</td>\n",
       "      <td>m</td>\n",
       "      <td>1988</td>\n",
       "      <td>34</td>\n",
       "      <td>2022-02-02 07:55:19</td>\n",
       "      <td>s_158752</td>\n",
       "    </tr>\n",
       "    <tr>\n",
       "      <th>2</th>\n",
       "      <td>0_1277</td>\n",
       "      <td>7.99</td>\n",
       "      <td>0</td>\n",
       "      <td>c_6714</td>\n",
       "      <td>f</td>\n",
       "      <td>1968</td>\n",
       "      <td>54</td>\n",
       "      <td>2022-06-18 15:44:33</td>\n",
       "      <td>s_225667</td>\n",
       "    </tr>\n",
       "    <tr>\n",
       "      <th>3</th>\n",
       "      <td>2_209</td>\n",
       "      <td>69.99</td>\n",
       "      <td>2</td>\n",
       "      <td>c_6941</td>\n",
       "      <td>m</td>\n",
       "      <td>2000</td>\n",
       "      <td>22</td>\n",
       "      <td>2021-06-24 04:19:29</td>\n",
       "      <td>s_52962</td>\n",
       "    </tr>\n",
       "    <tr>\n",
       "      <th>4</th>\n",
       "      <td>0_1509</td>\n",
       "      <td>4.99</td>\n",
       "      <td>0</td>\n",
       "      <td>c_4232</td>\n",
       "      <td>m</td>\n",
       "      <td>1980</td>\n",
       "      <td>42</td>\n",
       "      <td>2023-01-11 08:22:08</td>\n",
       "      <td>s_325227</td>\n",
       "    </tr>\n",
       "  </tbody>\n",
       "</table>\n",
       "</div>"
      ],
      "text/plain": [
       "  id_prod  price  categ client_id sex  birth  age                 date  \\\n",
       "0  0_1518   4.18      0     c_103   f   1986   36  2022-05-20 13:21:29   \n",
       "1   1_251  15.99      1    c_8534   m   1988   34  2022-02-02 07:55:19   \n",
       "2  0_1277   7.99      0    c_6714   f   1968   54  2022-06-18 15:44:33   \n",
       "3   2_209  69.99      2    c_6941   m   2000   22  2021-06-24 04:19:29   \n",
       "4  0_1509   4.99      0    c_4232   m   1980   42  2023-01-11 08:22:08   \n",
       "\n",
       "  session_id  \n",
       "0   s_211425  \n",
       "1   s_158752  \n",
       "2   s_225667  \n",
       "3    s_52962  \n",
       "4   s_325227  "
      ]
     },
     "metadata": {},
     "output_type": "display_data"
    },
    {
     "data": {
      "text/plain": [
       "(679332, 9)"
      ]
     },
     "metadata": {},
     "output_type": "display_data"
    }
   ],
   "source": [
    "#Suppression de la colonne _merge et affichage du df_merge_final\n",
    "df_merge_final=df_merge.drop(['_merge'], axis=1)\n",
    "display(df_merge_final.head())\n",
    "display(df_merge_final.shape)"
   ]
  },
  {
   "cell_type": "code",
   "execution_count": 58,
   "id": "f120a4a1",
   "metadata": {},
   "outputs": [
    {
     "data": {
      "text/plain": [
       "count    679332.000000\n",
       "mean         17.452556\n",
       "std          18.326428\n",
       "min           0.620000\n",
       "25%           8.870000\n",
       "50%          13.990000\n",
       "75%          18.990000\n",
       "max         300.000000\n",
       "Name: price, dtype: float64"
      ]
     },
     "execution_count": 58,
     "metadata": {},
     "output_type": "execute_result"
    }
   ],
   "source": [
    "df_merge_final['price'].describe()"
   ]
  },
  {
   "cell_type": "code",
   "execution_count": 59,
   "id": "28ac5a95",
   "metadata": {},
   "outputs": [
    {
     "data": {
      "text/html": [
       "<div>\n",
       "<style scoped>\n",
       "    .dataframe tbody tr th:only-of-type {\n",
       "        vertical-align: middle;\n",
       "    }\n",
       "\n",
       "    .dataframe tbody tr th {\n",
       "        vertical-align: top;\n",
       "    }\n",
       "\n",
       "    .dataframe thead th {\n",
       "        text-align: right;\n",
       "    }\n",
       "</style>\n",
       "<table border=\"1\" class=\"dataframe\">\n",
       "  <thead>\n",
       "    <tr style=\"text-align: right;\">\n",
       "      <th></th>\n",
       "      <th>id_prod</th>\n",
       "      <th>price</th>\n",
       "      <th>categ</th>\n",
       "      <th>client_id</th>\n",
       "      <th>sex</th>\n",
       "      <th>birth</th>\n",
       "      <th>age</th>\n",
       "      <th>date</th>\n",
       "      <th>session_id</th>\n",
       "    </tr>\n",
       "  </thead>\n",
       "  <tbody>\n",
       "    <tr>\n",
       "      <th>0</th>\n",
       "      <td>0_1518</td>\n",
       "      <td>4.18</td>\n",
       "      <td>0</td>\n",
       "      <td>c_103</td>\n",
       "      <td>f</td>\n",
       "      <td>1986</td>\n",
       "      <td>36</td>\n",
       "      <td>2022-05-20 13:21:29</td>\n",
       "      <td>s_211425</td>\n",
       "    </tr>\n",
       "    <tr>\n",
       "      <th>1</th>\n",
       "      <td>1_251</td>\n",
       "      <td>15.99</td>\n",
       "      <td>1</td>\n",
       "      <td>c_8534</td>\n",
       "      <td>m</td>\n",
       "      <td>1988</td>\n",
       "      <td>34</td>\n",
       "      <td>2022-02-02 07:55:19</td>\n",
       "      <td>s_158752</td>\n",
       "    </tr>\n",
       "    <tr>\n",
       "      <th>2</th>\n",
       "      <td>0_1277</td>\n",
       "      <td>7.99</td>\n",
       "      <td>0</td>\n",
       "      <td>c_6714</td>\n",
       "      <td>f</td>\n",
       "      <td>1968</td>\n",
       "      <td>54</td>\n",
       "      <td>2022-06-18 15:44:33</td>\n",
       "      <td>s_225667</td>\n",
       "    </tr>\n",
       "    <tr>\n",
       "      <th>3</th>\n",
       "      <td>2_209</td>\n",
       "      <td>69.99</td>\n",
       "      <td>2</td>\n",
       "      <td>c_6941</td>\n",
       "      <td>m</td>\n",
       "      <td>2000</td>\n",
       "      <td>22</td>\n",
       "      <td>2021-06-24 04:19:29</td>\n",
       "      <td>s_52962</td>\n",
       "    </tr>\n",
       "    <tr>\n",
       "      <th>4</th>\n",
       "      <td>0_1509</td>\n",
       "      <td>4.99</td>\n",
       "      <td>0</td>\n",
       "      <td>c_4232</td>\n",
       "      <td>m</td>\n",
       "      <td>1980</td>\n",
       "      <td>42</td>\n",
       "      <td>2023-01-11 08:22:08</td>\n",
       "      <td>s_325227</td>\n",
       "    </tr>\n",
       "    <tr>\n",
       "      <th>...</th>\n",
       "      <td>...</td>\n",
       "      <td>...</td>\n",
       "      <td>...</td>\n",
       "      <td>...</td>\n",
       "      <td>...</td>\n",
       "      <td>...</td>\n",
       "      <td>...</td>\n",
       "      <td>...</td>\n",
       "      <td>...</td>\n",
       "    </tr>\n",
       "    <tr>\n",
       "      <th>679327</th>\n",
       "      <td>0_1551</td>\n",
       "      <td>12.99</td>\n",
       "      <td>0</td>\n",
       "      <td>c_8489</td>\n",
       "      <td>f</td>\n",
       "      <td>1951</td>\n",
       "      <td>71</td>\n",
       "      <td>2022-01-15 13:05:06</td>\n",
       "      <td>s_150195</td>\n",
       "    </tr>\n",
       "    <tr>\n",
       "      <th>679328</th>\n",
       "      <td>1_639</td>\n",
       "      <td>10.99</td>\n",
       "      <td>1</td>\n",
       "      <td>c_4370</td>\n",
       "      <td>f</td>\n",
       "      <td>1977</td>\n",
       "      <td>45</td>\n",
       "      <td>2022-03-19 16:03:23</td>\n",
       "      <td>s_181434</td>\n",
       "    </tr>\n",
       "    <tr>\n",
       "      <th>679329</th>\n",
       "      <td>0_1425</td>\n",
       "      <td>12.99</td>\n",
       "      <td>0</td>\n",
       "      <td>c_304</td>\n",
       "      <td>f</td>\n",
       "      <td>1988</td>\n",
       "      <td>34</td>\n",
       "      <td>2022-12-20 04:33:37</td>\n",
       "      <td>s_314704</td>\n",
       "    </tr>\n",
       "    <tr>\n",
       "      <th>679330</th>\n",
       "      <td>0_1994</td>\n",
       "      <td>4.98</td>\n",
       "      <td>0</td>\n",
       "      <td>c_2227</td>\n",
       "      <td>m</td>\n",
       "      <td>1986</td>\n",
       "      <td>36</td>\n",
       "      <td>2021-07-16 20:36:35</td>\n",
       "      <td>s_63204</td>\n",
       "    </tr>\n",
       "    <tr>\n",
       "      <th>679331</th>\n",
       "      <td>1_523</td>\n",
       "      <td>23.99</td>\n",
       "      <td>1</td>\n",
       "      <td>c_3873</td>\n",
       "      <td>m</td>\n",
       "      <td>1995</td>\n",
       "      <td>27</td>\n",
       "      <td>2022-09-28 01:12:01</td>\n",
       "      <td>s_274568</td>\n",
       "    </tr>\n",
       "  </tbody>\n",
       "</table>\n",
       "<p>679332 rows × 9 columns</p>\n",
       "</div>"
      ],
      "text/plain": [
       "       id_prod  price  categ client_id sex  birth  age                 date  \\\n",
       "0       0_1518   4.18      0     c_103   f   1986   36  2022-05-20 13:21:29   \n",
       "1        1_251  15.99      1    c_8534   m   1988   34  2022-02-02 07:55:19   \n",
       "2       0_1277   7.99      0    c_6714   f   1968   54  2022-06-18 15:44:33   \n",
       "3        2_209  69.99      2    c_6941   m   2000   22  2021-06-24 04:19:29   \n",
       "4       0_1509   4.99      0    c_4232   m   1980   42  2023-01-11 08:22:08   \n",
       "...        ...    ...    ...       ...  ..    ...  ...                  ...   \n",
       "679327  0_1551  12.99      0    c_8489   f   1951   71  2022-01-15 13:05:06   \n",
       "679328   1_639  10.99      1    c_4370   f   1977   45  2022-03-19 16:03:23   \n",
       "679329  0_1425  12.99      0     c_304   f   1988   34  2022-12-20 04:33:37   \n",
       "679330  0_1994   4.98      0    c_2227   m   1986   36  2021-07-16 20:36:35   \n",
       "679331   1_523  23.99      1    c_3873   m   1995   27  2022-09-28 01:12:01   \n",
       "\n",
       "       session_id  \n",
       "0        s_211425  \n",
       "1        s_158752  \n",
       "2        s_225667  \n",
       "3         s_52962  \n",
       "4        s_325227  \n",
       "...           ...  \n",
       "679327   s_150195  \n",
       "679328   s_181434  \n",
       "679329   s_314704  \n",
       "679330    s_63204  \n",
       "679331   s_274568  \n",
       "\n",
       "[679332 rows x 9 columns]"
      ]
     },
     "execution_count": 59,
     "metadata": {},
     "output_type": "execute_result"
    }
   ],
   "source": [
    "df_merge_final"
   ]
  },
  {
   "cell_type": "code",
   "execution_count": 60,
   "id": "1eb46143",
   "metadata": {},
   "outputs": [
    {
     "name": "stdout",
     "output_type": "stream",
     "text": [
      "CA = 11856079.72 €\n"
     ]
    }
   ],
   "source": [
    "#Le CA total serait de\n",
    "ca = df_merge_final['price'].sum()\n",
    "print('CA =', round(ca,2), \"€\")"
   ]
  },
  {
   "cell_type": "code",
   "execution_count": 61,
   "id": "fc9bf3ec",
   "metadata": {},
   "outputs": [
    {
     "data": {
      "text/html": [
       "<div>\n",
       "<style scoped>\n",
       "    .dataframe tbody tr th:only-of-type {\n",
       "        vertical-align: middle;\n",
       "    }\n",
       "\n",
       "    .dataframe tbody tr th {\n",
       "        vertical-align: top;\n",
       "    }\n",
       "\n",
       "    .dataframe thead th {\n",
       "        text-align: right;\n",
       "    }\n",
       "</style>\n",
       "<table border=\"1\" class=\"dataframe\">\n",
       "  <thead>\n",
       "    <tr style=\"text-align: right;\">\n",
       "      <th></th>\n",
       "      <th>id_prod</th>\n",
       "      <th>price</th>\n",
       "      <th>categ</th>\n",
       "      <th>client_id</th>\n",
       "      <th>sex</th>\n",
       "      <th>birth</th>\n",
       "      <th>age</th>\n",
       "      <th>date</th>\n",
       "      <th>session_id</th>\n",
       "      <th>date_mois</th>\n",
       "      <th>date_annee</th>\n",
       "    </tr>\n",
       "  </thead>\n",
       "  <tbody>\n",
       "    <tr>\n",
       "      <th>0</th>\n",
       "      <td>0_1518</td>\n",
       "      <td>4.18</td>\n",
       "      <td>0</td>\n",
       "      <td>c_103</td>\n",
       "      <td>f</td>\n",
       "      <td>1986</td>\n",
       "      <td>36</td>\n",
       "      <td>2022-05-20</td>\n",
       "      <td>s_211425</td>\n",
       "      <td>2022-05</td>\n",
       "      <td>2022</td>\n",
       "    </tr>\n",
       "    <tr>\n",
       "      <th>1</th>\n",
       "      <td>1_251</td>\n",
       "      <td>15.99</td>\n",
       "      <td>1</td>\n",
       "      <td>c_8534</td>\n",
       "      <td>m</td>\n",
       "      <td>1988</td>\n",
       "      <td>34</td>\n",
       "      <td>2022-02-02</td>\n",
       "      <td>s_158752</td>\n",
       "      <td>2022-02</td>\n",
       "      <td>2022</td>\n",
       "    </tr>\n",
       "    <tr>\n",
       "      <th>2</th>\n",
       "      <td>0_1277</td>\n",
       "      <td>7.99</td>\n",
       "      <td>0</td>\n",
       "      <td>c_6714</td>\n",
       "      <td>f</td>\n",
       "      <td>1968</td>\n",
       "      <td>54</td>\n",
       "      <td>2022-06-18</td>\n",
       "      <td>s_225667</td>\n",
       "      <td>2022-06</td>\n",
       "      <td>2022</td>\n",
       "    </tr>\n",
       "    <tr>\n",
       "      <th>3</th>\n",
       "      <td>2_209</td>\n",
       "      <td>69.99</td>\n",
       "      <td>2</td>\n",
       "      <td>c_6941</td>\n",
       "      <td>m</td>\n",
       "      <td>2000</td>\n",
       "      <td>22</td>\n",
       "      <td>2021-06-24</td>\n",
       "      <td>s_52962</td>\n",
       "      <td>2021-06</td>\n",
       "      <td>2021</td>\n",
       "    </tr>\n",
       "    <tr>\n",
       "      <th>4</th>\n",
       "      <td>0_1509</td>\n",
       "      <td>4.99</td>\n",
       "      <td>0</td>\n",
       "      <td>c_4232</td>\n",
       "      <td>m</td>\n",
       "      <td>1980</td>\n",
       "      <td>42</td>\n",
       "      <td>2023-01-11</td>\n",
       "      <td>s_325227</td>\n",
       "      <td>2023-01</td>\n",
       "      <td>2023</td>\n",
       "    </tr>\n",
       "  </tbody>\n",
       "</table>\n",
       "</div>"
      ],
      "text/plain": [
       "  id_prod  price  categ client_id sex  birth  age        date session_id  \\\n",
       "0  0_1518   4.18      0     c_103   f   1986   36  2022-05-20   s_211425   \n",
       "1   1_251  15.99      1    c_8534   m   1988   34  2022-02-02   s_158752   \n",
       "2  0_1277   7.99      0    c_6714   f   1968   54  2022-06-18   s_225667   \n",
       "3   2_209  69.99      2    c_6941   m   2000   22  2021-06-24    s_52962   \n",
       "4  0_1509   4.99      0    c_4232   m   1980   42  2023-01-11   s_325227   \n",
       "\n",
       "  date_mois date_annee  \n",
       "0   2022-05       2022  \n",
       "1   2022-02       2022  \n",
       "2   2022-06       2022  \n",
       "3   2021-06       2021  \n",
       "4   2023-01       2023  "
      ]
     },
     "execution_count": 61,
     "metadata": {},
     "output_type": "execute_result"
    }
   ],
   "source": [
    "#Changement du type de date en date et changement du format de date en enlevant les heures. \n",
    "df_merge_final['date']=df_merge_final['date'].astype('datetime64[s]')\n",
    "df_merge_final['date_mois'] = df_merge_final['date'].dt.to_period('M')\n",
    "df_merge_final['date_annee'] = df_merge_final['date'].dt.to_period('Y')\n",
    "\n",
    "df_merge_final['date']=df_merge_final['date'].dt.strftime('%Y-%m-%d')\n",
    "\n",
    "\n",
    "df_merge_final.head()"
   ]
  },
  {
   "cell_type": "markdown",
   "id": "a39ee665",
   "metadata": {},
   "source": [
    "## Evolution du CA dans le temps"
   ]
  },
  {
   "cell_type": "code",
   "execution_count": 62,
   "id": "b07b62b2",
   "metadata": {},
   "outputs": [
    {
     "data": {
      "text/plain": [
       "<AxesSubplot:xlabel='date'>"
      ]
     },
     "execution_count": 62,
     "metadata": {},
     "output_type": "execute_result"
    },
    {
     "data": {
      "image/png": "[encoded data removed]",
      "text/plain": [
       "<Figure size 1080x432 with 1 Axes>"
      ]
     },
     "metadata": {
      "needs_background": "light"
     },
     "output_type": "display_data"
    }
   ],
   "source": [
    "#Représentation graphique de l'évolution du CA par jour\n",
    "fig = plt.figure(figsize =(15,6))\n",
    "df_merge_final.groupby(['date'])['price'].sum().plot()"
   ]
  },
  {
   "cell_type": "code",
   "execution_count": 63,
   "id": "664872bd",
   "metadata": {},
   "outputs": [
    {
     "data": {
      "text/plain": [
       "<AxesSubplot:xlabel='date_mois'>"
      ]
     },
     "execution_count": 63,
     "metadata": {},
     "output_type": "execute_result"
    },
    {
     "data": {
      "image/png": "[encoded data removed]",
      "text/plain": [
       "<Figure size 1296x432 with 1 Axes>"
      ]
     },
     "metadata": {
      "needs_background": "light"
     },
     "output_type": "display_data"
    }
   ],
   "source": [
    "#Représentation graphique de l'évolution du CA par mois\n",
    "\n",
    "fig = plt.figure(figsize =(18,6))\n",
    "df_merge_final.groupby(['date_mois'])['price'].sum().plot()"
   ]
  },
  {
   "cell_type": "markdown",
   "id": "09794d39",
   "metadata": {},
   "source": [
    "D'après le graphique l'évolution du CA par jour et par mois, on remarque une anomalie au niveau du mois d'octobre et décidons de traiter le mois d'octobre 2021 séparément pour trouver une explication."
   ]
  },
  {
   "cell_type": "markdown",
   "id": "64d4dfe8",
   "metadata": {},
   "source": [
    "# Etude du mois d'octobre 2021"
   ]
  },
  {
   "cell_type": "code",
   "execution_count": 64,
   "id": "40b1ddd9",
   "metadata": {},
   "outputs": [
    {
     "data": {
      "text/html": [
       "<div>\n",
       "<style scoped>\n",
       "    .dataframe tbody tr th:only-of-type {\n",
       "        vertical-align: middle;\n",
       "    }\n",
       "\n",
       "    .dataframe tbody tr th {\n",
       "        vertical-align: top;\n",
       "    }\n",
       "\n",
       "    .dataframe thead th {\n",
       "        text-align: right;\n",
       "    }\n",
       "</style>\n",
       "<table border=\"1\" class=\"dataframe\">\n",
       "  <thead>\n",
       "    <tr style=\"text-align: right;\">\n",
       "      <th></th>\n",
       "      <th>id_prod</th>\n",
       "      <th>price</th>\n",
       "      <th>categ</th>\n",
       "      <th>client_id</th>\n",
       "      <th>sex</th>\n",
       "      <th>birth</th>\n",
       "      <th>age</th>\n",
       "      <th>date</th>\n",
       "      <th>session_id</th>\n",
       "      <th>date_mois</th>\n",
       "      <th>date_annee</th>\n",
       "    </tr>\n",
       "  </thead>\n",
       "  <tbody>\n",
       "    <tr>\n",
       "      <th>68</th>\n",
       "      <td>0_1409</td>\n",
       "      <td>4.99</td>\n",
       "      <td>0</td>\n",
       "      <td>c_5725</td>\n",
       "      <td>m</td>\n",
       "      <td>1975</td>\n",
       "      <td>47</td>\n",
       "      <td>2021-10-02</td>\n",
       "      <td>s_99013</td>\n",
       "      <td>2021-10</td>\n",
       "      <td>2021</td>\n",
       "    </tr>\n",
       "    <tr>\n",
       "      <th>71</th>\n",
       "      <td>0_1247</td>\n",
       "      <td>15.99</td>\n",
       "      <td>0</td>\n",
       "      <td>c_3394</td>\n",
       "      <td>f</td>\n",
       "      <td>1978</td>\n",
       "      <td>44</td>\n",
       "      <td>2021-10-03</td>\n",
       "      <td>s_99443</td>\n",
       "      <td>2021-10</td>\n",
       "      <td>2021</td>\n",
       "    </tr>\n",
       "    <tr>\n",
       "      <th>80</th>\n",
       "      <td>0_1272</td>\n",
       "      <td>17.01</td>\n",
       "      <td>0</td>\n",
       "      <td>c_8534</td>\n",
       "      <td>m</td>\n",
       "      <td>1988</td>\n",
       "      <td>34</td>\n",
       "      <td>2021-10-13</td>\n",
       "      <td>s_104207</td>\n",
       "      <td>2021-10</td>\n",
       "      <td>2021</td>\n",
       "    </tr>\n",
       "    <tr>\n",
       "      <th>86</th>\n",
       "      <td>0_1102</td>\n",
       "      <td>4.63</td>\n",
       "      <td>0</td>\n",
       "      <td>c_1609</td>\n",
       "      <td>m</td>\n",
       "      <td>1980</td>\n",
       "      <td>42</td>\n",
       "      <td>2021-10-24</td>\n",
       "      <td>s_109442</td>\n",
       "      <td>2021-10</td>\n",
       "      <td>2021</td>\n",
       "    </tr>\n",
       "    <tr>\n",
       "      <th>93</th>\n",
       "      <td>0_1079</td>\n",
       "      <td>5.99</td>\n",
       "      <td>0</td>\n",
       "      <td>c_7918</td>\n",
       "      <td>m</td>\n",
       "      <td>1987</td>\n",
       "      <td>35</td>\n",
       "      <td>2021-10-05</td>\n",
       "      <td>s_100557</td>\n",
       "      <td>2021-10</td>\n",
       "      <td>2021</td>\n",
       "    </tr>\n",
       "    <tr>\n",
       "      <th>...</th>\n",
       "      <td>...</td>\n",
       "      <td>...</td>\n",
       "      <td>...</td>\n",
       "      <td>...</td>\n",
       "      <td>...</td>\n",
       "      <td>...</td>\n",
       "      <td>...</td>\n",
       "      <td>...</td>\n",
       "      <td>...</td>\n",
       "      <td>...</td>\n",
       "      <td>...</td>\n",
       "    </tr>\n",
       "    <tr>\n",
       "      <th>679222</th>\n",
       "      <td>0_1418</td>\n",
       "      <td>8.57</td>\n",
       "      <td>0</td>\n",
       "      <td>c_7213</td>\n",
       "      <td>m</td>\n",
       "      <td>1979</td>\n",
       "      <td>43</td>\n",
       "      <td>2021-10-22</td>\n",
       "      <td>s_108264</td>\n",
       "      <td>2021-10</td>\n",
       "      <td>2021</td>\n",
       "    </tr>\n",
       "    <tr>\n",
       "      <th>679240</th>\n",
       "      <td>0_1391</td>\n",
       "      <td>7.99</td>\n",
       "      <td>0</td>\n",
       "      <td>c_7878</td>\n",
       "      <td>m</td>\n",
       "      <td>1989</td>\n",
       "      <td>33</td>\n",
       "      <td>2021-10-26</td>\n",
       "      <td>s_110243</td>\n",
       "      <td>2021-10</td>\n",
       "      <td>2021</td>\n",
       "    </tr>\n",
       "    <tr>\n",
       "      <th>679290</th>\n",
       "      <td>0_1609</td>\n",
       "      <td>18.99</td>\n",
       "      <td>0</td>\n",
       "      <td>c_6714</td>\n",
       "      <td>f</td>\n",
       "      <td>1968</td>\n",
       "      <td>54</td>\n",
       "      <td>2021-10-15</td>\n",
       "      <td>s_105230</td>\n",
       "      <td>2021-10</td>\n",
       "      <td>2021</td>\n",
       "    </tr>\n",
       "    <tr>\n",
       "      <th>679315</th>\n",
       "      <td>0_1635</td>\n",
       "      <td>16.99</td>\n",
       "      <td>0</td>\n",
       "      <td>c_1061</td>\n",
       "      <td>m</td>\n",
       "      <td>1991</td>\n",
       "      <td>31</td>\n",
       "      <td>2021-10-01</td>\n",
       "      <td>s_98649</td>\n",
       "      <td>2021-10</td>\n",
       "      <td>2021</td>\n",
       "    </tr>\n",
       "    <tr>\n",
       "      <th>679324</th>\n",
       "      <td>0_1572</td>\n",
       "      <td>8.61</td>\n",
       "      <td>0</td>\n",
       "      <td>c_725</td>\n",
       "      <td>f</td>\n",
       "      <td>1964</td>\n",
       "      <td>58</td>\n",
       "      <td>2021-10-08</td>\n",
       "      <td>s_101701</td>\n",
       "      <td>2021-10</td>\n",
       "      <td>2021</td>\n",
       "    </tr>\n",
       "  </tbody>\n",
       "</table>\n",
       "<p>21606 rows × 11 columns</p>\n",
       "</div>"
      ],
      "text/plain": [
       "       id_prod  price  categ client_id sex  birth  age        date session_id  \\\n",
       "68      0_1409   4.99      0    c_5725   m   1975   47  2021-10-02    s_99013   \n",
       "71      0_1247  15.99      0    c_3394   f   1978   44  2021-10-03    s_99443   \n",
       "80      0_1272  17.01      0    c_8534   m   1988   34  2021-10-13   s_104207   \n",
       "86      0_1102   4.63      0    c_1609   m   1980   42  2021-10-24   s_109442   \n",
       "93      0_1079   5.99      0    c_7918   m   1987   35  2021-10-05   s_100557   \n",
       "...        ...    ...    ...       ...  ..    ...  ...         ...        ...   \n",
       "679222  0_1418   8.57      0    c_7213   m   1979   43  2021-10-22   s_108264   \n",
       "679240  0_1391   7.99      0    c_7878   m   1989   33  2021-10-26   s_110243   \n",
       "679290  0_1609  18.99      0    c_6714   f   1968   54  2021-10-15   s_105230   \n",
       "679315  0_1635  16.99      0    c_1061   m   1991   31  2021-10-01    s_98649   \n",
       "679324  0_1572   8.61      0     c_725   f   1964   58  2021-10-08   s_101701   \n",
       "\n",
       "       date_mois date_annee  \n",
       "68       2021-10       2021  \n",
       "71       2021-10       2021  \n",
       "80       2021-10       2021  \n",
       "86       2021-10       2021  \n",
       "93       2021-10       2021  \n",
       "...          ...        ...  \n",
       "679222   2021-10       2021  \n",
       "679240   2021-10       2021  \n",
       "679290   2021-10       2021  \n",
       "679315   2021-10       2021  \n",
       "679324   2021-10       2021  \n",
       "\n",
       "[21606 rows x 11 columns]"
      ]
     },
     "execution_count": 64,
     "metadata": {},
     "output_type": "execute_result"
    }
   ],
   "source": [
    "#Création d'un df octobre 2021\n",
    "df_octobre_2021 = df_merge_final.loc[(df_merge_final['date_mois']=='2021-10')]\n",
    "df_octobre_2021"
   ]
  },
  {
   "cell_type": "code",
   "execution_count": 65,
   "id": "50c83264",
   "metadata": {},
   "outputs": [
    {
     "name": "stdout",
     "output_type": "stream",
     "text": [
      "CA du mois octobre 320873.21 €\n"
     ]
    }
   ],
   "source": [
    "#CA du mois octobre 2021\n",
    "ca_octobre= df_octobre_2021['price'].sum()\n",
    "print(\"CA du mois octobre\", round(ca_octobre,2), \"€\")"
   ]
  },
  {
   "cell_type": "code",
   "execution_count": 66,
   "id": "c7b387b8",
   "metadata": {},
   "outputs": [
    {
     "data": {
      "text/html": [
       "<div>\n",
       "<style scoped>\n",
       "    .dataframe tbody tr th:only-of-type {\n",
       "        vertical-align: middle;\n",
       "    }\n",
       "\n",
       "    .dataframe tbody tr th {\n",
       "        vertical-align: top;\n",
       "    }\n",
       "\n",
       "    .dataframe thead th {\n",
       "        text-align: right;\n",
       "    }\n",
       "</style>\n",
       "<table border=\"1\" class=\"dataframe\">\n",
       "  <thead>\n",
       "    <tr style=\"text-align: right;\">\n",
       "      <th></th>\n",
       "      <th>date</th>\n",
       "      <th>categ</th>\n",
       "      <th>price</th>\n",
       "    </tr>\n",
       "  </thead>\n",
       "  <tbody>\n",
       "    <tr>\n",
       "      <th>0</th>\n",
       "      <td>2021-10-01</td>\n",
       "      <td>0</td>\n",
       "      <td>6950.500000</td>\n",
       "    </tr>\n",
       "    <tr>\n",
       "      <th>1</th>\n",
       "      <td>2021-10-01</td>\n",
       "      <td>1</td>\n",
       "      <td>7003.790000</td>\n",
       "    </tr>\n",
       "    <tr>\n",
       "      <th>2</th>\n",
       "      <td>2021-10-01</td>\n",
       "      <td>2</td>\n",
       "      <td>3104.050000</td>\n",
       "    </tr>\n",
       "    <tr>\n",
       "      <th>3</th>\n",
       "      <td>2021-10-02</td>\n",
       "      <td>0</td>\n",
       "      <td>7141.010000</td>\n",
       "    </tr>\n",
       "    <tr>\n",
       "      <th>4</th>\n",
       "      <td>2021-10-02</td>\n",
       "      <td>2</td>\n",
       "      <td>2041.120000</td>\n",
       "    </tr>\n",
       "    <tr>\n",
       "      <th>5</th>\n",
       "      <td>2021-10-03</td>\n",
       "      <td>0</td>\n",
       "      <td>6786.570000</td>\n",
       "    </tr>\n",
       "    <tr>\n",
       "      <th>6</th>\n",
       "      <td>2021-10-03</td>\n",
       "      <td>2</td>\n",
       "      <td>2206.480000</td>\n",
       "    </tr>\n",
       "    <tr>\n",
       "      <th>7</th>\n",
       "      <td>2021-10-04</td>\n",
       "      <td>0</td>\n",
       "      <td>6554.876376</td>\n",
       "    </tr>\n",
       "    <tr>\n",
       "      <th>8</th>\n",
       "      <td>2021-10-04</td>\n",
       "      <td>2</td>\n",
       "      <td>2746.080000</td>\n",
       "    </tr>\n",
       "  </tbody>\n",
       "</table>\n",
       "</div>"
      ],
      "text/plain": [
       "         date  categ        price\n",
       "0  2021-10-01      0  6950.500000\n",
       "1  2021-10-01      1  7003.790000\n",
       "2  2021-10-01      2  3104.050000\n",
       "3  2021-10-02      0  7141.010000\n",
       "4  2021-10-02      2  2041.120000\n",
       "5  2021-10-03      0  6786.570000\n",
       "6  2021-10-03      2  2206.480000\n",
       "7  2021-10-04      0  6554.876376\n",
       "8  2021-10-04      2  2746.080000"
      ]
     },
     "execution_count": 66,
     "metadata": {},
     "output_type": "execute_result"
    }
   ],
   "source": [
    "#Visualisation du CA octobre par categorie\n",
    "ca_octobre_categ = df_octobre_2021.groupby(['date','categ'])['price'].sum().reset_index()\n",
    "ca_octobre_categ.head(9)"
   ]
  },
  {
   "cell_type": "code",
   "execution_count": 67,
   "id": "57d5f696",
   "metadata": {},
   "outputs": [
    {
     "data": {
      "text/plain": [
       "<AxesSubplot:xlabel='date_mois'>"
      ]
     },
     "execution_count": 67,
     "metadata": {},
     "output_type": "execute_result"
    },
    {
     "data": {
      "image/png": "[encoded data removed]",
      "text/plain": [
       "<Figure size 1296x720 with 1 Axes>"
      ]
     },
     "metadata": {
      "needs_background": "light"
     },
     "output_type": "display_data"
    }
   ],
   "source": [
    "# CA par catégorie et par mois\n",
    "df_merge_final.groupby(['date_mois','categ']).sum().unstack().plot(kind='bar', y = 'price', stacked=True, figsize = (18,10))"
   ]
  },
  {
   "cell_type": "markdown",
   "id": "d9f7cb92",
   "metadata": {},
   "source": [
    "Il semble y avoir une anomalie au niveau du mois d'octobre 2021. La part du CA de la catégorie 1 est insignifiante par rapport aux autres mois."
   ]
  },
  {
   "cell_type": "code",
   "execution_count": 68,
   "id": "09e0226d",
   "metadata": {},
   "outputs": [
    {
     "data": {
      "text/plain": [
       "<AxesSubplot:xlabel='date'>"
      ]
     },
     "execution_count": 68,
     "metadata": {},
     "output_type": "execute_result"
    },
    {
     "data": {
      "image/png": "[encoded data removed]",
      "text/plain": [
       "<Figure size 1296x720 with 1 Axes>"
      ]
     },
     "metadata": {
      "needs_background": "light"
     },
     "output_type": "display_data"
    }
   ],
   "source": [
    "#CA octobre par catégorie et par jour\n",
    "ca_octobre_categ.groupby(['date','categ']).sum().unstack().plot(kind='bar', y = 'price', stacked=True, figsize = (18,10))"
   ]
  },
  {
   "cell_type": "markdown",
   "id": "28967493",
   "metadata": {},
   "source": [
    "Il semble manquer des données dans la catégorie 1 du 02-10-2021 au 27-10-2021"
   ]
  },
  {
   "cell_type": "code",
   "execution_count": 69,
   "id": "3dc67c16",
   "metadata": {},
   "outputs": [
    {
     "data": {
      "text/html": [
       "<div>\n",
       "<style scoped>\n",
       "    .dataframe tbody tr th:only-of-type {\n",
       "        vertical-align: middle;\n",
       "    }\n",
       "\n",
       "    .dataframe tbody tr th {\n",
       "        vertical-align: top;\n",
       "    }\n",
       "\n",
       "    .dataframe thead th {\n",
       "        text-align: right;\n",
       "    }\n",
       "</style>\n",
       "<table border=\"1\" class=\"dataframe\">\n",
       "  <thead>\n",
       "    <tr style=\"text-align: right;\">\n",
       "      <th></th>\n",
       "      <th>id_prod</th>\n",
       "      <th>price</th>\n",
       "      <th>categ</th>\n",
       "      <th>client_id</th>\n",
       "      <th>sex</th>\n",
       "      <th>birth</th>\n",
       "      <th>age</th>\n",
       "      <th>date</th>\n",
       "      <th>session_id</th>\n",
       "      <th>date_mois</th>\n",
       "      <th>date_annee</th>\n",
       "    </tr>\n",
       "  </thead>\n",
       "  <tbody>\n",
       "    <tr>\n",
       "      <th>0</th>\n",
       "      <td>0_1518</td>\n",
       "      <td>4.18</td>\n",
       "      <td>0</td>\n",
       "      <td>c_103</td>\n",
       "      <td>f</td>\n",
       "      <td>1986</td>\n",
       "      <td>36</td>\n",
       "      <td>2022-05-20</td>\n",
       "      <td>s_211425</td>\n",
       "      <td>2022-05</td>\n",
       "      <td>2022</td>\n",
       "    </tr>\n",
       "    <tr>\n",
       "      <th>1</th>\n",
       "      <td>1_251</td>\n",
       "      <td>15.99</td>\n",
       "      <td>1</td>\n",
       "      <td>c_8534</td>\n",
       "      <td>m</td>\n",
       "      <td>1988</td>\n",
       "      <td>34</td>\n",
       "      <td>2022-02-02</td>\n",
       "      <td>s_158752</td>\n",
       "      <td>2022-02</td>\n",
       "      <td>2022</td>\n",
       "    </tr>\n",
       "    <tr>\n",
       "      <th>2</th>\n",
       "      <td>0_1277</td>\n",
       "      <td>7.99</td>\n",
       "      <td>0</td>\n",
       "      <td>c_6714</td>\n",
       "      <td>f</td>\n",
       "      <td>1968</td>\n",
       "      <td>54</td>\n",
       "      <td>2022-06-18</td>\n",
       "      <td>s_225667</td>\n",
       "      <td>2022-06</td>\n",
       "      <td>2022</td>\n",
       "    </tr>\n",
       "    <tr>\n",
       "      <th>3</th>\n",
       "      <td>2_209</td>\n",
       "      <td>69.99</td>\n",
       "      <td>2</td>\n",
       "      <td>c_6941</td>\n",
       "      <td>m</td>\n",
       "      <td>2000</td>\n",
       "      <td>22</td>\n",
       "      <td>2021-06-24</td>\n",
       "      <td>s_52962</td>\n",
       "      <td>2021-06</td>\n",
       "      <td>2021</td>\n",
       "    </tr>\n",
       "    <tr>\n",
       "      <th>4</th>\n",
       "      <td>0_1509</td>\n",
       "      <td>4.99</td>\n",
       "      <td>0</td>\n",
       "      <td>c_4232</td>\n",
       "      <td>m</td>\n",
       "      <td>1980</td>\n",
       "      <td>42</td>\n",
       "      <td>2023-01-11</td>\n",
       "      <td>s_325227</td>\n",
       "      <td>2023-01</td>\n",
       "      <td>2023</td>\n",
       "    </tr>\n",
       "    <tr>\n",
       "      <th>...</th>\n",
       "      <td>...</td>\n",
       "      <td>...</td>\n",
       "      <td>...</td>\n",
       "      <td>...</td>\n",
       "      <td>...</td>\n",
       "      <td>...</td>\n",
       "      <td>...</td>\n",
       "      <td>...</td>\n",
       "      <td>...</td>\n",
       "      <td>...</td>\n",
       "      <td>...</td>\n",
       "    </tr>\n",
       "    <tr>\n",
       "      <th>679327</th>\n",
       "      <td>0_1551</td>\n",
       "      <td>12.99</td>\n",
       "      <td>0</td>\n",
       "      <td>c_8489</td>\n",
       "      <td>f</td>\n",
       "      <td>1951</td>\n",
       "      <td>71</td>\n",
       "      <td>2022-01-15</td>\n",
       "      <td>s_150195</td>\n",
       "      <td>2022-01</td>\n",
       "      <td>2022</td>\n",
       "    </tr>\n",
       "    <tr>\n",
       "      <th>679328</th>\n",
       "      <td>1_639</td>\n",
       "      <td>10.99</td>\n",
       "      <td>1</td>\n",
       "      <td>c_4370</td>\n",
       "      <td>f</td>\n",
       "      <td>1977</td>\n",
       "      <td>45</td>\n",
       "      <td>2022-03-19</td>\n",
       "      <td>s_181434</td>\n",
       "      <td>2022-03</td>\n",
       "      <td>2022</td>\n",
       "    </tr>\n",
       "    <tr>\n",
       "      <th>679329</th>\n",
       "      <td>0_1425</td>\n",
       "      <td>12.99</td>\n",
       "      <td>0</td>\n",
       "      <td>c_304</td>\n",
       "      <td>f</td>\n",
       "      <td>1988</td>\n",
       "      <td>34</td>\n",
       "      <td>2022-12-20</td>\n",
       "      <td>s_314704</td>\n",
       "      <td>2022-12</td>\n",
       "      <td>2022</td>\n",
       "    </tr>\n",
       "    <tr>\n",
       "      <th>679330</th>\n",
       "      <td>0_1994</td>\n",
       "      <td>4.98</td>\n",
       "      <td>0</td>\n",
       "      <td>c_2227</td>\n",
       "      <td>m</td>\n",
       "      <td>1986</td>\n",
       "      <td>36</td>\n",
       "      <td>2021-07-16</td>\n",
       "      <td>s_63204</td>\n",
       "      <td>2021-07</td>\n",
       "      <td>2021</td>\n",
       "    </tr>\n",
       "    <tr>\n",
       "      <th>679331</th>\n",
       "      <td>1_523</td>\n",
       "      <td>23.99</td>\n",
       "      <td>1</td>\n",
       "      <td>c_3873</td>\n",
       "      <td>m</td>\n",
       "      <td>1995</td>\n",
       "      <td>27</td>\n",
       "      <td>2022-09-28</td>\n",
       "      <td>s_274568</td>\n",
       "      <td>2022-09</td>\n",
       "      <td>2022</td>\n",
       "    </tr>\n",
       "  </tbody>\n",
       "</table>\n",
       "<p>657726 rows × 11 columns</p>\n",
       "</div>"
      ],
      "text/plain": [
       "       id_prod  price  categ client_id sex  birth  age        date session_id  \\\n",
       "0       0_1518   4.18      0     c_103   f   1986   36  2022-05-20   s_211425   \n",
       "1        1_251  15.99      1    c_8534   m   1988   34  2022-02-02   s_158752   \n",
       "2       0_1277   7.99      0    c_6714   f   1968   54  2022-06-18   s_225667   \n",
       "3        2_209  69.99      2    c_6941   m   2000   22  2021-06-24    s_52962   \n",
       "4       0_1509   4.99      0    c_4232   m   1980   42  2023-01-11   s_325227   \n",
       "...        ...    ...    ...       ...  ..    ...  ...         ...        ...   \n",
       "679327  0_1551  12.99      0    c_8489   f   1951   71  2022-01-15   s_150195   \n",
       "679328   1_639  10.99      1    c_4370   f   1977   45  2022-03-19   s_181434   \n",
       "679329  0_1425  12.99      0     c_304   f   1988   34  2022-12-20   s_314704   \n",
       "679330  0_1994   4.98      0    c_2227   m   1986   36  2021-07-16    s_63204   \n",
       "679331   1_523  23.99      1    c_3873   m   1995   27  2022-09-28   s_274568   \n",
       "\n",
       "       date_mois date_annee  \n",
       "0        2022-05       2022  \n",
       "1        2022-02       2022  \n",
       "2        2022-06       2022  \n",
       "3        2021-06       2021  \n",
       "4        2023-01       2023  \n",
       "...          ...        ...  \n",
       "679327   2022-01       2022  \n",
       "679328   2022-03       2022  \n",
       "679329   2022-12       2022  \n",
       "679330   2021-07       2021  \n",
       "679331   2022-09       2022  \n",
       "\n",
       "[657726 rows x 11 columns]"
      ]
     },
     "metadata": {},
     "output_type": "display_data"
    }
   ],
   "source": [
    "#On décide d'enlever le mois d'octobre 2021\n",
    "\n",
    "df_final=df_merge_final.drop(df_merge_final[df_merge_final[\"date_mois\"]=='2021-10'].index)\n",
    "display(df_final)"
   ]
  },
  {
   "cell_type": "code",
   "execution_count": 70,
   "id": "ca06dbd2",
   "metadata": {},
   "outputs": [],
   "source": [
    "#Enregistrement de notre df_final sous forme de fichier CSV\n",
    "\n",
    "df_final = df_final.to_csv('df_final.csv')"
   ]
  }
 ],
 "metadata": {
  "kernelspec": {
   "display_name": "Python 3 (ipykernel)",
   "language": "python",
   "name": "python3"
  },
  "language_info": {
   "codemirror_mode": {
    "name": "ipython",
    "version": 3
   },
   "file_extension": ".py",
   "mimetype": "text/x-python",
   "name": "python",
   "nbconvert_exporter": "python",
   "pygments_lexer": "ipython3",
   "version": "3.9.12"
  }
 },
 "nbformat": 4,
 "nbformat_minor": 5
}
