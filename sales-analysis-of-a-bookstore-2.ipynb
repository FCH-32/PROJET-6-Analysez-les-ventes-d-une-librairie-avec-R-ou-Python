{
 "cells": [
  {
   "cell_type": "code",
   "execution_count": 1,
   "id": "bacd3ede",
   "metadata": {},
   "outputs": [],
   "source": [
    "#Importation des librairies\n",
    "import numpy as np\n",
    "import pandas as pd\n",
    "import matplotlib.pyplot as plt\n",
    "import seaborn as sns\n",
    "import scipy.stats as st\n",
    "import math\n",
    "import warnings\n",
    "warnings.simplefilter(\"ignore\")"
   ]
  },
  {
   "cell_type": "code",
   "execution_count": 2,
   "id": "fbb198c5",
   "metadata": {},
   "outputs": [],
   "source": [
    "df_final=pd.read_csv(r\"C:\\Users\\franc\\Desktop\\DATA\\PROJET 6 Analysez les ventes d'une librairie avec R ou Python\\df_final.csv\")"
   ]
  },
  {
   "cell_type": "code",
   "execution_count": 3,
   "id": "de84563c",
   "metadata": {},
   "outputs": [
    {
     "data": {
      "text/html": [
       "<div>\n",
       "<style scoped>\n",
       "    .dataframe tbody tr th:only-of-type {\n",
       "        vertical-align: middle;\n",
       "    }\n",
       "\n",
       "    .dataframe tbody tr th {\n",
       "        vertical-align: top;\n",
       "    }\n",
       "\n",
       "    .dataframe thead th {\n",
       "        text-align: right;\n",
       "    }\n",
       "</style>\n",
       "<table border=\"1\" class=\"dataframe\">\n",
       "  <thead>\n",
       "    <tr style=\"text-align: right;\">\n",
       "      <th></th>\n",
       "      <th>Unnamed: 0</th>\n",
       "      <th>id_prod</th>\n",
       "      <th>price</th>\n",
       "      <th>categ</th>\n",
       "      <th>client_id</th>\n",
       "      <th>sex</th>\n",
       "      <th>birth</th>\n",
       "      <th>age</th>\n",
       "      <th>date</th>\n",
       "      <th>session_id</th>\n",
       "      <th>date_mois</th>\n",
       "      <th>date_annee</th>\n",
       "    </tr>\n",
       "  </thead>\n",
       "  <tbody>\n",
       "    <tr>\n",
       "      <th>0</th>\n",
       "      <td>0</td>\n",
       "      <td>0_1518</td>\n",
       "      <td>4.18</td>\n",
       "      <td>0</td>\n",
       "      <td>c_103</td>\n",
       "      <td>f</td>\n",
       "      <td>1986</td>\n",
       "      <td>36</td>\n",
       "      <td>2022-05-20</td>\n",
       "      <td>s_211425</td>\n",
       "      <td>2022-05</td>\n",
       "      <td>2022</td>\n",
       "    </tr>\n",
       "    <tr>\n",
       "      <th>1</th>\n",
       "      <td>1</td>\n",
       "      <td>1_251</td>\n",
       "      <td>15.99</td>\n",
       "      <td>1</td>\n",
       "      <td>c_8534</td>\n",
       "      <td>m</td>\n",
       "      <td>1988</td>\n",
       "      <td>34</td>\n",
       "      <td>2022-02-02</td>\n",
       "      <td>s_158752</td>\n",
       "      <td>2022-02</td>\n",
       "      <td>2022</td>\n",
       "    </tr>\n",
       "    <tr>\n",
       "      <th>2</th>\n",
       "      <td>2</td>\n",
       "      <td>0_1277</td>\n",
       "      <td>7.99</td>\n",
       "      <td>0</td>\n",
       "      <td>c_6714</td>\n",
       "      <td>f</td>\n",
       "      <td>1968</td>\n",
       "      <td>54</td>\n",
       "      <td>2022-06-18</td>\n",
       "      <td>s_225667</td>\n",
       "      <td>2022-06</td>\n",
       "      <td>2022</td>\n",
       "    </tr>\n",
       "    <tr>\n",
       "      <th>3</th>\n",
       "      <td>3</td>\n",
       "      <td>2_209</td>\n",
       "      <td>69.99</td>\n",
       "      <td>2</td>\n",
       "      <td>c_6941</td>\n",
       "      <td>m</td>\n",
       "      <td>2000</td>\n",
       "      <td>22</td>\n",
       "      <td>2021-06-24</td>\n",
       "      <td>s_52962</td>\n",
       "      <td>2021-06</td>\n",
       "      <td>2021</td>\n",
       "    </tr>\n",
       "    <tr>\n",
       "      <th>4</th>\n",
       "      <td>4</td>\n",
       "      <td>0_1509</td>\n",
       "      <td>4.99</td>\n",
       "      <td>0</td>\n",
       "      <td>c_4232</td>\n",
       "      <td>m</td>\n",
       "      <td>1980</td>\n",
       "      <td>42</td>\n",
       "      <td>2023-01-11</td>\n",
       "      <td>s_325227</td>\n",
       "      <td>2023-01</td>\n",
       "      <td>2023</td>\n",
       "    </tr>\n",
       "    <tr>\n",
       "      <th>...</th>\n",
       "      <td>...</td>\n",
       "      <td>...</td>\n",
       "      <td>...</td>\n",
       "      <td>...</td>\n",
       "      <td>...</td>\n",
       "      <td>...</td>\n",
       "      <td>...</td>\n",
       "      <td>...</td>\n",
       "      <td>...</td>\n",
       "      <td>...</td>\n",
       "      <td>...</td>\n",
       "      <td>...</td>\n",
       "    </tr>\n",
       "    <tr>\n",
       "      <th>657721</th>\n",
       "      <td>679327</td>\n",
       "      <td>0_1551</td>\n",
       "      <td>12.99</td>\n",
       "      <td>0</td>\n",
       "      <td>c_8489</td>\n",
       "      <td>f</td>\n",
       "      <td>1951</td>\n",
       "      <td>71</td>\n",
       "      <td>2022-01-15</td>\n",
       "      <td>s_150195</td>\n",
       "      <td>2022-01</td>\n",
       "      <td>2022</td>\n",
       "    </tr>\n",
       "    <tr>\n",
       "      <th>657722</th>\n",
       "      <td>679328</td>\n",
       "      <td>1_639</td>\n",
       "      <td>10.99</td>\n",
       "      <td>1</td>\n",
       "      <td>c_4370</td>\n",
       "      <td>f</td>\n",
       "      <td>1977</td>\n",
       "      <td>45</td>\n",
       "      <td>2022-03-19</td>\n",
       "      <td>s_181434</td>\n",
       "      <td>2022-03</td>\n",
       "      <td>2022</td>\n",
       "    </tr>\n",
       "    <tr>\n",
       "      <th>657723</th>\n",
       "      <td>679329</td>\n",
       "      <td>0_1425</td>\n",
       "      <td>12.99</td>\n",
       "      <td>0</td>\n",
       "      <td>c_304</td>\n",
       "      <td>f</td>\n",
       "      <td>1988</td>\n",
       "      <td>34</td>\n",
       "      <td>2022-12-20</td>\n",
       "      <td>s_314704</td>\n",
       "      <td>2022-12</td>\n",
       "      <td>2022</td>\n",
       "    </tr>\n",
       "    <tr>\n",
       "      <th>657724</th>\n",
       "      <td>679330</td>\n",
       "      <td>0_1994</td>\n",
       "      <td>4.98</td>\n",
       "      <td>0</td>\n",
       "      <td>c_2227</td>\n",
       "      <td>m</td>\n",
       "      <td>1986</td>\n",
       "      <td>36</td>\n",
       "      <td>2021-07-16</td>\n",
       "      <td>s_63204</td>\n",
       "      <td>2021-07</td>\n",
       "      <td>2021</td>\n",
       "    </tr>\n",
       "    <tr>\n",
       "      <th>657725</th>\n",
       "      <td>679331</td>\n",
       "      <td>1_523</td>\n",
       "      <td>23.99</td>\n",
       "      <td>1</td>\n",
       "      <td>c_3873</td>\n",
       "      <td>m</td>\n",
       "      <td>1995</td>\n",
       "      <td>27</td>\n",
       "      <td>2022-09-28</td>\n",
       "      <td>s_274568</td>\n",
       "      <td>2022-09</td>\n",
       "      <td>2022</td>\n",
       "    </tr>\n",
       "  </tbody>\n",
       "</table>\n",
       "<p>657726 rows × 12 columns</p>\n",
       "</div>"
      ],
      "text/plain": [
       "        Unnamed: 0 id_prod  price  categ client_id sex  birth  age  \\\n",
       "0                0  0_1518   4.18      0     c_103   f   1986   36   \n",
       "1                1   1_251  15.99      1    c_8534   m   1988   34   \n",
       "2                2  0_1277   7.99      0    c_6714   f   1968   54   \n",
       "3                3   2_209  69.99      2    c_6941   m   2000   22   \n",
       "4                4  0_1509   4.99      0    c_4232   m   1980   42   \n",
       "...            ...     ...    ...    ...       ...  ..    ...  ...   \n",
       "657721      679327  0_1551  12.99      0    c_8489   f   1951   71   \n",
       "657722      679328   1_639  10.99      1    c_4370   f   1977   45   \n",
       "657723      679329  0_1425  12.99      0     c_304   f   1988   34   \n",
       "657724      679330  0_1994   4.98      0    c_2227   m   1986   36   \n",
       "657725      679331   1_523  23.99      1    c_3873   m   1995   27   \n",
       "\n",
       "              date session_id date_mois  date_annee  \n",
       "0       2022-05-20   s_211425   2022-05        2022  \n",
       "1       2022-02-02   s_158752   2022-02        2022  \n",
       "2       2022-06-18   s_225667   2022-06        2022  \n",
       "3       2021-06-24    s_52962   2021-06        2021  \n",
       "4       2023-01-11   s_325227   2023-01        2023  \n",
       "...            ...        ...       ...         ...  \n",
       "657721  2022-01-15   s_150195   2022-01        2022  \n",
       "657722  2022-03-19   s_181434   2022-03        2022  \n",
       "657723  2022-12-20   s_314704   2022-12        2022  \n",
       "657724  2021-07-16    s_63204   2021-07        2021  \n",
       "657725  2022-09-28   s_274568   2022-09        2022  \n",
       "\n",
       "[657726 rows x 12 columns]"
      ]
     },
     "metadata": {},
     "output_type": "display_data"
    }
   ],
   "source": [
    "display(df_final) #Affichage de notre dataframe nettoyé"
   ]
  },
  {
   "cell_type": "markdown",
   "id": "ae822284",
   "metadata": {},
   "source": [
    "# Calcul du CA"
   ]
  },
  {
   "cell_type": "code",
   "execution_count": 4,
   "id": "a7cd0e7b",
   "metadata": {},
   "outputs": [
    {
     "name": "stdout",
     "output_type": "stream",
     "text": [
      " Le CA total sans octobre est de 11535206.51 €\n"
     ]
    }
   ],
   "source": [
    "#CA total sans le mois d'octobre\n",
    "ca_total= df_final['price'].sum()\n",
    "print(f\" Le CA total sans octobre est de {ca_total:.2f} €\")\n"
   ]
  },
  {
   "cell_type": "code",
   "execution_count": 5,
   "id": "4e851e12",
   "metadata": {},
   "outputs": [
    {
     "name": "stdout",
     "output_type": "stream",
     "text": [
      "En enlevant le mois d'octobre, nous avons un écart de CA de 320873.21 €\n"
     ]
    }
   ],
   "source": [
    "#Différence entre avec mois octobre et sans le mois d'octobre\n",
    "ecart_ca= 11856079.72-ca_total\n",
    "print(f\"En enlevant le mois d'octobre, nous avons un écart de CA de {round(ecart_ca,2)} €\")"
   ]
  },
  {
   "cell_type": "code",
   "execution_count": 6,
   "id": "18863bda",
   "metadata": {},
   "outputs": [
    {
     "name": "stdout",
     "output_type": "stream",
     "text": [
      "Il y a un total de 657726 ventes\n"
     ]
    }
   ],
   "source": [
    "#Nombre de ventes totales\n",
    "ventes=(df_final['session_id'].value_counts()).sum()\n",
    "print(f\"Il y a un total de {ventes} ventes\")"
   ]
  },
  {
   "cell_type": "code",
   "execution_count": 7,
   "id": "0618a665",
   "metadata": {},
   "outputs": [
    {
     "name": "stdout",
     "output_type": "stream",
     "text": [
      "Le panier moyen est de 34.87€\n"
     ]
    }
   ],
   "source": [
    "#Panier moyen\n",
    "prix_panier_moyen = df_final.groupby([\"session_id\"])[\"price\"].sum().mean()\n",
    "\n",
    "print(f\"Le panier moyen est de {round(prix_panier_moyen,2)}€\")"
   ]
  },
  {
   "cell_type": "markdown",
   "id": "e34f8168",
   "metadata": {},
   "source": [
    "## Calcul de la moyenne mobile "
   ]
  },
  {
   "cell_type": "markdown",
   "id": "f26ec788",
   "metadata": {},
   "source": [
    "La moyenne mobile permet de lisser une série de valeurs exprimées en fonction du temps\n",
    "\n",
    "pandas.DataFrame.rolling(n).mean()\n",
    "\n",
    "On doit déterminer la taille de la fenêtre (rolling) ici on prend 7 jours et 30 jours"
   ]
  },
  {
   "cell_type": "code",
   "execution_count": 8,
   "id": "566a9de4",
   "metadata": {},
   "outputs": [
    {
     "data": {
      "text/html": [
       "<div>\n",
       "<style scoped>\n",
       "    .dataframe tbody tr th:only-of-type {\n",
       "        vertical-align: middle;\n",
       "    }\n",
       "\n",
       "    .dataframe tbody tr th {\n",
       "        vertical-align: top;\n",
       "    }\n",
       "\n",
       "    .dataframe thead th {\n",
       "        text-align: right;\n",
       "    }\n",
       "</style>\n",
       "<table border=\"1\" class=\"dataframe\">\n",
       "  <thead>\n",
       "    <tr style=\"text-align: right;\">\n",
       "      <th></th>\n",
       "      <th>date</th>\n",
       "      <th>price</th>\n",
       "    </tr>\n",
       "  </thead>\n",
       "  <tbody>\n",
       "    <tr>\n",
       "      <th>0</th>\n",
       "      <td>2021-03-01</td>\n",
       "      <td>16575.858188</td>\n",
       "    </tr>\n",
       "    <tr>\n",
       "      <th>1</th>\n",
       "      <td>2021-03-02</td>\n",
       "      <td>15497.088188</td>\n",
       "    </tr>\n",
       "    <tr>\n",
       "      <th>2</th>\n",
       "      <td>2021-03-03</td>\n",
       "      <td>15198.690000</td>\n",
       "    </tr>\n",
       "    <tr>\n",
       "      <th>3</th>\n",
       "      <td>2021-03-04</td>\n",
       "      <td>15196.070000</td>\n",
       "    </tr>\n",
       "    <tr>\n",
       "      <th>4</th>\n",
       "      <td>2021-03-05</td>\n",
       "      <td>17471.370000</td>\n",
       "    </tr>\n",
       "  </tbody>\n",
       "</table>\n",
       "</div>"
      ],
      "text/plain": [
       "         date         price\n",
       "0  2021-03-01  16575.858188\n",
       "1  2021-03-02  15497.088188\n",
       "2  2021-03-03  15198.690000\n",
       "3  2021-03-04  15196.070000\n",
       "4  2021-03-05  17471.370000"
      ]
     },
     "execution_count": 8,
     "metadata": {},
     "output_type": "execute_result"
    }
   ],
   "source": [
    "#Evolution du CA dans le temps \n",
    "schema_evolution_ca=df_final.groupby(['date'])['price'].sum().reset_index()\n",
    "schema_evolution_ca.head()\n"
   ]
  },
  {
   "cell_type": "code",
   "execution_count": 9,
   "id": "752a6548",
   "metadata": {},
   "outputs": [
    {
     "name": "stdout",
     "output_type": "stream",
     "text": [
      "          date         price   moy_mobile7  moy_mobile30\n",
      "0   2021-03-01  16575.858188           NaN           NaN\n",
      "1   2021-03-02  15497.088188           NaN           NaN\n",
      "2   2021-03-03  15198.690000           NaN           NaN\n",
      "3   2021-03-04  15196.070000           NaN           NaN\n",
      "4   2021-03-05  17471.370000           NaN           NaN\n",
      "5   2021-03-06  15785.280000           NaN           NaN\n",
      "6   2021-03-07  14770.838188  15785.027795           NaN\n",
      "7   2021-03-08  15679.530000  15656.980911           NaN\n",
      "8   2021-03-09  15710.510000  15687.469741           NaN\n",
      "9   2021-03-10  15496.870000  15730.066884           NaN\n",
      "10  2021-03-11  14801.140000  15673.648313           NaN\n",
      "11  2021-03-12  14448.580000  15241.821170           NaN\n",
      "12  2021-03-13  14324.840000  15033.186884           NaN\n",
      "13  2021-03-14  15231.770000  15099.034286           NaN\n",
      "14  2021-03-15  16141.660000  15165.052857           NaN\n",
      "15  2021-03-16  15971.740000  15202.371429           NaN\n",
      "16  2021-03-17  16025.470000  15277.885714           NaN\n",
      "17  2021-03-18  15060.790000  15314.978571           NaN\n",
      "18  2021-03-19  15545.770000  15471.720000           NaN\n",
      "19  2021-03-20  15853.990000  15690.170000           NaN\n",
      "20  2021-03-21  17459.660000  16008.440000           NaN\n",
      "21  2021-03-22  15657.050000  15939.210000           NaN\n",
      "22  2021-03-23  16039.188188  15948.845455           NaN\n",
      "23  2021-03-24  15101.700000  15816.878313           NaN\n",
      "24  2021-03-25  15162.180000  15831.362598           NaN\n",
      "25  2021-03-26  16176.280000  15921.435455           NaN\n",
      "26  2021-03-27  15238.090000  15833.449741           NaN\n",
      "27  2021-03-28  16098.496376  15638.997795           NaN\n",
      "28  2021-03-29  14458.316376  15467.750134           NaN\n",
      "29  2021-03-30  14826.148188  15294.458706  15566.832123\n",
      "30  2021-03-31  15531.390000  15355.842991  15532.016517\n",
      "31  2021-04-01  15520.780000  15407.071563  15532.806244\n",
      "32  2021-04-02  15981.688188  15379.272733  15558.906183\n",
      "33  2021-04-03  15514.948188  15418.823902  15569.535456\n",
      "34  2021-04-04  16115.580000  15421.264420  15524.342456\n"
     ]
    }
   ],
   "source": [
    "# Calcul de la moyenne mobile 7 jours et 30 jours\n",
    "schema_evolution_ca[ 'moy_mobile7' ] = schema_evolution_ca.price.rolling(7).mean()\n",
    "\n",
    "schema_evolution_ca[ 'moy_mobile30' ] = schema_evolution_ca.price.rolling(30).mean()\n",
    "  \n",
    "# Affichage \n",
    "print(schema_evolution_ca.head(35))"
   ]
  },
  {
   "cell_type": "code",
   "execution_count": 10,
   "id": "3c14fa2f",
   "metadata": {},
   "outputs": [
    {
     "data": {
      "text/plain": [
       "<AxesSubplot:xlabel='date', ylabel='price'>"
      ]
     },
     "execution_count": 10,
     "metadata": {},
     "output_type": "execute_result"
    },
    {
     "data": {
      "image/png": "[encoded data removed]",
      "text/plain": [
       "<Figure size 864x720 with 1 Axes>"
      ]
     },
     "metadata": {
      "needs_background": "light"
     },
     "output_type": "display_data"
    }
   ],
   "source": [
    "#Représention graphique de la moyenne mobile 7 et 30 jours\n",
    "plt.figure( figsize = ( 12, 10))\n",
    "\n",
    "sns.lineplot( x = 'date',\n",
    "             y = 'price',\n",
    "             data = schema_evolution_ca,\n",
    "             label = 'CA')\n",
    "\n",
    "sns.lineplot( x = 'date',\n",
    "             y = 'moy_mobile7',\n",
    "             data = schema_evolution_ca,\n",
    "             label = 'moyenne mobile 7 jours')\n",
    "\n",
    "sns.lineplot( x = 'date',\n",
    "             y = 'moy_mobile30',\n",
    "             data = schema_evolution_ca,\n",
    "             label = 'moyenne mobile 30 jours')"
   ]
  },
  {
   "cell_type": "markdown",
   "id": "402b5859",
   "metadata": {},
   "source": [
    "# CA par catégorie"
   ]
  },
  {
   "cell_type": "code",
   "execution_count": 11,
   "id": "27610e58",
   "metadata": {},
   "outputs": [
    {
     "data": {
      "text/html": [
       "<div>\n",
       "<style scoped>\n",
       "    .dataframe tbody tr th:only-of-type {\n",
       "        vertical-align: middle;\n",
       "    }\n",
       "\n",
       "    .dataframe tbody tr th {\n",
       "        vertical-align: top;\n",
       "    }\n",
       "\n",
       "    .dataframe thead th {\n",
       "        text-align: right;\n",
       "    }\n",
       "</style>\n",
       "<table border=\"1\" class=\"dataframe\">\n",
       "  <thead>\n",
       "    <tr style=\"text-align: right;\">\n",
       "      <th></th>\n",
       "      <th>date_annee</th>\n",
       "      <th>categ</th>\n",
       "      <th>price</th>\n",
       "    </tr>\n",
       "  </thead>\n",
       "  <tbody>\n",
       "    <tr>\n",
       "      <th>0</th>\n",
       "      <td>2021</td>\n",
       "      <td>0</td>\n",
       "      <td>1684621</td>\n",
       "    </tr>\n",
       "    <tr>\n",
       "      <th>1</th>\n",
       "      <td>2021</td>\n",
       "      <td>1</td>\n",
       "      <td>1744234</td>\n",
       "    </tr>\n",
       "    <tr>\n",
       "      <th>2</th>\n",
       "      <td>2021</td>\n",
       "      <td>2</td>\n",
       "      <td>1022025</td>\n",
       "    </tr>\n",
       "    <tr>\n",
       "      <th>3</th>\n",
       "      <td>2022</td>\n",
       "      <td>0</td>\n",
       "      <td>2194247</td>\n",
       "    </tr>\n",
       "    <tr>\n",
       "      <th>4</th>\n",
       "      <td>2022</td>\n",
       "      <td>1</td>\n",
       "      <td>2485275</td>\n",
       "    </tr>\n",
       "    <tr>\n",
       "      <th>5</th>\n",
       "      <td>2022</td>\n",
       "      <td>2</td>\n",
       "      <td>1430436</td>\n",
       "    </tr>\n",
       "    <tr>\n",
       "      <th>6</th>\n",
       "      <td>2023</td>\n",
       "      <td>0</td>\n",
       "      <td>343889</td>\n",
       "    </tr>\n",
       "    <tr>\n",
       "      <th>7</th>\n",
       "      <td>2023</td>\n",
       "      <td>1</td>\n",
       "      <td>390452</td>\n",
       "    </tr>\n",
       "    <tr>\n",
       "      <th>8</th>\n",
       "      <td>2023</td>\n",
       "      <td>2</td>\n",
       "      <td>240029</td>\n",
       "    </tr>\n",
       "  </tbody>\n",
       "</table>\n",
       "</div>"
      ],
      "text/plain": [
       "  date_annee categ    price\n",
       "0       2021     0  1684621\n",
       "1       2021     1  1744234\n",
       "2       2021     2  1022025\n",
       "3       2022     0  2194247\n",
       "4       2022     1  2485275\n",
       "5       2022     2  1430436\n",
       "6       2023     0   343889\n",
       "7       2023     1   390452\n",
       "8       2023     2   240029"
      ]
     },
     "metadata": {},
     "output_type": "display_data"
    }
   ],
   "source": [
    "#Visualisation du CA par catégorie\n",
    "ca_total_categ = df_final.groupby(['date_annee','categ'])['price'].sum().reset_index()\n",
    "ca_total_categ.head(9)\n",
    "\n",
    "display(ca_total_categ.apply(lambda s: s.apply('{0:.0f}'.format)))\n"
   ]
  },
  {
   "cell_type": "code",
   "execution_count": 12,
   "id": "b81f87a0",
   "metadata": {},
   "outputs": [
    {
     "data": {
      "text/plain": [
       "Text(0.5, 1.0, 'CA par catégorie et par an')"
      ]
     },
     "execution_count": 12,
     "metadata": {},
     "output_type": "execute_result"
    },
    {
     "data": {
      "image/png": "[encoded data removed]",
      "text/plain": [
       "<Figure size 720x432 with 1 Axes>"
      ]
     },
     "metadata": {
      "needs_background": "light"
     },
     "output_type": "display_data"
    }
   ],
   "source": [
    "#CA par catégorie et par an\n",
    "ca_total_categ.groupby(['date_annee','categ']).sum().unstack().plot(kind='bar', y = 'price', stacked=True, figsize = (10,6))\n",
    "\n",
    "plt.title(\"CA par catégorie et par an\")"
   ]
  },
  {
   "cell_type": "code",
   "execution_count": 13,
   "id": "c9250d62",
   "metadata": {},
   "outputs": [
    {
     "data": {
      "text/html": [
       "<div>\n",
       "<style scoped>\n",
       "    .dataframe tbody tr th:only-of-type {\n",
       "        vertical-align: middle;\n",
       "    }\n",
       "\n",
       "    .dataframe tbody tr th {\n",
       "        vertical-align: top;\n",
       "    }\n",
       "\n",
       "    .dataframe thead th {\n",
       "        text-align: right;\n",
       "    }\n",
       "</style>\n",
       "<table border=\"1\" class=\"dataframe\">\n",
       "  <thead>\n",
       "    <tr style=\"text-align: right;\">\n",
       "      <th></th>\n",
       "      <th>categ</th>\n",
       "      <th>price</th>\n",
       "    </tr>\n",
       "  </thead>\n",
       "  <tbody>\n",
       "    <tr>\n",
       "      <th>0</th>\n",
       "      <td>0</td>\n",
       "      <td>4222757</td>\n",
       "    </tr>\n",
       "    <tr>\n",
       "      <th>1</th>\n",
       "      <td>1</td>\n",
       "      <td>4619960</td>\n",
       "    </tr>\n",
       "    <tr>\n",
       "      <th>2</th>\n",
       "      <td>2</td>\n",
       "      <td>2692489</td>\n",
       "    </tr>\n",
       "  </tbody>\n",
       "</table>\n",
       "</div>"
      ],
      "text/plain": [
       "  categ    price\n",
       "0     0  4222757\n",
       "1     1  4619960\n",
       "2     2  2692489"
      ]
     },
     "metadata": {},
     "output_type": "display_data"
    },
    {
     "data": {
      "text/plain": [
       "Text(0.5, 1.0, 'CA par catégorie')"
      ]
     },
     "execution_count": 13,
     "metadata": {},
     "output_type": "execute_result"
    },
    {
     "data": {
      "image/png": "[encoded data removed]",
      "text/plain": [
       "<Figure size 432x288 with 1 Axes>"
      ]
     },
     "metadata": {},
     "output_type": "display_data"
    }
   ],
   "source": [
    "#Ca pour chaque catégorie\n",
    "ca_categ = df_final.groupby(['categ'])['price'].sum().reset_index()\n",
    "display(ca_categ.apply(lambda s: s.apply('{0:.0f}'.format)).head())\n",
    "ca_categ.plot(kind='pie', y = 'price', autopct='%1.2f%%')\n",
    "plt.title(\"CA par catégorie\")"
   ]
  },
  {
   "cell_type": "markdown",
   "id": "95ff89bf",
   "metadata": {},
   "source": [
    "##  Nombre de ventes par catégories "
   ]
  },
  {
   "cell_type": "code",
   "execution_count": 14,
   "id": "bbce1a78",
   "metadata": {},
   "outputs": [
    {
     "data": {
      "text/html": [
       "<div>\n",
       "<style scoped>\n",
       "    .dataframe tbody tr th:only-of-type {\n",
       "        vertical-align: middle;\n",
       "    }\n",
       "\n",
       "    .dataframe tbody tr th {\n",
       "        vertical-align: top;\n",
       "    }\n",
       "\n",
       "    .dataframe thead th {\n",
       "        text-align: right;\n",
       "    }\n",
       "</style>\n",
       "<table border=\"1\" class=\"dataframe\">\n",
       "  <thead>\n",
       "    <tr style=\"text-align: right;\">\n",
       "      <th></th>\n",
       "      <th>categ</th>\n",
       "      <th>vente</th>\n",
       "    </tr>\n",
       "  </thead>\n",
       "  <tbody>\n",
       "    <tr>\n",
       "      <th>0</th>\n",
       "      <td>0</td>\n",
       "      <td>396911</td>\n",
       "    </tr>\n",
       "    <tr>\n",
       "      <th>1</th>\n",
       "      <td>1</td>\n",
       "      <td>225503</td>\n",
       "    </tr>\n",
       "    <tr>\n",
       "      <th>2</th>\n",
       "      <td>2</td>\n",
       "      <td>35312</td>\n",
       "    </tr>\n",
       "  </tbody>\n",
       "</table>\n",
       "</div>"
      ],
      "text/plain": [
       "   categ   vente\n",
       "0      0  396911\n",
       "1      1  225503\n",
       "2      2   35312"
      ]
     },
     "metadata": {},
     "output_type": "display_data"
    },
    {
     "name": "stdout",
     "output_type": "stream",
     "text": [
      "Nous avons : \n",
      " 396 911 ventes pour la categorie 0 \n",
      " 225 503 ventes pour la catégorie 1 \n",
      " 35 312 ventes pour la catégorie 2\n"
     ]
    }
   ],
   "source": [
    "#Nombre de ventes par catégories \n",
    "vente_categ= df_final.groupby(['categ'])[['price']].count().reset_index()\n",
    "vente_categ= vente_categ.rename(columns={'price':'vente'})\n",
    "\n",
    "display(vente_categ)\n",
    "\n",
    "print(\"Nous avons : \\n 396 911 ventes pour la categorie 0 \\n 225 503 ventes pour la catégorie 1 \\n 35 312 ventes pour la catégorie 2\")"
   ]
  },
  {
   "cell_type": "code",
   "execution_count": 15,
   "id": "175194cf",
   "metadata": {},
   "outputs": [
    {
     "data": {
      "text/plain": [
       "Text(0.5, 1.0, 'Ventes par catégorie')"
      ]
     },
     "execution_count": 15,
     "metadata": {},
     "output_type": "execute_result"
    },
    {
     "data": {
      "image/png": "[encoded data removed]",
      "text/plain": [
       "<Figure size 432x288 with 1 Axes>"
      ]
     },
     "metadata": {},
     "output_type": "display_data"
    }
   ],
   "source": [
    "#Representation graphique vente par categorie \n",
    "\n",
    "vente_categ.plot(kind='pie', y = 'vente', autopct='%1.2f%%')\n",
    "plt.title(\"Ventes par catégorie\")"
   ]
  },
  {
   "cell_type": "markdown",
   "id": "259195fc",
   "metadata": {},
   "source": [
    "Catégorie 0 : nous avons 396 911 ventes soit 60.35% des ventes \n",
    "\n",
    "Catégorie 1 : nous avons 225 503 ventes soit 34.29% des ventes\n",
    "\n",
    "Catégorie 2 : nous avons 35 312 ventes soit 5.37% des ventes"
   ]
  },
  {
   "cell_type": "code",
   "execution_count": 16,
   "id": "43dd7b43",
   "metadata": {},
   "outputs": [
    {
     "data": {
      "text/html": [
       "<div>\n",
       "<style scoped>\n",
       "    .dataframe tbody tr th:only-of-type {\n",
       "        vertical-align: middle;\n",
       "    }\n",
       "\n",
       "    .dataframe tbody tr th {\n",
       "        vertical-align: top;\n",
       "    }\n",
       "\n",
       "    .dataframe thead th {\n",
       "        text-align: right;\n",
       "    }\n",
       "</style>\n",
       "<table border=\"1\" class=\"dataframe\">\n",
       "  <thead>\n",
       "    <tr style=\"text-align: right;\">\n",
       "      <th></th>\n",
       "      <th>categ</th>\n",
       "      <th>price</th>\n",
       "    </tr>\n",
       "  </thead>\n",
       "  <tbody>\n",
       "    <tr>\n",
       "      <th>0</th>\n",
       "      <td>0</td>\n",
       "      <td>10.64</td>\n",
       "    </tr>\n",
       "    <tr>\n",
       "      <th>1</th>\n",
       "      <td>1</td>\n",
       "      <td>20.49</td>\n",
       "    </tr>\n",
       "    <tr>\n",
       "      <th>2</th>\n",
       "      <td>2</td>\n",
       "      <td>76.25</td>\n",
       "    </tr>\n",
       "  </tbody>\n",
       "</table>\n",
       "</div>"
      ],
      "text/plain": [
       "   categ  price\n",
       "0      0  10.64\n",
       "1      1  20.49\n",
       "2      2  76.25"
      ]
     },
     "metadata": {},
     "output_type": "display_data"
    }
   ],
   "source": [
    "# Prix moyen par catégorie\n",
    "moy_categ = df_final.groupby('categ')[['price']].mean().reset_index()\n",
    "display(round(moy_categ,2))"
   ]
  },
  {
   "cell_type": "markdown",
   "id": "9c111051",
   "metadata": {},
   "source": [
    "# Tops & Flops"
   ]
  },
  {
   "cell_type": "code",
   "execution_count": 17,
   "id": "a8493373",
   "metadata": {},
   "outputs": [
    {
     "name": "stdout",
     "output_type": "stream",
     "text": [
      "Les produits les plus rentables\n"
     ]
    },
    {
     "data": {
      "text/html": [
       "<div>\n",
       "<style scoped>\n",
       "    .dataframe tbody tr th:only-of-type {\n",
       "        vertical-align: middle;\n",
       "    }\n",
       "\n",
       "    .dataframe tbody tr th {\n",
       "        vertical-align: top;\n",
       "    }\n",
       "\n",
       "    .dataframe thead th {\n",
       "        text-align: right;\n",
       "    }\n",
       "</style>\n",
       "<table border=\"1\" class=\"dataframe\">\n",
       "  <thead>\n",
       "    <tr style=\"text-align: right;\">\n",
       "      <th></th>\n",
       "      <th>id_prod</th>\n",
       "      <th>price</th>\n",
       "    </tr>\n",
       "  </thead>\n",
       "  <tbody>\n",
       "    <tr>\n",
       "      <th>3095</th>\n",
       "      <td>2_159</td>\n",
       "      <td>92265.68</td>\n",
       "    </tr>\n",
       "    <tr>\n",
       "      <th>3069</th>\n",
       "      <td>2_135</td>\n",
       "      <td>67403.23</td>\n",
       "    </tr>\n",
       "    <tr>\n",
       "      <th>3044</th>\n",
       "      <td>2_112</td>\n",
       "      <td>62840.10</td>\n",
       "    </tr>\n",
       "    <tr>\n",
       "      <th>3033</th>\n",
       "      <td>2_102</td>\n",
       "      <td>58962.58</td>\n",
       "    </tr>\n",
       "    <tr>\n",
       "      <th>3151</th>\n",
       "      <td>2_209</td>\n",
       "      <td>55362.09</td>\n",
       "    </tr>\n",
       "    <tr>\n",
       "      <th>2618</th>\n",
       "      <td>1_395</td>\n",
       "      <td>53950.39</td>\n",
       "    </tr>\n",
       "    <tr>\n",
       "      <th>2590</th>\n",
       "      <td>1_369</td>\n",
       "      <td>53665.63</td>\n",
       "    </tr>\n",
       "    <tr>\n",
       "      <th>3042</th>\n",
       "      <td>2_110</td>\n",
       "      <td>51916.50</td>\n",
       "    </tr>\n",
       "    <tr>\n",
       "      <th>2640</th>\n",
       "      <td>1_414</td>\n",
       "      <td>51615.78</td>\n",
       "    </tr>\n",
       "    <tr>\n",
       "      <th>3200</th>\n",
       "      <td>2_39</td>\n",
       "      <td>51147.18</td>\n",
       "    </tr>\n",
       "  </tbody>\n",
       "</table>\n",
       "</div>"
      ],
      "text/plain": [
       "     id_prod     price\n",
       "3095   2_159  92265.68\n",
       "3069   2_135  67403.23\n",
       "3044   2_112  62840.10\n",
       "3033   2_102  58962.58\n",
       "3151   2_209  55362.09\n",
       "2618   1_395  53950.39\n",
       "2590   1_369  53665.63\n",
       "3042   2_110  51916.50\n",
       "2640   1_414  51615.78\n",
       "3200    2_39  51147.18"
      ]
     },
     "metadata": {},
     "output_type": "display_data"
    },
    {
     "name": "stdout",
     "output_type": "stream",
     "text": [
      "Les bestsellers sont majoritairement dans la catégorie 2\n",
      "Les produits les moins rentables\n"
     ]
    },
    {
     "data": {
      "text/html": [
       "<div>\n",
       "<style scoped>\n",
       "    .dataframe tbody tr th:only-of-type {\n",
       "        vertical-align: middle;\n",
       "    }\n",
       "\n",
       "    .dataframe tbody tr th {\n",
       "        vertical-align: top;\n",
       "    }\n",
       "\n",
       "    .dataframe thead th {\n",
       "        text-align: right;\n",
       "    }\n",
       "</style>\n",
       "<table border=\"1\" class=\"dataframe\">\n",
       "  <thead>\n",
       "    <tr style=\"text-align: right;\">\n",
       "      <th></th>\n",
       "      <th>id_prod</th>\n",
       "      <th>price</th>\n",
       "    </tr>\n",
       "  </thead>\n",
       "  <tbody>\n",
       "    <tr>\n",
       "      <th>594</th>\n",
       "      <td>0_1539</td>\n",
       "      <td>0.99</td>\n",
       "    </tr>\n",
       "    <tr>\n",
       "      <th>2178</th>\n",
       "      <td>0_898</td>\n",
       "      <td>1.27</td>\n",
       "    </tr>\n",
       "    <tr>\n",
       "      <th>313</th>\n",
       "      <td>0_1284</td>\n",
       "      <td>1.38</td>\n",
       "    </tr>\n",
       "    <tr>\n",
       "      <th>1896</th>\n",
       "      <td>0_643</td>\n",
       "      <td>1.98</td>\n",
       "    </tr>\n",
       "    <tr>\n",
       "      <th>718</th>\n",
       "      <td>0_1653</td>\n",
       "      <td>1.98</td>\n",
       "    </tr>\n",
       "    <tr>\n",
       "      <th>2078</th>\n",
       "      <td>0_807</td>\n",
       "      <td>1.99</td>\n",
       "    </tr>\n",
       "    <tr>\n",
       "      <th>1783</th>\n",
       "      <td>0_541</td>\n",
       "      <td>1.99</td>\n",
       "    </tr>\n",
       "    <tr>\n",
       "      <th>664</th>\n",
       "      <td>0_1601</td>\n",
       "      <td>1.99</td>\n",
       "    </tr>\n",
       "    <tr>\n",
       "      <th>801</th>\n",
       "      <td>0_1728</td>\n",
       "      <td>2.27</td>\n",
       "    </tr>\n",
       "    <tr>\n",
       "      <th>1543</th>\n",
       "      <td>0_324</td>\n",
       "      <td>2.36</td>\n",
       "    </tr>\n",
       "  </tbody>\n",
       "</table>\n",
       "</div>"
      ],
      "text/plain": [
       "     id_prod  price\n",
       "594   0_1539   0.99\n",
       "2178   0_898   1.27\n",
       "313   0_1284   1.38\n",
       "1896   0_643   1.98\n",
       "718   0_1653   1.98\n",
       "2078   0_807   1.99\n",
       "1783   0_541   1.99\n",
       "664   0_1601   1.99\n",
       "801   0_1728   2.27\n",
       "1543   0_324   2.36"
      ]
     },
     "metadata": {},
     "output_type": "display_data"
    },
    {
     "name": "stdout",
     "output_type": "stream",
     "text": [
      "Les produits les moins rentables sont majoritairement dans la catégorie 0\n"
     ]
    }
   ],
   "source": [
    "#Les livres les plus rentables:\n",
    "df_livres= df_final.groupby (['id_prod'])['price'].sum().reset_index()\n",
    "df_bestseller= df_livres.sort_values(['price'], ascending = False)\n",
    "print(\"Les produits les plus rentables\")\n",
    "display(df_bestseller.head(10))\n",
    "\n",
    "print(\"Les bestsellers sont majoritairement dans la catégorie 2\")\n",
    "\n",
    "#les moins rentables:\n",
    "df_flop= df_livres.sort_values(['price'], ascending = True)\n",
    "\n",
    "print(\"Les produits les moins rentables\")\n",
    "display(df_flop.head(10))\n",
    "\n",
    "print(\"Les produits les moins rentables sont majoritairement dans la catégorie 0\")\n"
   ]
  },
  {
   "cell_type": "code",
   "execution_count": 18,
   "id": "77a4b579",
   "metadata": {},
   "outputs": [
    {
     "data": {
      "text/html": [
       "<div>\n",
       "<style scoped>\n",
       "    .dataframe tbody tr th:only-of-type {\n",
       "        vertical-align: middle;\n",
       "    }\n",
       "\n",
       "    .dataframe tbody tr th {\n",
       "        vertical-align: top;\n",
       "    }\n",
       "\n",
       "    .dataframe thead tr th {\n",
       "        text-align: left;\n",
       "    }\n",
       "</style>\n",
       "<table border=\"1\" class=\"dataframe\">\n",
       "  <thead>\n",
       "    <tr>\n",
       "      <th></th>\n",
       "      <th>categ</th>\n",
       "      <th>id_prod</th>\n",
       "      <th>count</th>\n",
       "      <th>sum</th>\n",
       "    </tr>\n",
       "    <tr>\n",
       "      <th></th>\n",
       "      <th></th>\n",
       "      <th></th>\n",
       "      <th>price</th>\n",
       "      <th>price</th>\n",
       "    </tr>\n",
       "  </thead>\n",
       "  <tbody>\n",
       "    <tr>\n",
       "      <th>0</th>\n",
       "      <td>0</td>\n",
       "      <td>0_0</td>\n",
       "      <td>1194</td>\n",
       "      <td>4477.50</td>\n",
       "    </tr>\n",
       "    <tr>\n",
       "      <th>1</th>\n",
       "      <td>0</td>\n",
       "      <td>0_1</td>\n",
       "      <td>469</td>\n",
       "      <td>5154.31</td>\n",
       "    </tr>\n",
       "    <tr>\n",
       "      <th>2</th>\n",
       "      <td>0</td>\n",
       "      <td>0_10</td>\n",
       "      <td>18</td>\n",
       "      <td>323.10</td>\n",
       "    </tr>\n",
       "    <tr>\n",
       "      <th>3</th>\n",
       "      <td>0</td>\n",
       "      <td>0_100</td>\n",
       "      <td>3</td>\n",
       "      <td>61.80</td>\n",
       "    </tr>\n",
       "    <tr>\n",
       "      <th>4</th>\n",
       "      <td>0</td>\n",
       "      <td>0_1000</td>\n",
       "      <td>408</td>\n",
       "      <td>2790.72</td>\n",
       "    </tr>\n",
       "    <tr>\n",
       "      <th>...</th>\n",
       "      <td>...</td>\n",
       "      <td>...</td>\n",
       "      <td>...</td>\n",
       "      <td>...</td>\n",
       "    </tr>\n",
       "    <tr>\n",
       "      <th>3259</th>\n",
       "      <td>2</td>\n",
       "      <td>2_95</td>\n",
       "      <td>4</td>\n",
       "      <td>395.96</td>\n",
       "    </tr>\n",
       "    <tr>\n",
       "      <th>3260</th>\n",
       "      <td>2</td>\n",
       "      <td>2_96</td>\n",
       "      <td>581</td>\n",
       "      <td>27835.71</td>\n",
       "    </tr>\n",
       "    <tr>\n",
       "      <th>3261</th>\n",
       "      <td>2</td>\n",
       "      <td>2_97</td>\n",
       "      <td>13</td>\n",
       "      <td>2092.87</td>\n",
       "    </tr>\n",
       "    <tr>\n",
       "      <th>3262</th>\n",
       "      <td>2</td>\n",
       "      <td>2_98</td>\n",
       "      <td>1</td>\n",
       "      <td>149.74</td>\n",
       "    </tr>\n",
       "    <tr>\n",
       "      <th>3263</th>\n",
       "      <td>2</td>\n",
       "      <td>2_99</td>\n",
       "      <td>7</td>\n",
       "      <td>594.93</td>\n",
       "    </tr>\n",
       "  </tbody>\n",
       "</table>\n",
       "<p>3264 rows × 4 columns</p>\n",
       "</div>"
      ],
      "text/plain": [
       "     categ id_prod count       sum\n",
       "                   price     price\n",
       "0        0     0_0  1194   4477.50\n",
       "1        0     0_1   469   5154.31\n",
       "2        0    0_10    18    323.10\n",
       "3        0   0_100     3     61.80\n",
       "4        0  0_1000   408   2790.72\n",
       "...    ...     ...   ...       ...\n",
       "3259     2    2_95     4    395.96\n",
       "3260     2    2_96   581  27835.71\n",
       "3261     2    2_97    13   2092.87\n",
       "3262     2    2_98     1    149.74\n",
       "3263     2    2_99     7    594.93\n",
       "\n",
       "[3264 rows x 4 columns]"
      ]
     },
     "metadata": {},
     "output_type": "display_data"
    }
   ],
   "source": [
    "# Top & Flop par categorie\n",
    "top_flop= pd.pivot_table(df_final, index = ['categ', 'id_prod'], values = 'price',aggfunc=[\"count\", \"sum\"]).reset_index()\n",
    "display(top_flop)"
   ]
  },
  {
   "cell_type": "markdown",
   "id": "77d5216b",
   "metadata": {},
   "source": [
    "## Top & Flop catégorie 0 "
   ]
  },
  {
   "cell_type": "code",
   "execution_count": 19,
   "id": "df581fe7",
   "metadata": {},
   "outputs": [
    {
     "name": "stdout",
     "output_type": "stream",
     "text": [
      "Les meilleurs ventes de la catégorie 0\n"
     ]
    },
    {
     "data": {
      "text/html": [
       "<div>\n",
       "<style scoped>\n",
       "    .dataframe tbody tr th:only-of-type {\n",
       "        vertical-align: middle;\n",
       "    }\n",
       "\n",
       "    .dataframe tbody tr th {\n",
       "        vertical-align: top;\n",
       "    }\n",
       "\n",
       "    .dataframe thead tr th {\n",
       "        text-align: left;\n",
       "    }\n",
       "</style>\n",
       "<table border=\"1\" class=\"dataframe\">\n",
       "  <thead>\n",
       "    <tr>\n",
       "      <th></th>\n",
       "      <th>categ</th>\n",
       "      <th>id_prod</th>\n",
       "      <th>count</th>\n",
       "      <th>sum</th>\n",
       "    </tr>\n",
       "    <tr>\n",
       "      <th></th>\n",
       "      <th></th>\n",
       "      <th></th>\n",
       "      <th>price</th>\n",
       "      <th>price</th>\n",
       "    </tr>\n",
       "  </thead>\n",
       "  <tbody>\n",
       "    <tr>\n",
       "      <th>0</th>\n",
       "      <td>0</td>\n",
       "      <td>0_0</td>\n",
       "      <td>1194</td>\n",
       "      <td>4477.50</td>\n",
       "    </tr>\n",
       "    <tr>\n",
       "      <th>1</th>\n",
       "      <td>0</td>\n",
       "      <td>0_1</td>\n",
       "      <td>469</td>\n",
       "      <td>5154.31</td>\n",
       "    </tr>\n",
       "    <tr>\n",
       "      <th>2</th>\n",
       "      <td>0</td>\n",
       "      <td>0_10</td>\n",
       "      <td>18</td>\n",
       "      <td>323.10</td>\n",
       "    </tr>\n",
       "    <tr>\n",
       "      <th>3</th>\n",
       "      <td>0</td>\n",
       "      <td>0_100</td>\n",
       "      <td>3</td>\n",
       "      <td>61.80</td>\n",
       "    </tr>\n",
       "    <tr>\n",
       "      <th>4</th>\n",
       "      <td>0</td>\n",
       "      <td>0_1000</td>\n",
       "      <td>408</td>\n",
       "      <td>2790.72</td>\n",
       "    </tr>\n",
       "  </tbody>\n",
       "</table>\n",
       "</div>"
      ],
      "text/plain": [
       "  categ id_prod count      sum\n",
       "                price    price\n",
       "0     0     0_0  1194  4477.50\n",
       "1     0     0_1   469  5154.31\n",
       "2     0    0_10    18   323.10\n",
       "3     0   0_100     3    61.80\n",
       "4     0  0_1000   408  2790.72"
      ]
     },
     "metadata": {},
     "output_type": "display_data"
    },
    {
     "name": "stdout",
     "output_type": "stream",
     "text": [
      "Les flops en nombre de ventes de la catégorie 0 \n"
     ]
    },
    {
     "data": {
      "text/html": [
       "<div>\n",
       "<style scoped>\n",
       "    .dataframe tbody tr th:only-of-type {\n",
       "        vertical-align: middle;\n",
       "    }\n",
       "\n",
       "    .dataframe tbody tr th {\n",
       "        vertical-align: top;\n",
       "    }\n",
       "\n",
       "    .dataframe thead tr th {\n",
       "        text-align: left;\n",
       "    }\n",
       "\n",
       "    .dataframe thead tr:last-of-type th {\n",
       "        text-align: right;\n",
       "    }\n",
       "</style>\n",
       "<table border=\"1\" class=\"dataframe\">\n",
       "  <thead>\n",
       "    <tr>\n",
       "      <th></th>\n",
       "      <th>categ</th>\n",
       "      <th>count</th>\n",
       "      <th>sum</th>\n",
       "    </tr>\n",
       "    <tr>\n",
       "      <th></th>\n",
       "      <th></th>\n",
       "      <th>price</th>\n",
       "      <th>price</th>\n",
       "    </tr>\n",
       "    <tr>\n",
       "      <th>id_prod</th>\n",
       "      <th></th>\n",
       "      <th></th>\n",
       "      <th></th>\n",
       "    </tr>\n",
       "  </thead>\n",
       "  <tbody>\n",
       "    <tr>\n",
       "      <th>0_898</th>\n",
       "      <td>0</td>\n",
       "      <td>1</td>\n",
       "      <td>1.27</td>\n",
       "    </tr>\n",
       "    <tr>\n",
       "      <th>0_1151</th>\n",
       "      <td>0</td>\n",
       "      <td>1</td>\n",
       "      <td>2.99</td>\n",
       "    </tr>\n",
       "    <tr>\n",
       "      <th>0_1284</th>\n",
       "      <td>0</td>\n",
       "      <td>1</td>\n",
       "      <td>1.38</td>\n",
       "    </tr>\n",
       "    <tr>\n",
       "      <th>0_549</th>\n",
       "      <td>0</td>\n",
       "      <td>1</td>\n",
       "      <td>2.99</td>\n",
       "    </tr>\n",
       "    <tr>\n",
       "      <th>0_1601</th>\n",
       "      <td>0</td>\n",
       "      <td>1</td>\n",
       "      <td>1.99</td>\n",
       "    </tr>\n",
       "  </tbody>\n",
       "</table>\n",
       "</div>"
      ],
      "text/plain": [
       "        categ count   sum\n",
       "              price price\n",
       "id_prod                  \n",
       "0_898       0     1  1.27\n",
       "0_1151      0     1  2.99\n",
       "0_1284      0     1  1.38\n",
       "0_549       0     1  2.99\n",
       "0_1601      0     1  1.99"
      ]
     },
     "metadata": {},
     "output_type": "display_data"
    }
   ],
   "source": [
    "#Top & Flop nombre de ventes catégorie 0 \n",
    "top_flop_0 = top_flop.loc[top_flop['categ'] == 0, :]\n",
    "top_0= top_flop_0.set_index('id_prod').sort_values(('count', 'price'), ascending=False)\n",
    "print(\"Les meilleurs ventes de la catégorie 0\")\n",
    "\n",
    "display(top_flop_0.head())\n",
    "\n",
    "\n",
    "print(\"Les flops en nombre de ventes de la catégorie 0 \")\n",
    "\n",
    "top_flop_0= top_flop_0.set_index('id_prod').sort_values(('count', 'price'), ascending=True)\n",
    "display(top_flop_0.head())"
   ]
  },
  {
   "cell_type": "markdown",
   "id": "64a57e2b",
   "metadata": {},
   "source": [
    "## Top & Flop catégorie 1 \n"
   ]
  },
  {
   "cell_type": "code",
   "execution_count": 20,
   "id": "7ccac880",
   "metadata": {},
   "outputs": [
    {
     "name": "stdout",
     "output_type": "stream",
     "text": [
      "Les tops ventes de la catégorie 1\n"
     ]
    },
    {
     "data": {
      "text/html": [
       "<div>\n",
       "<style scoped>\n",
       "    .dataframe tbody tr th:only-of-type {\n",
       "        vertical-align: middle;\n",
       "    }\n",
       "\n",
       "    .dataframe tbody tr th {\n",
       "        vertical-align: top;\n",
       "    }\n",
       "\n",
       "    .dataframe thead tr th {\n",
       "        text-align: left;\n",
       "    }\n",
       "\n",
       "    .dataframe thead tr:last-of-type th {\n",
       "        text-align: right;\n",
       "    }\n",
       "</style>\n",
       "<table border=\"1\" class=\"dataframe\">\n",
       "  <thead>\n",
       "    <tr>\n",
       "      <th></th>\n",
       "      <th>categ</th>\n",
       "      <th>count</th>\n",
       "      <th>sum</th>\n",
       "    </tr>\n",
       "    <tr>\n",
       "      <th></th>\n",
       "      <th></th>\n",
       "      <th>price</th>\n",
       "      <th>price</th>\n",
       "    </tr>\n",
       "    <tr>\n",
       "      <th>id_prod</th>\n",
       "      <th></th>\n",
       "      <th></th>\n",
       "      <th></th>\n",
       "    </tr>\n",
       "  </thead>\n",
       "  <tbody>\n",
       "    <tr>\n",
       "      <th>1_369</th>\n",
       "      <td>1</td>\n",
       "      <td>2237</td>\n",
       "      <td>53665.63</td>\n",
       "    </tr>\n",
       "    <tr>\n",
       "      <th>1_417</th>\n",
       "      <td>1</td>\n",
       "      <td>2173</td>\n",
       "      <td>45611.27</td>\n",
       "    </tr>\n",
       "    <tr>\n",
       "      <th>1_414</th>\n",
       "      <td>1</td>\n",
       "      <td>2166</td>\n",
       "      <td>51615.78</td>\n",
       "    </tr>\n",
       "    <tr>\n",
       "      <th>1_498</th>\n",
       "      <td>1</td>\n",
       "      <td>2117</td>\n",
       "      <td>49474.29</td>\n",
       "    </tr>\n",
       "    <tr>\n",
       "      <th>1_425</th>\n",
       "      <td>1</td>\n",
       "      <td>2084</td>\n",
       "      <td>35407.16</td>\n",
       "    </tr>\n",
       "  </tbody>\n",
       "</table>\n",
       "</div>"
      ],
      "text/plain": [
       "        categ count       sum\n",
       "              price     price\n",
       "id_prod                      \n",
       "1_369       1  2237  53665.63\n",
       "1_417       1  2173  45611.27\n",
       "1_414       1  2166  51615.78\n",
       "1_498       1  2117  49474.29\n",
       "1_425       1  2084  35407.16"
      ]
     },
     "metadata": {},
     "output_type": "display_data"
    },
    {
     "name": "stdout",
     "output_type": "stream",
     "text": [
      "Les flops de ventes de la catégorie 1\n"
     ]
    },
    {
     "data": {
      "text/html": [
       "<div>\n",
       "<style scoped>\n",
       "    .dataframe tbody tr th:only-of-type {\n",
       "        vertical-align: middle;\n",
       "    }\n",
       "\n",
       "    .dataframe tbody tr th {\n",
       "        vertical-align: top;\n",
       "    }\n",
       "\n",
       "    .dataframe thead tr th {\n",
       "        text-align: left;\n",
       "    }\n",
       "\n",
       "    .dataframe thead tr:last-of-type th {\n",
       "        text-align: right;\n",
       "    }\n",
       "</style>\n",
       "<table border=\"1\" class=\"dataframe\">\n",
       "  <thead>\n",
       "    <tr>\n",
       "      <th></th>\n",
       "      <th>categ</th>\n",
       "      <th>count</th>\n",
       "      <th>sum</th>\n",
       "    </tr>\n",
       "    <tr>\n",
       "      <th></th>\n",
       "      <th></th>\n",
       "      <th>price</th>\n",
       "      <th>price</th>\n",
       "    </tr>\n",
       "    <tr>\n",
       "      <th>id_prod</th>\n",
       "      <th></th>\n",
       "      <th></th>\n",
       "      <th></th>\n",
       "    </tr>\n",
       "  </thead>\n",
       "  <tbody>\n",
       "    <tr>\n",
       "      <th>1_146</th>\n",
       "      <td>1</td>\n",
       "      <td>3</td>\n",
       "      <td>95.94</td>\n",
       "    </tr>\n",
       "    <tr>\n",
       "      <th>1_409</th>\n",
       "      <td>1</td>\n",
       "      <td>3</td>\n",
       "      <td>167.97</td>\n",
       "    </tr>\n",
       "    <tr>\n",
       "      <th>1_402</th>\n",
       "      <td>1</td>\n",
       "      <td>2</td>\n",
       "      <td>69.04</td>\n",
       "    </tr>\n",
       "    <tr>\n",
       "      <th>1_420</th>\n",
       "      <td>1</td>\n",
       "      <td>2</td>\n",
       "      <td>14.24</td>\n",
       "    </tr>\n",
       "    <tr>\n",
       "      <th>1_514</th>\n",
       "      <td>1</td>\n",
       "      <td>2</td>\n",
       "      <td>135.32</td>\n",
       "    </tr>\n",
       "  </tbody>\n",
       "</table>\n",
       "</div>"
      ],
      "text/plain": [
       "        categ count     sum\n",
       "              price   price\n",
       "id_prod                    \n",
       "1_146       1     3   95.94\n",
       "1_409       1     3  167.97\n",
       "1_402       1     2   69.04\n",
       "1_420       1     2   14.24\n",
       "1_514       1     2  135.32"
      ]
     },
     "metadata": {},
     "output_type": "display_data"
    }
   ],
   "source": [
    "#Top & Flop nombre de ventes catégorie 1\n",
    "top_flop_1 = top_flop.loc[top_flop['categ'] == 1, :]\n",
    "top_flop_1= top_flop_1.set_index('id_prod').sort_values(('count', 'price'), ascending=False)\n",
    "print(\"Les tops ventes de la catégorie 1\")\n",
    "display(top_flop_1.head())\n",
    "\n",
    "print(\"Les flops de ventes de la catégorie 1\")\n",
    "\n",
    "display(top_flop_1.tail())"
   ]
  },
  {
   "cell_type": "code",
   "execution_count": 21,
   "id": "8deca4d1",
   "metadata": {},
   "outputs": [
    {
     "name": "stdout",
     "output_type": "stream",
     "text": [
      "Les produits les plus rentables de la catégorie 1\n"
     ]
    },
    {
     "data": {
      "text/html": [
       "<div>\n",
       "<style scoped>\n",
       "    .dataframe tbody tr th:only-of-type {\n",
       "        vertical-align: middle;\n",
       "    }\n",
       "\n",
       "    .dataframe tbody tr th {\n",
       "        vertical-align: top;\n",
       "    }\n",
       "\n",
       "    .dataframe thead tr th {\n",
       "        text-align: left;\n",
       "    }\n",
       "\n",
       "    .dataframe thead tr:last-of-type th {\n",
       "        text-align: right;\n",
       "    }\n",
       "</style>\n",
       "<table border=\"1\" class=\"dataframe\">\n",
       "  <thead>\n",
       "    <tr>\n",
       "      <th></th>\n",
       "      <th>categ</th>\n",
       "      <th>count</th>\n",
       "      <th>sum</th>\n",
       "    </tr>\n",
       "    <tr>\n",
       "      <th></th>\n",
       "      <th></th>\n",
       "      <th>price</th>\n",
       "      <th>price</th>\n",
       "    </tr>\n",
       "    <tr>\n",
       "      <th>id_prod</th>\n",
       "      <th></th>\n",
       "      <th></th>\n",
       "      <th></th>\n",
       "    </tr>\n",
       "  </thead>\n",
       "  <tbody>\n",
       "    <tr>\n",
       "      <th>1_395</th>\n",
       "      <td>1</td>\n",
       "      <td>1861</td>\n",
       "      <td>53950.39</td>\n",
       "    </tr>\n",
       "    <tr>\n",
       "      <th>1_369</th>\n",
       "      <td>1</td>\n",
       "      <td>2237</td>\n",
       "      <td>53665.63</td>\n",
       "    </tr>\n",
       "    <tr>\n",
       "      <th>1_414</th>\n",
       "      <td>1</td>\n",
       "      <td>2166</td>\n",
       "      <td>51615.78</td>\n",
       "    </tr>\n",
       "    <tr>\n",
       "      <th>1_383</th>\n",
       "      <td>1</td>\n",
       "      <td>1762</td>\n",
       "      <td>51080.38</td>\n",
       "    </tr>\n",
       "    <tr>\n",
       "      <th>1_498</th>\n",
       "      <td>1</td>\n",
       "      <td>2117</td>\n",
       "      <td>49474.29</td>\n",
       "    </tr>\n",
       "  </tbody>\n",
       "</table>\n",
       "</div>"
      ],
      "text/plain": [
       "        categ count       sum\n",
       "              price     price\n",
       "id_prod                      \n",
       "1_395       1  1861  53950.39\n",
       "1_369       1  2237  53665.63\n",
       "1_414       1  2166  51615.78\n",
       "1_383       1  1762  51080.38\n",
       "1_498       1  2117  49474.29"
      ]
     },
     "metadata": {},
     "output_type": "display_data"
    },
    {
     "name": "stdout",
     "output_type": "stream",
     "text": [
      "Les produits les moins rentables de la catégorie 1\n"
     ]
    },
    {
     "data": {
      "text/html": [
       "<div>\n",
       "<style scoped>\n",
       "    .dataframe tbody tr th:only-of-type {\n",
       "        vertical-align: middle;\n",
       "    }\n",
       "\n",
       "    .dataframe tbody tr th {\n",
       "        vertical-align: top;\n",
       "    }\n",
       "\n",
       "    .dataframe thead tr th {\n",
       "        text-align: left;\n",
       "    }\n",
       "\n",
       "    .dataframe thead tr:last-of-type th {\n",
       "        text-align: right;\n",
       "    }\n",
       "</style>\n",
       "<table border=\"1\" class=\"dataframe\">\n",
       "  <thead>\n",
       "    <tr>\n",
       "      <th></th>\n",
       "      <th>categ</th>\n",
       "      <th>count</th>\n",
       "      <th>sum</th>\n",
       "    </tr>\n",
       "    <tr>\n",
       "      <th></th>\n",
       "      <th></th>\n",
       "      <th>price</th>\n",
       "      <th>price</th>\n",
       "    </tr>\n",
       "    <tr>\n",
       "      <th>id_prod</th>\n",
       "      <th></th>\n",
       "      <th></th>\n",
       "      <th></th>\n",
       "    </tr>\n",
       "  </thead>\n",
       "  <tbody>\n",
       "    <tr>\n",
       "      <th>1_404</th>\n",
       "      <td>1</td>\n",
       "      <td>3</td>\n",
       "      <td>29.55</td>\n",
       "    </tr>\n",
       "    <tr>\n",
       "      <th>1_473</th>\n",
       "      <td>1</td>\n",
       "      <td>9</td>\n",
       "      <td>26.91</td>\n",
       "    </tr>\n",
       "    <tr>\n",
       "      <th>1_470</th>\n",
       "      <td>1</td>\n",
       "      <td>4</td>\n",
       "      <td>21.64</td>\n",
       "    </tr>\n",
       "    <tr>\n",
       "      <th>1_224</th>\n",
       "      <td>1</td>\n",
       "      <td>4</td>\n",
       "      <td>19.80</td>\n",
       "    </tr>\n",
       "    <tr>\n",
       "      <th>1_420</th>\n",
       "      <td>1</td>\n",
       "      <td>2</td>\n",
       "      <td>14.24</td>\n",
       "    </tr>\n",
       "  </tbody>\n",
       "</table>\n",
       "</div>"
      ],
      "text/plain": [
       "        categ count    sum\n",
       "              price  price\n",
       "id_prod                   \n",
       "1_404       1     3  29.55\n",
       "1_473       1     9  26.91\n",
       "1_470       1     4  21.64\n",
       "1_224       1     4  19.80\n",
       "1_420       1     2  14.24"
      ]
     },
     "metadata": {},
     "output_type": "display_data"
    }
   ],
   "source": [
    "#Top & Flop du CA catégorie 1 par référence \n",
    "top_flop_ca_ref_1 = top_flop.loc[top_flop['categ'] == 1, :]\n",
    "top_flop_ca_ref_1= top_flop_ca_ref_1.set_index('id_prod').sort_values(('sum','price'), ascending=False)\n",
    "\n",
    "print(\"Les produits les plus rentables de la catégorie 1\")\n",
    "display(top_flop_ca_ref_1.head())\n",
    "\n",
    "\n",
    "print(\"Les produits les moins rentables de la catégorie 1\")\n",
    "display(top_flop_ca_ref_1.tail())"
   ]
  },
  {
   "cell_type": "markdown",
   "id": "e26f59a3",
   "metadata": {},
   "source": [
    "# Top & Flop catégorie 2 "
   ]
  },
  {
   "cell_type": "code",
   "execution_count": 22,
   "id": "dde93a11",
   "metadata": {},
   "outputs": [
    {
     "name": "stdout",
     "output_type": "stream",
     "text": [
      "Les tops ventes de la catégorie 2\n"
     ]
    },
    {
     "data": {
      "text/html": [
       "<div>\n",
       "<style scoped>\n",
       "    .dataframe tbody tr th:only-of-type {\n",
       "        vertical-align: middle;\n",
       "    }\n",
       "\n",
       "    .dataframe tbody tr th {\n",
       "        vertical-align: top;\n",
       "    }\n",
       "\n",
       "    .dataframe thead tr th {\n",
       "        text-align: left;\n",
       "    }\n",
       "\n",
       "    .dataframe thead tr:last-of-type th {\n",
       "        text-align: right;\n",
       "    }\n",
       "</style>\n",
       "<table border=\"1\" class=\"dataframe\">\n",
       "  <thead>\n",
       "    <tr>\n",
       "      <th></th>\n",
       "      <th>categ</th>\n",
       "      <th>count</th>\n",
       "      <th>sum</th>\n",
       "    </tr>\n",
       "    <tr>\n",
       "      <th></th>\n",
       "      <th></th>\n",
       "      <th>price</th>\n",
       "      <th>price</th>\n",
       "    </tr>\n",
       "    <tr>\n",
       "      <th>id_prod</th>\n",
       "      <th></th>\n",
       "      <th></th>\n",
       "      <th></th>\n",
       "    </tr>\n",
       "  </thead>\n",
       "  <tbody>\n",
       "    <tr>\n",
       "      <th>2_102</th>\n",
       "      <td>2</td>\n",
       "      <td>997</td>\n",
       "      <td>58962.58</td>\n",
       "    </tr>\n",
       "    <tr>\n",
       "      <th>2_135</th>\n",
       "      <td>2</td>\n",
       "      <td>977</td>\n",
       "      <td>67403.23</td>\n",
       "    </tr>\n",
       "    <tr>\n",
       "      <th>2_112</th>\n",
       "      <td>2</td>\n",
       "      <td>930</td>\n",
       "      <td>62840.10</td>\n",
       "    </tr>\n",
       "    <tr>\n",
       "      <th>2_39</th>\n",
       "      <td>2</td>\n",
       "      <td>882</td>\n",
       "      <td>51147.18</td>\n",
       "    </tr>\n",
       "    <tr>\n",
       "      <th>2_37</th>\n",
       "      <td>2</td>\n",
       "      <td>867</td>\n",
       "      <td>42474.33</td>\n",
       "    </tr>\n",
       "  </tbody>\n",
       "</table>\n",
       "</div>"
      ],
      "text/plain": [
       "        categ count       sum\n",
       "              price     price\n",
       "id_prod                      \n",
       "2_102       2   997  58962.58\n",
       "2_135       2   977  67403.23\n",
       "2_112       2   930  62840.10\n",
       "2_39        2   882  51147.18\n",
       "2_37        2   867  42474.33"
      ]
     },
     "metadata": {},
     "output_type": "display_data"
    },
    {
     "name": "stdout",
     "output_type": "stream",
     "text": [
      "Les flops de ventes de la catégorie 2\n"
     ]
    },
    {
     "data": {
      "text/html": [
       "<div>\n",
       "<style scoped>\n",
       "    .dataframe tbody tr th:only-of-type {\n",
       "        vertical-align: middle;\n",
       "    }\n",
       "\n",
       "    .dataframe tbody tr th {\n",
       "        vertical-align: top;\n",
       "    }\n",
       "\n",
       "    .dataframe thead tr th {\n",
       "        text-align: left;\n",
       "    }\n",
       "\n",
       "    .dataframe thead tr:last-of-type th {\n",
       "        text-align: right;\n",
       "    }\n",
       "</style>\n",
       "<table border=\"1\" class=\"dataframe\">\n",
       "  <thead>\n",
       "    <tr>\n",
       "      <th></th>\n",
       "      <th>categ</th>\n",
       "      <th>count</th>\n",
       "      <th>sum</th>\n",
       "    </tr>\n",
       "    <tr>\n",
       "      <th></th>\n",
       "      <th></th>\n",
       "      <th>price</th>\n",
       "      <th>price</th>\n",
       "    </tr>\n",
       "    <tr>\n",
       "      <th>id_prod</th>\n",
       "      <th></th>\n",
       "      <th></th>\n",
       "      <th></th>\n",
       "    </tr>\n",
       "  </thead>\n",
       "  <tbody>\n",
       "    <tr>\n",
       "      <th>2_77</th>\n",
       "      <td>2</td>\n",
       "      <td>2</td>\n",
       "      <td>291.98</td>\n",
       "    </tr>\n",
       "    <tr>\n",
       "      <th>2_78</th>\n",
       "      <td>2</td>\n",
       "      <td>2</td>\n",
       "      <td>334.98</td>\n",
       "    </tr>\n",
       "    <tr>\n",
       "      <th>2_23</th>\n",
       "      <td>2</td>\n",
       "      <td>1</td>\n",
       "      <td>115.99</td>\n",
       "    </tr>\n",
       "    <tr>\n",
       "      <th>2_98</th>\n",
       "      <td>2</td>\n",
       "      <td>1</td>\n",
       "      <td>149.74</td>\n",
       "    </tr>\n",
       "    <tr>\n",
       "      <th>2_81</th>\n",
       "      <td>2</td>\n",
       "      <td>1</td>\n",
       "      <td>86.99</td>\n",
       "    </tr>\n",
       "  </tbody>\n",
       "</table>\n",
       "</div>"
      ],
      "text/plain": [
       "        categ count     sum\n",
       "              price   price\n",
       "id_prod                    \n",
       "2_77        2     2  291.98\n",
       "2_78        2     2  334.98\n",
       "2_23        2     1  115.99\n",
       "2_98        2     1  149.74\n",
       "2_81        2     1   86.99"
      ]
     },
     "metadata": {},
     "output_type": "display_data"
    }
   ],
   "source": [
    "#Top & Flop nombre de ventes catégorie 2\n",
    "top_flop_2 = top_flop.loc[top_flop['categ'] == 2, :]\n",
    "top_flop_2= top_flop_2.set_index('id_prod').sort_values(('count', 'price'), ascending=False)\n",
    "print(\"Les tops ventes de la catégorie 2\")\n",
    "\n",
    "display(top_flop_2.head())\n",
    "\n",
    "print(\"Les flops de ventes de la catégorie 2\")\n",
    "\n",
    "display(top_flop_2.tail())"
   ]
  },
  {
   "cell_type": "code",
   "execution_count": 23,
   "id": "eb929d7d",
   "metadata": {},
   "outputs": [
    {
     "name": "stdout",
     "output_type": "stream",
     "text": [
      "Les produits les plus rentables de la catégorie 2\n"
     ]
    },
    {
     "data": {
      "text/html": [
       "<div>\n",
       "<style scoped>\n",
       "    .dataframe tbody tr th:only-of-type {\n",
       "        vertical-align: middle;\n",
       "    }\n",
       "\n",
       "    .dataframe tbody tr th {\n",
       "        vertical-align: top;\n",
       "    }\n",
       "\n",
       "    .dataframe thead tr th {\n",
       "        text-align: left;\n",
       "    }\n",
       "\n",
       "    .dataframe thead tr:last-of-type th {\n",
       "        text-align: right;\n",
       "    }\n",
       "</style>\n",
       "<table border=\"1\" class=\"dataframe\">\n",
       "  <thead>\n",
       "    <tr>\n",
       "      <th></th>\n",
       "      <th>categ</th>\n",
       "      <th>count</th>\n",
       "      <th>sum</th>\n",
       "    </tr>\n",
       "    <tr>\n",
       "      <th></th>\n",
       "      <th></th>\n",
       "      <th>price</th>\n",
       "      <th>price</th>\n",
       "    </tr>\n",
       "    <tr>\n",
       "      <th>id_prod</th>\n",
       "      <th></th>\n",
       "      <th></th>\n",
       "      <th></th>\n",
       "    </tr>\n",
       "  </thead>\n",
       "  <tbody>\n",
       "    <tr>\n",
       "      <th>2_159</th>\n",
       "      <td>2</td>\n",
       "      <td>632</td>\n",
       "      <td>92265.68</td>\n",
       "    </tr>\n",
       "    <tr>\n",
       "      <th>2_135</th>\n",
       "      <td>2</td>\n",
       "      <td>977</td>\n",
       "      <td>67403.23</td>\n",
       "    </tr>\n",
       "    <tr>\n",
       "      <th>2_112</th>\n",
       "      <td>2</td>\n",
       "      <td>930</td>\n",
       "      <td>62840.10</td>\n",
       "    </tr>\n",
       "    <tr>\n",
       "      <th>2_102</th>\n",
       "      <td>2</td>\n",
       "      <td>997</td>\n",
       "      <td>58962.58</td>\n",
       "    </tr>\n",
       "    <tr>\n",
       "      <th>2_209</th>\n",
       "      <td>2</td>\n",
       "      <td>791</td>\n",
       "      <td>55362.09</td>\n",
       "    </tr>\n",
       "  </tbody>\n",
       "</table>\n",
       "</div>"
      ],
      "text/plain": [
       "        categ count       sum\n",
       "              price     price\n",
       "id_prod                      \n",
       "2_159       2   632  92265.68\n",
       "2_135       2   977  67403.23\n",
       "2_112       2   930  62840.10\n",
       "2_102       2   997  58962.58\n",
       "2_209       2   791  55362.09"
      ]
     },
     "metadata": {},
     "output_type": "display_data"
    },
    {
     "name": "stdout",
     "output_type": "stream",
     "text": [
      "Les produits les moins rentables de la catégorie 2\n"
     ]
    },
    {
     "data": {
      "text/html": [
       "<div>\n",
       "<style scoped>\n",
       "    .dataframe tbody tr th:only-of-type {\n",
       "        vertical-align: middle;\n",
       "    }\n",
       "\n",
       "    .dataframe tbody tr th {\n",
       "        vertical-align: top;\n",
       "    }\n",
       "\n",
       "    .dataframe thead tr th {\n",
       "        text-align: left;\n",
       "    }\n",
       "\n",
       "    .dataframe thead tr:last-of-type th {\n",
       "        text-align: right;\n",
       "    }\n",
       "</style>\n",
       "<table border=\"1\" class=\"dataframe\">\n",
       "  <thead>\n",
       "    <tr>\n",
       "      <th></th>\n",
       "      <th>categ</th>\n",
       "      <th>count</th>\n",
       "      <th>sum</th>\n",
       "    </tr>\n",
       "    <tr>\n",
       "      <th></th>\n",
       "      <th></th>\n",
       "      <th>price</th>\n",
       "      <th>price</th>\n",
       "    </tr>\n",
       "    <tr>\n",
       "      <th>id_prod</th>\n",
       "      <th></th>\n",
       "      <th></th>\n",
       "      <th></th>\n",
       "    </tr>\n",
       "  </thead>\n",
       "  <tbody>\n",
       "    <tr>\n",
       "      <th>2_107</th>\n",
       "      <td>2</td>\n",
       "      <td>6</td>\n",
       "      <td>203.94</td>\n",
       "    </tr>\n",
       "    <tr>\n",
       "      <th>2_93</th>\n",
       "      <td>2</td>\n",
       "      <td>2</td>\n",
       "      <td>157.98</td>\n",
       "    </tr>\n",
       "    <tr>\n",
       "      <th>2_98</th>\n",
       "      <td>2</td>\n",
       "      <td>1</td>\n",
       "      <td>149.74</td>\n",
       "    </tr>\n",
       "    <tr>\n",
       "      <th>2_23</th>\n",
       "      <td>2</td>\n",
       "      <td>1</td>\n",
       "      <td>115.99</td>\n",
       "    </tr>\n",
       "    <tr>\n",
       "      <th>2_81</th>\n",
       "      <td>2</td>\n",
       "      <td>1</td>\n",
       "      <td>86.99</td>\n",
       "    </tr>\n",
       "  </tbody>\n",
       "</table>\n",
       "</div>"
      ],
      "text/plain": [
       "        categ count     sum\n",
       "              price   price\n",
       "id_prod                    \n",
       "2_107       2     6  203.94\n",
       "2_93        2     2  157.98\n",
       "2_98        2     1  149.74\n",
       "2_23        2     1  115.99\n",
       "2_81        2     1   86.99"
      ]
     },
     "metadata": {},
     "output_type": "display_data"
    }
   ],
   "source": [
    "#Top & Flop du CA catégorie 2 par référence \n",
    "top_flop_ca_ref_2 = top_flop.loc[top_flop['categ'] == 2, :]\n",
    "top_flop_ca_ref_2= top_flop_ca_ref_2.set_index('id_prod').sort_values(('sum','price'), ascending=False)\n",
    "print(\"Les produits les plus rentables de la catégorie 2\")\n",
    "\n",
    "display(top_flop_ca_ref_2.head())\n",
    "\n",
    "print(\"Les produits les moins rentables de la catégorie 2\")\n",
    "\n",
    "display(top_flop_ca_ref_2.tail())"
   ]
  },
  {
   "cell_type": "markdown",
   "id": "6ac6512b",
   "metadata": {},
   "source": [
    "# Répartition de CA entre les clients"
   ]
  },
  {
   "cell_type": "code",
   "execution_count": 24,
   "id": "e3773392",
   "metadata": {},
   "outputs": [
    {
     "name": "stdout",
     "output_type": "stream",
     "text": [
      "les clients les plus dépensiers\n"
     ]
    },
    {
     "data": {
      "text/html": [
       "<div>\n",
       "<style scoped>\n",
       "    .dataframe tbody tr th:only-of-type {\n",
       "        vertical-align: middle;\n",
       "    }\n",
       "\n",
       "    .dataframe tbody tr th {\n",
       "        vertical-align: top;\n",
       "    }\n",
       "\n",
       "    .dataframe thead th {\n",
       "        text-align: right;\n",
       "    }\n",
       "</style>\n",
       "<table border=\"1\" class=\"dataframe\">\n",
       "  <thead>\n",
       "    <tr style=\"text-align: right;\">\n",
       "      <th></th>\n",
       "      <th>price</th>\n",
       "    </tr>\n",
       "    <tr>\n",
       "      <th>client_id</th>\n",
       "      <th></th>\n",
       "    </tr>\n",
       "  </thead>\n",
       "  <tbody>\n",
       "    <tr>\n",
       "      <th>c_1609</th>\n",
       "      <td>312755.080000</td>\n",
       "    </tr>\n",
       "    <tr>\n",
       "      <th>c_4958</th>\n",
       "      <td>282654.610000</td>\n",
       "    </tr>\n",
       "    <tr>\n",
       "      <th>c_6714</th>\n",
       "      <td>149847.579128</td>\n",
       "    </tr>\n",
       "    <tr>\n",
       "      <th>c_3454</th>\n",
       "      <td>111798.624564</td>\n",
       "    </tr>\n",
       "    <tr>\n",
       "      <th>c_2899</th>\n",
       "      <td>5214.050000</td>\n",
       "    </tr>\n",
       "    <tr>\n",
       "      <th>c_1570</th>\n",
       "      <td>5136.140000</td>\n",
       "    </tr>\n",
       "    <tr>\n",
       "      <th>c_3263</th>\n",
       "      <td>5129.890000</td>\n",
       "    </tr>\n",
       "    <tr>\n",
       "      <th>c_7319</th>\n",
       "      <td>5120.550000</td>\n",
       "    </tr>\n",
       "    <tr>\n",
       "      <th>c_8026</th>\n",
       "      <td>4980.048188</td>\n",
       "    </tr>\n",
       "    <tr>\n",
       "      <th>c_5263</th>\n",
       "      <td>4964.870000</td>\n",
       "    </tr>\n",
       "  </tbody>\n",
       "</table>\n",
       "</div>"
      ],
      "text/plain": [
       "                   price\n",
       "client_id               \n",
       "c_1609     312755.080000\n",
       "c_4958     282654.610000\n",
       "c_6714     149847.579128\n",
       "c_3454     111798.624564\n",
       "c_2899       5214.050000\n",
       "c_1570       5136.140000\n",
       "c_3263       5129.890000\n",
       "c_7319       5120.550000\n",
       "c_8026       4980.048188\n",
       "c_5263       4964.870000"
      ]
     },
     "metadata": {},
     "output_type": "display_data"
    },
    {
     "name": "stdout",
     "output_type": "stream",
     "text": [
      "On remarque que les 4 plus gros clients se partagent une part très conséquente des ventes comparé aux autres clients\n"
     ]
    }
   ],
   "source": [
    "#Clients les plus dépensiers\n",
    "df_bestcust= df_final.groupby (['client_id'])['price'].sum().reset_index()\n",
    "df_bestcustomer= df_bestcust.sort_values(['price'], ascending = False)\n",
    "df_bestcustomer= df_bestcustomer.set_index('client_id')\n",
    "print('les clients les plus dépensiers')\n",
    "display(df_bestcustomer.head(10))\n",
    "print('On remarque que les 4 plus gros clients se partagent une part très conséquente des ventes comparé aux autres clients')"
   ]
  },
  {
   "cell_type": "code",
   "execution_count": 25,
   "id": "66bbfc08",
   "metadata": {},
   "outputs": [
    {
     "data": {
      "text/plain": [
       "<Figure size 936x1440 with 0 Axes>"
      ]
     },
     "metadata": {},
     "output_type": "display_data"
    },
    {
     "data": {
      "image/png": "[encoded data removed]",
      "text/plain": [
       "<Figure size 432x288 with 1 Axes>"
      ]
     },
     "metadata": {},
     "output_type": "display_data"
    }
   ],
   "source": [
    "# Représentation graphique des 5 plus gros clients\n",
    "plt.figure(figsize=(13, 20)) \n",
    "df_bestcustomer10= df_bestcustomer.head(5).plot(kind='pie', y = 'price', autopct='%1.2f%%')\n",
    "plt.title(\"Répartition de CA entre les clients\")\n",
    "plt.show()\n"
   ]
  },
  {
   "cell_type": "markdown",
   "id": "df597a74",
   "metadata": {},
   "source": [
    "Dans le top 5 des clients, Les 4 plus gros clients ont généré la grande majorité du CA soit 99.40% du CA"
   ]
  },
  {
   "cell_type": "code",
   "execution_count": 26,
   "id": "82c5a628",
   "metadata": {},
   "outputs": [
    {
     "data": {
      "text/html": [
       "<div>\n",
       "<style scoped>\n",
       "    .dataframe tbody tr th:only-of-type {\n",
       "        vertical-align: middle;\n",
       "    }\n",
       "\n",
       "    .dataframe tbody tr th {\n",
       "        vertical-align: top;\n",
       "    }\n",
       "\n",
       "    .dataframe thead th {\n",
       "        text-align: right;\n",
       "    }\n",
       "</style>\n",
       "<table border=\"1\" class=\"dataframe\">\n",
       "  <thead>\n",
       "    <tr style=\"text-align: right;\">\n",
       "      <th></th>\n",
       "      <th>session_id</th>\n",
       "    </tr>\n",
       "    <tr>\n",
       "      <th>client_id</th>\n",
       "      <th></th>\n",
       "    </tr>\n",
       "  </thead>\n",
       "  <tbody>\n",
       "    <tr>\n",
       "      <th>c_1609</th>\n",
       "      <td>24472</td>\n",
       "    </tr>\n",
       "    <tr>\n",
       "      <th>c_6714</th>\n",
       "      <td>8903</td>\n",
       "    </tr>\n",
       "    <tr>\n",
       "      <th>c_3454</th>\n",
       "      <td>6635</td>\n",
       "    </tr>\n",
       "    <tr>\n",
       "      <th>c_4958</th>\n",
       "      <td>5090</td>\n",
       "    </tr>\n",
       "    <tr>\n",
       "      <th>c_3263</th>\n",
       "      <td>392</td>\n",
       "    </tr>\n",
       "    <tr>\n",
       "      <th>c_2595</th>\n",
       "      <td>384</td>\n",
       "    </tr>\n",
       "    <tr>\n",
       "      <th>c_2140</th>\n",
       "      <td>381</td>\n",
       "    </tr>\n",
       "    <tr>\n",
       "      <th>c_2077</th>\n",
       "      <td>370</td>\n",
       "    </tr>\n",
       "    <tr>\n",
       "      <th>c_7421</th>\n",
       "      <td>368</td>\n",
       "    </tr>\n",
       "    <tr>\n",
       "      <th>c_8026</th>\n",
       "      <td>368</td>\n",
       "    </tr>\n",
       "  </tbody>\n",
       "</table>\n",
       "</div>"
      ],
      "text/plain": [
       "           session_id\n",
       "client_id            \n",
       "c_1609          24472\n",
       "c_6714           8903\n",
       "c_3454           6635\n",
       "c_4958           5090\n",
       "c_3263            392\n",
       "c_2595            384\n",
       "c_2140            381\n",
       "c_2077            370\n",
       "c_7421            368\n",
       "c_8026            368"
      ]
     },
     "metadata": {},
     "output_type": "display_data"
    },
    {
     "name": "stdout",
     "output_type": "stream",
     "text": [
      "Ces mêmes clients ont également ouvert un nombre considérable de sessions par rapport aux autres clients\n"
     ]
    }
   ],
   "source": [
    "#Analyse des clients ayant ouvert le plus de sessions shopping\n",
    "df_bestquanticlient = df_final.groupby(['client_id'])[['session_id']].count().sort_values('session_id', ascending=False)\n",
    "display(df_bestquanticlient.head(10))\n",
    "print(\"Ces mêmes clients ont également ouvert un nombre considérable de sessions par rapport aux autres clients\")\n"
   ]
  },
  {
   "cell_type": "code",
   "execution_count": 27,
   "id": "c0afa1bd",
   "metadata": {},
   "outputs": [
    {
     "name": "stdout",
     "output_type": "stream",
     "text": [
      "Les 4 plus gros clients apportent à eux seuls près de 7.43 % du CA total. Nous pouvons supposer qu'il s'agit de professionnels et les retirer de notre analyse\n",
      "Nous décidons de les mettre à part pour de futures analyses.\n"
     ]
    }
   ],
   "source": [
    "#Représentation de la part des 4 plus gros clients dans le CA total\n",
    "ca_top4clients = df_bestcustomer.head(4).price.sum() / df_final.price.sum()*100\n",
    "\n",
    "print (\"Les 4 plus gros clients apportent à eux seuls près de\", round(ca_top4clients,2), \"% du CA total. Nous pouvons supposer qu'il s'agit de professionnels et les retirer de notre analyse\")\n",
    "print (\"Nous décidons de les mettre à part pour de futures analyses.\")"
   ]
  },
  {
   "cell_type": "code",
   "execution_count": 28,
   "id": "8670c482",
   "metadata": {},
   "outputs": [
    {
     "data": {
      "text/html": [
       "<div>\n",
       "<style scoped>\n",
       "    .dataframe tbody tr th:only-of-type {\n",
       "        vertical-align: middle;\n",
       "    }\n",
       "\n",
       "    .dataframe tbody tr th {\n",
       "        vertical-align: top;\n",
       "    }\n",
       "\n",
       "    .dataframe thead th {\n",
       "        text-align: right;\n",
       "    }\n",
       "</style>\n",
       "<table border=\"1\" class=\"dataframe\">\n",
       "  <thead>\n",
       "    <tr style=\"text-align: right;\">\n",
       "      <th></th>\n",
       "      <th>Unnamed: 0</th>\n",
       "      <th>id_prod</th>\n",
       "      <th>price</th>\n",
       "      <th>categ</th>\n",
       "      <th>client_id</th>\n",
       "      <th>sex</th>\n",
       "      <th>birth</th>\n",
       "      <th>age</th>\n",
       "      <th>date</th>\n",
       "      <th>session_id</th>\n",
       "      <th>date_mois</th>\n",
       "      <th>date_annee</th>\n",
       "    </tr>\n",
       "  </thead>\n",
       "  <tbody>\n",
       "    <tr>\n",
       "      <th>2</th>\n",
       "      <td>2</td>\n",
       "      <td>0_1277</td>\n",
       "      <td>7.99</td>\n",
       "      <td>0</td>\n",
       "      <td>c_6714</td>\n",
       "      <td>f</td>\n",
       "      <td>1968</td>\n",
       "      <td>54</td>\n",
       "      <td>2022-06-18</td>\n",
       "      <td>s_225667</td>\n",
       "      <td>2022-06</td>\n",
       "      <td>2022</td>\n",
       "    </tr>\n",
       "    <tr>\n",
       "      <th>17</th>\n",
       "      <td>17</td>\n",
       "      <td>1_661</td>\n",
       "      <td>22.99</td>\n",
       "      <td>1</td>\n",
       "      <td>c_6714</td>\n",
       "      <td>f</td>\n",
       "      <td>1968</td>\n",
       "      <td>54</td>\n",
       "      <td>2022-09-13</td>\n",
       "      <td>s_267366</td>\n",
       "      <td>2022-09</td>\n",
       "      <td>2022</td>\n",
       "    </tr>\n",
       "    <tr>\n",
       "      <th>32</th>\n",
       "      <td>32</td>\n",
       "      <td>1_426</td>\n",
       "      <td>19.44</td>\n",
       "      <td>1</td>\n",
       "      <td>c_4958</td>\n",
       "      <td>m</td>\n",
       "      <td>1999</td>\n",
       "      <td>23</td>\n",
       "      <td>2021-06-21</td>\n",
       "      <td>s_51846</td>\n",
       "      <td>2021-06</td>\n",
       "      <td>2021</td>\n",
       "    </tr>\n",
       "    <tr>\n",
       "      <th>63</th>\n",
       "      <td>63</td>\n",
       "      <td>1_506</td>\n",
       "      <td>13.65</td>\n",
       "      <td>1</td>\n",
       "      <td>c_4958</td>\n",
       "      <td>m</td>\n",
       "      <td>1999</td>\n",
       "      <td>23</td>\n",
       "      <td>2021-09-29</td>\n",
       "      <td>s_97203</td>\n",
       "      <td>2021-09</td>\n",
       "      <td>2021</td>\n",
       "    </tr>\n",
       "    <tr>\n",
       "      <th>67</th>\n",
       "      <td>67</td>\n",
       "      <td>0_1446</td>\n",
       "      <td>8.09</td>\n",
       "      <td>0</td>\n",
       "      <td>c_1609</td>\n",
       "      <td>m</td>\n",
       "      <td>1980</td>\n",
       "      <td>42</td>\n",
       "      <td>2022-10-05</td>\n",
       "      <td>s_278030</td>\n",
       "      <td>2022-10</td>\n",
       "      <td>2022</td>\n",
       "    </tr>\n",
       "  </tbody>\n",
       "</table>\n",
       "</div>"
      ],
      "text/plain": [
       "    Unnamed: 0 id_prod  price  categ client_id sex  birth  age        date  \\\n",
       "2            2  0_1277   7.99      0    c_6714   f   1968   54  2022-06-18   \n",
       "17          17   1_661  22.99      1    c_6714   f   1968   54  2022-09-13   \n",
       "32          32   1_426  19.44      1    c_4958   m   1999   23  2021-06-21   \n",
       "63          63   1_506  13.65      1    c_4958   m   1999   23  2021-09-29   \n",
       "67          67  0_1446   8.09      0    c_1609   m   1980   42  2022-10-05   \n",
       "\n",
       "   session_id date_mois  date_annee  \n",
       "2    s_225667   2022-06        2022  \n",
       "17   s_267366   2022-09        2022  \n",
       "32    s_51846   2021-06        2021  \n",
       "63    s_97203   2021-09        2021  \n",
       "67   s_278030   2022-10        2022  "
      ]
     },
     "execution_count": 28,
     "metadata": {},
     "output_type": "execute_result"
    }
   ],
   "source": [
    "#Création d'un df avec les supposés 4 clients B2B \n",
    "client_pro = df_final[(df_final.client_id== 'c_1609')|(df_final.client_id=='c_6714')|(df_final.client_id=='c_3454')|(df_final.client_id=='c_4958')]\n",
    "client_pro.head()"
   ]
  },
  {
   "cell_type": "code",
   "execution_count": 29,
   "id": "92d32833",
   "metadata": {},
   "outputs": [
    {
     "data": {
      "text/html": [
       "<div>\n",
       "<style scoped>\n",
       "    .dataframe tbody tr th:only-of-type {\n",
       "        vertical-align: middle;\n",
       "    }\n",
       "\n",
       "    .dataframe tbody tr th {\n",
       "        vertical-align: top;\n",
       "    }\n",
       "\n",
       "    .dataframe thead th {\n",
       "        text-align: right;\n",
       "    }\n",
       "</style>\n",
       "<table border=\"1\" class=\"dataframe\">\n",
       "  <thead>\n",
       "    <tr style=\"text-align: right;\">\n",
       "      <th></th>\n",
       "      <th>Unnamed: 0</th>\n",
       "      <th>id_prod</th>\n",
       "      <th>price</th>\n",
       "      <th>categ</th>\n",
       "      <th>client_id</th>\n",
       "      <th>sex</th>\n",
       "      <th>birth</th>\n",
       "      <th>age</th>\n",
       "      <th>date</th>\n",
       "      <th>session_id</th>\n",
       "      <th>date_mois</th>\n",
       "      <th>date_annee</th>\n",
       "    </tr>\n",
       "  </thead>\n",
       "  <tbody>\n",
       "    <tr>\n",
       "      <th>0</th>\n",
       "      <td>0</td>\n",
       "      <td>0_1518</td>\n",
       "      <td>4.18</td>\n",
       "      <td>0</td>\n",
       "      <td>c_103</td>\n",
       "      <td>f</td>\n",
       "      <td>1986</td>\n",
       "      <td>36</td>\n",
       "      <td>2022-05-20</td>\n",
       "      <td>s_211425</td>\n",
       "      <td>2022-05</td>\n",
       "      <td>2022</td>\n",
       "    </tr>\n",
       "    <tr>\n",
       "      <th>1</th>\n",
       "      <td>1</td>\n",
       "      <td>1_251</td>\n",
       "      <td>15.99</td>\n",
       "      <td>1</td>\n",
       "      <td>c_8534</td>\n",
       "      <td>m</td>\n",
       "      <td>1988</td>\n",
       "      <td>34</td>\n",
       "      <td>2022-02-02</td>\n",
       "      <td>s_158752</td>\n",
       "      <td>2022-02</td>\n",
       "      <td>2022</td>\n",
       "    </tr>\n",
       "    <tr>\n",
       "      <th>2</th>\n",
       "      <td>3</td>\n",
       "      <td>2_209</td>\n",
       "      <td>69.99</td>\n",
       "      <td>2</td>\n",
       "      <td>c_6941</td>\n",
       "      <td>m</td>\n",
       "      <td>2000</td>\n",
       "      <td>22</td>\n",
       "      <td>2021-06-24</td>\n",
       "      <td>s_52962</td>\n",
       "      <td>2021-06</td>\n",
       "      <td>2021</td>\n",
       "    </tr>\n",
       "    <tr>\n",
       "      <th>3</th>\n",
       "      <td>4</td>\n",
       "      <td>0_1509</td>\n",
       "      <td>4.99</td>\n",
       "      <td>0</td>\n",
       "      <td>c_4232</td>\n",
       "      <td>m</td>\n",
       "      <td>1980</td>\n",
       "      <td>42</td>\n",
       "      <td>2023-01-11</td>\n",
       "      <td>s_325227</td>\n",
       "      <td>2023-01</td>\n",
       "      <td>2023</td>\n",
       "    </tr>\n",
       "    <tr>\n",
       "      <th>4</th>\n",
       "      <td>5</td>\n",
       "      <td>0_1418</td>\n",
       "      <td>8.57</td>\n",
       "      <td>0</td>\n",
       "      <td>c_1478</td>\n",
       "      <td>f</td>\n",
       "      <td>1972</td>\n",
       "      <td>50</td>\n",
       "      <td>2022-10-20</td>\n",
       "      <td>s_285425</td>\n",
       "      <td>2022-10</td>\n",
       "      <td>2022</td>\n",
       "    </tr>\n",
       "  </tbody>\n",
       "</table>\n",
       "</div>"
      ],
      "text/plain": [
       "   Unnamed: 0 id_prod  price  categ client_id sex  birth  age        date  \\\n",
       "0           0  0_1518   4.18      0     c_103   f   1986   36  2022-05-20   \n",
       "1           1   1_251  15.99      1    c_8534   m   1988   34  2022-02-02   \n",
       "2           3   2_209  69.99      2    c_6941   m   2000   22  2021-06-24   \n",
       "3           4  0_1509   4.99      0    c_4232   m   1980   42  2023-01-11   \n",
       "4           5  0_1418   8.57      0    c_1478   f   1972   50  2022-10-20   \n",
       "\n",
       "  session_id date_mois  date_annee  \n",
       "0   s_211425   2022-05        2022  \n",
       "1   s_158752   2022-02        2022  \n",
       "2    s_52962   2021-06        2021  \n",
       "3   s_325227   2023-01        2023  \n",
       "4   s_285425   2022-10        2022  "
      ]
     },
     "execution_count": 29,
     "metadata": {},
     "output_type": "execute_result"
    }
   ],
   "source": [
    "#Création d'un df sans les clients professionnels\n",
    "df_final_sans_pro = df_final.drop(client_pro.index).reset_index(drop=True)\n",
    "df_final_sans_pro.head()"
   ]
  },
  {
   "cell_type": "markdown",
   "id": "b4fc9864",
   "metadata": {},
   "source": [
    "# Courbe de Lorenz"
   ]
  },
  {
   "cell_type": "markdown",
   "id": "7c82e170",
   "metadata": {},
   "source": [
    "La courbe de Lorenz permet d'avoir une représentation graphique de la distribution des revenus au sein d’une population donnée, ici les clients."
   ]
  },
  {
   "cell_type": "code",
   "execution_count": 30,
   "id": "b596f331",
   "metadata": {},
   "outputs": [
    {
     "data": {
      "text/html": [
       "<div>\n",
       "<style scoped>\n",
       "    .dataframe tbody tr th:only-of-type {\n",
       "        vertical-align: middle;\n",
       "    }\n",
       "\n",
       "    .dataframe tbody tr th {\n",
       "        vertical-align: top;\n",
       "    }\n",
       "\n",
       "    .dataframe thead th {\n",
       "        text-align: right;\n",
       "    }\n",
       "</style>\n",
       "<table border=\"1\" class=\"dataframe\">\n",
       "  <thead>\n",
       "    <tr style=\"text-align: right;\">\n",
       "      <th></th>\n",
       "      <th>price</th>\n",
       "    </tr>\n",
       "    <tr>\n",
       "      <th>client_id</th>\n",
       "      <th></th>\n",
       "    </tr>\n",
       "  </thead>\n",
       "  <tbody>\n",
       "    <tr>\n",
       "      <th>c_8140</th>\n",
       "      <td>8.300000</td>\n",
       "    </tr>\n",
       "    <tr>\n",
       "      <th>c_8114</th>\n",
       "      <td>9.980000</td>\n",
       "    </tr>\n",
       "    <tr>\n",
       "      <th>c_240</th>\n",
       "      <td>11.060000</td>\n",
       "    </tr>\n",
       "    <tr>\n",
       "      <th>c_4648</th>\n",
       "      <td>11.200000</td>\n",
       "    </tr>\n",
       "    <tr>\n",
       "      <th>c_2793</th>\n",
       "      <td>12.990000</td>\n",
       "    </tr>\n",
       "    <tr>\n",
       "      <th>...</th>\n",
       "      <td>...</td>\n",
       "    </tr>\n",
       "    <tr>\n",
       "      <th>c_8026</th>\n",
       "      <td>4980.048188</td>\n",
       "    </tr>\n",
       "    <tr>\n",
       "      <th>c_7319</th>\n",
       "      <td>5120.550000</td>\n",
       "    </tr>\n",
       "    <tr>\n",
       "      <th>c_3263</th>\n",
       "      <td>5129.890000</td>\n",
       "    </tr>\n",
       "    <tr>\n",
       "      <th>c_1570</th>\n",
       "      <td>5136.140000</td>\n",
       "    </tr>\n",
       "    <tr>\n",
       "      <th>c_2899</th>\n",
       "      <td>5214.050000</td>\n",
       "    </tr>\n",
       "  </tbody>\n",
       "</table>\n",
       "<p>8594 rows × 1 columns</p>\n",
       "</div>"
      ],
      "text/plain": [
       "                 price\n",
       "client_id             \n",
       "c_8140        8.300000\n",
       "c_8114        9.980000\n",
       "c_240        11.060000\n",
       "c_4648       11.200000\n",
       "c_2793       12.990000\n",
       "...                ...\n",
       "c_8026     4980.048188\n",
       "c_7319     5120.550000\n",
       "c_3263     5129.890000\n",
       "c_1570     5136.140000\n",
       "c_2899     5214.050000\n",
       "\n",
       "[8594 rows x 1 columns]"
      ]
     },
     "execution_count": 30,
     "metadata": {},
     "output_type": "execute_result"
    }
   ],
   "source": [
    "#Mettre les valeurs par ordre croissant \n",
    "df_cust1= df_final_sans_pro.groupby (['client_id'])['price'].sum().reset_index()\n",
    "df_sort_cust= df_cust1.set_index('client_id').sort_values(['price'], ascending = True)\n",
    "df_sort_cust"
   ]
  },
  {
   "cell_type": "code",
   "execution_count": 31,
   "id": "1442e410",
   "metadata": {},
   "outputs": [
    {
     "data": {
      "text/plain": [
       "<matplotlib.legend.Legend at 0x1fe01ee1f40>"
      ]
     },
     "execution_count": 31,
     "metadata": {},
     "output_type": "execute_result"
    },
    {
     "data": {
      "image/png": "[encoded data removed]",
      "text/plain": [
       "<Figure size 720x432 with 1 Axes>"
      ]
     },
     "metadata": {
      "needs_background": "light"
     },
     "output_type": "display_data"
    }
   ],
   "source": [
    "# Courbe de Lorenz\n",
    "\n",
    "cum = df_bestcust.cumsum() # CA cumulé par ordre croissant\n",
    "n_client = len(cum)\n",
    "\n",
    "ca_cum = df_bestcust.price.values\n",
    "lorenz = np.cumsum(np.sort(ca_cum)) / ca_cum.sum()\n",
    "\n",
    "# La courbe de Lorenz commence à 0\n",
    "lorenz = np.append([0],lorenz) \n",
    "\n",
    "# Calcul de l'intersection\n",
    "medial = lorenz[(lorenz < 0.5)].size / lorenz.size \n",
    "\n",
    "xaxis = np.linspace(0-1/n_client,1+1/n_client,len(lorenz)) \n",
    "\n",
    "plt.figure(figsize =(10,6))\n",
    "plt.plot(xaxis,lorenz,drawstyle='steps-post',label = 'Courbe de Lorenz')\n",
    "plt.plot([0,1], [0,1], label = \"Droite d'égalité parfaite\") #Traçage de la droite d'égalité parfaite\n",
    "\n",
    "plt.vlines(medial, ymin=0, ymax=.5, color='red', linewidth=1,label='Medial')\n",
    "plt.hlines(xmin=medial, xmax=0, y=.5, color='red', linewidth=1)\n",
    "plt.title('Courbe de Lorenz de la répartition du CA des clients',fontsize = 14, color = 'black')\n",
    "plt.xlabel('Part cumulée du nombre de clients', fontsize=14)\n",
    "plt.ylabel(\"Part du Chiffre d'affaires cumulé\", fontsize=14) \n",
    "plt.legend(loc='upper left', fontsize=10)\n",
    "\n"
   ]
  },
  {
   "cell_type": "markdown",
   "id": "fd24b22c",
   "metadata": {},
   "source": [
    "La courbe de Lorenz montre que 77% des clients représentent 50% du CA si nous ne tenons pas compte des clients professionnels. La courbe est en ligne droite de 0.9 à 1 car cela représente les 4 plus gros clients"
   ]
  },
  {
   "cell_type": "markdown",
   "id": "f59be82e",
   "metadata": {},
   "source": [
    "Calcul de l'index de Gini: Le coefficient de Gini est obtenu en doublant l'aire entre la «ligne d'égalité parfaite» et la courbe de Lorenz Le coefficient de Gini est une valeur de 0 à 1, et plus il est proche de 1, plus l'inégalité est grande, et plus il est proche de 0, moins le biais est important."
   ]
  },
  {
   "cell_type": "code",
   "execution_count": 32,
   "id": "ed15d062",
   "metadata": {},
   "outputs": [
    {
     "name": "stdout",
     "output_type": "stream",
     "text": [
      "l'indice de Gini est 0.4037361851534822 L'indice de Gini de 0.4037 nous indique qu'il y a une légère inégalité entre la répartition des clients et du CA \n"
     ]
    }
   ],
   "source": [
    "#Calcul de l'index de Gini\n",
    "arr = df_sort_cust.price.values\n",
    "\n",
    "\n",
    "def gini(arr):\n",
    "    count = arr.size\n",
    "    coefficient = 2 / count\n",
    "    indexes = np.arange(1, count + 1)\n",
    "    weighted_sum = (indexes * arr).sum()\n",
    "    total = arr.sum()\n",
    "    constant = (count + 1) / count\n",
    "    return coefficient * weighted_sum / total - constant\n",
    "\n",
    "print(\"l'indice de Gini est\", gini(arr),\"L'indice de Gini de 0.4037 nous indique qu'il y a une légère inégalité entre la répartition des clients et du CA \")"
   ]
  },
  {
   "cell_type": "code",
   "execution_count": 33,
   "id": "25fdf629",
   "metadata": {},
   "outputs": [
    {
     "data": {
      "text/html": [
       "<div>\n",
       "<style scoped>\n",
       "    .dataframe tbody tr th:only-of-type {\n",
       "        vertical-align: middle;\n",
       "    }\n",
       "\n",
       "    .dataframe tbody tr th {\n",
       "        vertical-align: top;\n",
       "    }\n",
       "\n",
       "    .dataframe thead th {\n",
       "        text-align: right;\n",
       "    }\n",
       "</style>\n",
       "<table border=\"1\" class=\"dataframe\">\n",
       "  <thead>\n",
       "    <tr style=\"text-align: right;\">\n",
       "      <th></th>\n",
       "      <th>sex</th>\n",
       "      <th>ventes</th>\n",
       "    </tr>\n",
       "  </thead>\n",
       "  <tbody>\n",
       "    <tr>\n",
       "      <th>0</th>\n",
       "      <td>f</td>\n",
       "      <td>319004</td>\n",
       "    </tr>\n",
       "    <tr>\n",
       "      <th>1</th>\n",
       "      <td>m</td>\n",
       "      <td>293622</td>\n",
       "    </tr>\n",
       "  </tbody>\n",
       "</table>\n",
       "</div>"
      ],
      "text/plain": [
       "  sex  ventes\n",
       "0   f  319004\n",
       "1   m  293622"
      ]
     },
     "execution_count": 33,
     "metadata": {},
     "output_type": "execute_result"
    }
   ],
   "source": [
    "#Nombre de ventes par rapport au genre du client\n",
    "vente_sex=df_final_sans_pro.groupby(['sex'])['price'].count().reset_index()\n",
    "vente_sex=vente_sex.rename(columns={'price':'ventes'})\n",
    "vente_sex"
   ]
  },
  {
   "cell_type": "code",
   "execution_count": 34,
   "id": "c39c02b4",
   "metadata": {},
   "outputs": [
    {
     "data": {
      "image/png": "[encoded data removed]",
      "text/plain": [
       "<Figure size 432x288 with 1 Axes>"
      ]
     },
     "metadata": {},
     "output_type": "display_data"
    }
   ],
   "source": [
    "vente_sex.plot(kind='pie', y = 'ventes',labels=['Femme','Homme'], autopct='%1.2f%%',startangle=60)\n",
    "plt.title(\"Proportion nombre de ventes homme/femme\")\n",
    "plt.show()"
   ]
  },
  {
   "cell_type": "code",
   "execution_count": 35,
   "id": "4143be0c",
   "metadata": {},
   "outputs": [
    {
     "data": {
      "text/html": [
       "<div>\n",
       "<style scoped>\n",
       "    .dataframe tbody tr th:only-of-type {\n",
       "        vertical-align: middle;\n",
       "    }\n",
       "\n",
       "    .dataframe tbody tr th {\n",
       "        vertical-align: top;\n",
       "    }\n",
       "\n",
       "    .dataframe thead th {\n",
       "        text-align: right;\n",
       "    }\n",
       "</style>\n",
       "<table border=\"1\" class=\"dataframe\">\n",
       "  <thead>\n",
       "    <tr style=\"text-align: right;\">\n",
       "      <th></th>\n",
       "      <th>sex</th>\n",
       "      <th>price</th>\n",
       "    </tr>\n",
       "  </thead>\n",
       "  <tbody>\n",
       "    <tr>\n",
       "      <th>0</th>\n",
       "      <td>f</td>\n",
       "      <td>5.555739e+06</td>\n",
       "    </tr>\n",
       "    <tr>\n",
       "      <th>1</th>\n",
       "      <td>m</td>\n",
       "      <td>5.122412e+06</td>\n",
       "    </tr>\n",
       "  </tbody>\n",
       "</table>\n",
       "</div>"
      ],
      "text/plain": [
       "  sex         price\n",
       "0   f  5.555739e+06\n",
       "1   m  5.122412e+06"
      ]
     },
     "metadata": {},
     "output_type": "display_data"
    }
   ],
   "source": [
    "#CA en fonction du sexe du client\n",
    "ca_sex=df_final_sans_pro.groupby(['sex'])['price'].sum().reset_index()\n",
    "display(ca_sex)"
   ]
  },
  {
   "cell_type": "code",
   "execution_count": 36,
   "id": "e973a3bc",
   "metadata": {},
   "outputs": [
    {
     "data": {
      "image/png": "[encoded data removed]",
      "text/plain": [
       "<Figure size 432x288 with 1 Axes>"
      ]
     },
     "metadata": {},
     "output_type": "display_data"
    }
   ],
   "source": [
    "#Proportion du CA entre homme/femme\n",
    "ca_sex.plot(kind='pie', y = 'price',labels=['Femme','Homme'], autopct='%1.2f%%',startangle=60)\n",
    "plt.title(\"Proportion CA homme/femme\")\n",
    "plt.show()"
   ]
  },
  {
   "cell_type": "code",
   "execution_count": 37,
   "id": "d587a014",
   "metadata": {},
   "outputs": [],
   "source": [
    "categ_0= df_final_sans_pro.loc[df_final_sans_pro['categ']==0,:]\n",
    "traitement_categ_0 = categ_0.groupby('date_mois')['price'].sum().reset_index()\n",
    "\n",
    "categ_1= df_final_sans_pro.loc[df_final_sans_pro['categ']==1,:]\n",
    "traitement_categ_1 = categ_1.groupby('date_mois')['price'].sum().reset_index()\n",
    "\n",
    "categ_2= df_final_sans_pro.loc[df_final_sans_pro['categ']==2,:]\n",
    "traitement_categ_2 = categ_2.groupby('date_mois')['price'].sum().reset_index()\n"
   ]
  },
  {
   "cell_type": "code",
   "execution_count": 38,
   "id": "d507a44e",
   "metadata": {},
   "outputs": [
    {
     "data": {
      "image/png": "[encoded data removed]",
      "text/plain": [
       "<Figure size 432x288 with 1 Axes>"
      ]
     },
     "metadata": {
      "needs_background": "light"
     },
     "output_type": "display_data"
    }
   ],
   "source": [
    "#Calcul du CA par mois et par catégorie\n",
    "df_categ = pd.pivot_table(df_final_sans_pro, index = ['date_mois'], columns = 'categ', values = 'price',aggfunc=np.sum).plot()\n"
   ]
  },
  {
   "cell_type": "code",
   "execution_count": 39,
   "id": "86f00c80",
   "metadata": {},
   "outputs": [
    {
     "data": {
      "text/plain": [
       "Text(0, 0.5, 'price')"
      ]
     },
     "execution_count": 39,
     "metadata": {},
     "output_type": "execute_result"
    },
    {
     "data": {
      "image/png": "[encoded data removed]",
      "text/plain": [
       "<Figure size 2160x1224 with 1 Axes>"
      ]
     },
     "metadata": {
      "needs_background": "light"
     },
     "output_type": "display_data"
    }
   ],
   "source": [
    "plt.figure(figsize=(30,17))\n",
    "ax1 = plt.subplot(2,2,4)\n",
    "sns.boxplot(data=df_final_sans_pro, x=\"categ\", y=\"price\")\n",
    "plt.title('Prix par catégorie',fontsize = 14)\n",
    "plt.xlabel('catégories')\n",
    "plt.ylabel('price')"
   ]
  },
  {
   "cell_type": "markdown",
   "id": "511dde28",
   "metadata": {},
   "source": [
    "# Julie: Tests statistiques de corrélation\n"
   ]
  },
  {
   "cell_type": "markdown",
   "id": "8ebd3566",
   "metadata": {},
   "source": [
    "# 1: Lien entre le genre du client et la catégorie de livres achetés"
   ]
  },
  {
   "cell_type": "markdown",
   "id": "0939c456",
   "metadata": {},
   "source": [
    "Nous avons deux variables qualitatives (genre, catégorie) que nous analyserons avec le test du CHI-2\n",
    "car nous avons 2 variables qualitatives et au moins 2 groupes dans chaque variables\n",
    "\n",
    "- Assumption : Création d'un tableau de contingence \n",
    "- Hypothèse\n",
    "*Hypothèse H0 : Les variables ne sont pas corrélées\n",
    "*Hypothèse H1 : Les variables sont corrélées\n",
    "-Calcul du CHI2 et de P-value"
   ]
  },
  {
   "cell_type": "code",
   "execution_count": 40,
   "id": "44ccd5bd",
   "metadata": {},
   "outputs": [
    {
     "name": "stdout",
     "output_type": "stream",
     "text": [
      "sex         f       m   Total\n",
      "categ                        \n",
      "0      192025  178044  370069\n",
      "1      110550  100227  210777\n",
      "2       16429   15351   31780\n",
      "Total  319004  293622  612626\n",
      "Il y aurait plus de femmes qui achètent des livres\n"
     ]
    }
   ],
   "source": [
    "#Tableau de contingence : données observées\n",
    "X = \"categ\"\n",
    "Y = \"sex\"\n",
    "\n",
    "cont = df_final_sans_pro[[X,Y]].pivot_table(index=X,columns=Y,aggfunc=len,margins=True,margins_name=\"Total\")\n",
    "print(cont)\n",
    "print('Il y aurait plus de femmes qui achètent des livres')"
   ]
  },
  {
   "cell_type": "code",
   "execution_count": 41,
   "id": "51c3c77a",
   "metadata": {},
   "outputs": [
    {
     "name": "stdout",
     "output_type": "stream",
     "text": [
      "La statistique de Pearson du test khi-deux est : 18.75788251563821\n",
      "La p-value qui est l'unique valeur nécessaire pour prendre notre décision 0.004592685293327868\n",
      "le degré de liberté est 6\n",
      "la p-value est de 0.00459<0.05 (qui correspond à notre niveau de confiance alpha 5%) , l'hypothèse H0 est rejetée, les deux variables sont corrélées avec un degré de liberté de 6\n"
     ]
    }
   ],
   "source": [
    "#Test du Chi-2\n",
    "\n",
    "chi2, pvalue, dof, exp = st.chi2_contingency(cont)\n",
    "print(\"La statistique de Pearson du test khi-deux est :\", chi2)\n",
    "print(\"La p-value qui est l'unique valeur nécessaire pour prendre notre décision\",pvalue)\n",
    "print(\"le degré de liberté est\", dof) #Les degrés de liberté sont les mesures du nombre de valeurs dans la statistique qui peuvent varier librement sans influencer le résultat de la statistique.\n",
    "print(\"la p-value est de 0.00459<0.05 (qui correspond à notre niveau de confiance alpha 5%) , l'hypothèse H0 est rejetée, les deux variables sont corrélées avec un degré de liberté de 6\")"
   ]
  },
  {
   "cell_type": "code",
   "execution_count": 42,
   "id": "4831a089",
   "metadata": {},
   "outputs": [
    {
     "data": {
      "image/png": "[encoded data removed]",
      "text/plain": [
       "<Figure size 432x288 with 2 Axes>"
      ]
     },
     "metadata": {
      "needs_background": "light"
     },
     "output_type": "display_data"
    },
    {
     "data": {
      "text/plain": [
       "None"
      ]
     },
     "metadata": {},
     "output_type": "display_data"
    },
    {
     "name": "stdout",
     "output_type": "stream",
     "text": [
      "Les variables 'genre' du client et la 'catégorie' de livres achetés sont très peu corrélées pour la catégorie 1\n"
     ]
    }
   ],
   "source": [
    "#Visualisation de la caorrelation avec le heatmap\n",
    "import seaborn as sns\n",
    "import scipy.stats as st\n",
    "\n",
    "tx = cont.loc[:,[\"Total\"]]\n",
    "ty = cont.loc[[\"Total\"],:]\n",
    "n = len(df_final_sans_pro)\n",
    "indep = tx.dot(ty) / n\n",
    "\n",
    "c = cont.fillna(0) # On remplace les valeurs nulles par 0\n",
    "measure = (c-indep)**2/indep\n",
    "xi_n = measure.sum().sum()\n",
    "table = measure/xi_n\n",
    "sns.heatmap(table.iloc[:-1,:-1],annot=c.iloc[:-1,:-1])\n",
    "display(plt.show())\n",
    "print(\"Les variables 'genre' du client et la 'catégorie' de livres achetés sont très peu corrélées pour la catégorie 1\")"
   ]
  },
  {
   "cell_type": "markdown",
   "id": "388bfb66",
   "metadata": {},
   "source": [
    "# Test de Pearson : Test de corrélation entre deux variables quantitatives"
   ]
  },
  {
   "cell_type": "markdown",
   "id": "122e7e39",
   "metadata": {},
   "source": [
    "# Le montant des achats et l'âge des clients"
   ]
  },
  {
   "cell_type": "markdown",
   "id": "81917dd9",
   "metadata": {},
   "source": [
    "- 1: Test de normalité graphique pour savoir si les variables sont gaussiennes ou non"
   ]
  },
  {
   "cell_type": "code",
   "execution_count": 43,
   "id": "3b42695d",
   "metadata": {},
   "outputs": [
    {
     "data": {
      "text/html": [
       "<div>\n",
       "<style scoped>\n",
       "    .dataframe tbody tr th:only-of-type {\n",
       "        vertical-align: middle;\n",
       "    }\n",
       "\n",
       "    .dataframe tbody tr th {\n",
       "        vertical-align: top;\n",
       "    }\n",
       "\n",
       "    .dataframe thead th {\n",
       "        text-align: right;\n",
       "    }\n",
       "</style>\n",
       "<table border=\"1\" class=\"dataframe\">\n",
       "  <thead>\n",
       "    <tr style=\"text-align: right;\">\n",
       "      <th></th>\n",
       "      <th>Unnamed: 0</th>\n",
       "      <th>id_prod</th>\n",
       "      <th>price</th>\n",
       "      <th>categ</th>\n",
       "      <th>client_id</th>\n",
       "      <th>sex</th>\n",
       "      <th>birth</th>\n",
       "      <th>age</th>\n",
       "      <th>date</th>\n",
       "      <th>session_id</th>\n",
       "      <th>date_mois</th>\n",
       "      <th>date_annee</th>\n",
       "    </tr>\n",
       "  </thead>\n",
       "  <tbody>\n",
       "    <tr>\n",
       "      <th>0</th>\n",
       "      <td>0</td>\n",
       "      <td>0_1518</td>\n",
       "      <td>4.18</td>\n",
       "      <td>0</td>\n",
       "      <td>c_103</td>\n",
       "      <td>f</td>\n",
       "      <td>1986</td>\n",
       "      <td>36</td>\n",
       "      <td>2022-05-20</td>\n",
       "      <td>s_211425</td>\n",
       "      <td>2022-05</td>\n",
       "      <td>2022</td>\n",
       "    </tr>\n",
       "    <tr>\n",
       "      <th>1</th>\n",
       "      <td>1</td>\n",
       "      <td>1_251</td>\n",
       "      <td>15.99</td>\n",
       "      <td>1</td>\n",
       "      <td>c_8534</td>\n",
       "      <td>m</td>\n",
       "      <td>1988</td>\n",
       "      <td>34</td>\n",
       "      <td>2022-02-02</td>\n",
       "      <td>s_158752</td>\n",
       "      <td>2022-02</td>\n",
       "      <td>2022</td>\n",
       "    </tr>\n",
       "    <tr>\n",
       "      <th>2</th>\n",
       "      <td>3</td>\n",
       "      <td>2_209</td>\n",
       "      <td>69.99</td>\n",
       "      <td>2</td>\n",
       "      <td>c_6941</td>\n",
       "      <td>m</td>\n",
       "      <td>2000</td>\n",
       "      <td>22</td>\n",
       "      <td>2021-06-24</td>\n",
       "      <td>s_52962</td>\n",
       "      <td>2021-06</td>\n",
       "      <td>2021</td>\n",
       "    </tr>\n",
       "    <tr>\n",
       "      <th>3</th>\n",
       "      <td>4</td>\n",
       "      <td>0_1509</td>\n",
       "      <td>4.99</td>\n",
       "      <td>0</td>\n",
       "      <td>c_4232</td>\n",
       "      <td>m</td>\n",
       "      <td>1980</td>\n",
       "      <td>42</td>\n",
       "      <td>2023-01-11</td>\n",
       "      <td>s_325227</td>\n",
       "      <td>2023-01</td>\n",
       "      <td>2023</td>\n",
       "    </tr>\n",
       "    <tr>\n",
       "      <th>4</th>\n",
       "      <td>5</td>\n",
       "      <td>0_1418</td>\n",
       "      <td>8.57</td>\n",
       "      <td>0</td>\n",
       "      <td>c_1478</td>\n",
       "      <td>f</td>\n",
       "      <td>1972</td>\n",
       "      <td>50</td>\n",
       "      <td>2022-10-20</td>\n",
       "      <td>s_285425</td>\n",
       "      <td>2022-10</td>\n",
       "      <td>2022</td>\n",
       "    </tr>\n",
       "    <tr>\n",
       "      <th>...</th>\n",
       "      <td>...</td>\n",
       "      <td>...</td>\n",
       "      <td>...</td>\n",
       "      <td>...</td>\n",
       "      <td>...</td>\n",
       "      <td>...</td>\n",
       "      <td>...</td>\n",
       "      <td>...</td>\n",
       "      <td>...</td>\n",
       "      <td>...</td>\n",
       "      <td>...</td>\n",
       "      <td>...</td>\n",
       "    </tr>\n",
       "    <tr>\n",
       "      <th>612621</th>\n",
       "      <td>679327</td>\n",
       "      <td>0_1551</td>\n",
       "      <td>12.99</td>\n",
       "      <td>0</td>\n",
       "      <td>c_8489</td>\n",
       "      <td>f</td>\n",
       "      <td>1951</td>\n",
       "      <td>71</td>\n",
       "      <td>2022-01-15</td>\n",
       "      <td>s_150195</td>\n",
       "      <td>2022-01</td>\n",
       "      <td>2022</td>\n",
       "    </tr>\n",
       "    <tr>\n",
       "      <th>612622</th>\n",
       "      <td>679328</td>\n",
       "      <td>1_639</td>\n",
       "      <td>10.99</td>\n",
       "      <td>1</td>\n",
       "      <td>c_4370</td>\n",
       "      <td>f</td>\n",
       "      <td>1977</td>\n",
       "      <td>45</td>\n",
       "      <td>2022-03-19</td>\n",
       "      <td>s_181434</td>\n",
       "      <td>2022-03</td>\n",
       "      <td>2022</td>\n",
       "    </tr>\n",
       "    <tr>\n",
       "      <th>612623</th>\n",
       "      <td>679329</td>\n",
       "      <td>0_1425</td>\n",
       "      <td>12.99</td>\n",
       "      <td>0</td>\n",
       "      <td>c_304</td>\n",
       "      <td>f</td>\n",
       "      <td>1988</td>\n",
       "      <td>34</td>\n",
       "      <td>2022-12-20</td>\n",
       "      <td>s_314704</td>\n",
       "      <td>2022-12</td>\n",
       "      <td>2022</td>\n",
       "    </tr>\n",
       "    <tr>\n",
       "      <th>612624</th>\n",
       "      <td>679330</td>\n",
       "      <td>0_1994</td>\n",
       "      <td>4.98</td>\n",
       "      <td>0</td>\n",
       "      <td>c_2227</td>\n",
       "      <td>m</td>\n",
       "      <td>1986</td>\n",
       "      <td>36</td>\n",
       "      <td>2021-07-16</td>\n",
       "      <td>s_63204</td>\n",
       "      <td>2021-07</td>\n",
       "      <td>2021</td>\n",
       "    </tr>\n",
       "    <tr>\n",
       "      <th>612625</th>\n",
       "      <td>679331</td>\n",
       "      <td>1_523</td>\n",
       "      <td>23.99</td>\n",
       "      <td>1</td>\n",
       "      <td>c_3873</td>\n",
       "      <td>m</td>\n",
       "      <td>1995</td>\n",
       "      <td>27</td>\n",
       "      <td>2022-09-28</td>\n",
       "      <td>s_274568</td>\n",
       "      <td>2022-09</td>\n",
       "      <td>2022</td>\n",
       "    </tr>\n",
       "  </tbody>\n",
       "</table>\n",
       "<p>612626 rows × 12 columns</p>\n",
       "</div>"
      ],
      "text/plain": [
       "        Unnamed: 0 id_prod  price  categ client_id sex  birth  age  \\\n",
       "0                0  0_1518   4.18      0     c_103   f   1986   36   \n",
       "1                1   1_251  15.99      1    c_8534   m   1988   34   \n",
       "2                3   2_209  69.99      2    c_6941   m   2000   22   \n",
       "3                4  0_1509   4.99      0    c_4232   m   1980   42   \n",
       "4                5  0_1418   8.57      0    c_1478   f   1972   50   \n",
       "...            ...     ...    ...    ...       ...  ..    ...  ...   \n",
       "612621      679327  0_1551  12.99      0    c_8489   f   1951   71   \n",
       "612622      679328   1_639  10.99      1    c_4370   f   1977   45   \n",
       "612623      679329  0_1425  12.99      0     c_304   f   1988   34   \n",
       "612624      679330  0_1994   4.98      0    c_2227   m   1986   36   \n",
       "612625      679331   1_523  23.99      1    c_3873   m   1995   27   \n",
       "\n",
       "              date session_id date_mois  date_annee  \n",
       "0       2022-05-20   s_211425   2022-05        2022  \n",
       "1       2022-02-02   s_158752   2022-02        2022  \n",
       "2       2021-06-24    s_52962   2021-06        2021  \n",
       "3       2023-01-11   s_325227   2023-01        2023  \n",
       "4       2022-10-20   s_285425   2022-10        2022  \n",
       "...            ...        ...       ...         ...  \n",
       "612621  2022-01-15   s_150195   2022-01        2022  \n",
       "612622  2022-03-19   s_181434   2022-03        2022  \n",
       "612623  2022-12-20   s_314704   2022-12        2022  \n",
       "612624  2021-07-16    s_63204   2021-07        2021  \n",
       "612625  2022-09-28   s_274568   2022-09        2022  \n",
       "\n",
       "[612626 rows x 12 columns]"
      ]
     },
     "execution_count": 43,
     "metadata": {},
     "output_type": "execute_result"
    }
   ],
   "source": [
    "df_final_sans_pro"
   ]
  },
  {
   "cell_type": "code",
   "execution_count": 44,
   "id": "c3accf79",
   "metadata": {},
   "outputs": [
    {
     "data": {
      "image/png": "[encoded data removed]",
      "text/plain": [
       "<Figure size 432x288 with 1 Axes>"
      ]
     },
     "metadata": {
      "needs_background": "light"
     },
     "output_type": "display_data"
    },
    {
     "data": {
      "image/png": "[encoded data removed]",
      "text/plain": [
       "<Figure size 432x288 with 1 Axes>"
      ]
     },
     "metadata": {
      "needs_background": "light"
     },
     "output_type": "display_data"
    }
   ],
   "source": [
    "#Méthode graphique: QQ-Plot pour savoir si les vairable suivent une distribution normale\n",
    "    \n",
    "import statsmodels.api as sm\n",
    "import pylab as py\n",
    "  \n",
    "sm.qqplot(df_final_sans_pro['age'], line ='45')\n",
    "py.show()  \n",
    "\n",
    "sm.qqplot(df_final_sans_pro['price'], line ='45')\n",
    "py.show()  "
   ]
  },
  {
   "cell_type": "code",
   "execution_count": 45,
   "id": "6fc8e61e",
   "metadata": {},
   "outputs": [
    {
     "data": {
      "image/png": "[encoded data removed]",
      "text/plain": [
       "<Figure size 432x288 with 1 Axes>"
      ]
     },
     "metadata": {
      "needs_background": "light"
     },
     "output_type": "display_data"
    },
    {
     "data": {
      "image/png": "[encoded data removed]",
      "text/plain": [
       "<Figure size 432x288 with 1 Axes>"
      ]
     },
     "metadata": {
      "needs_background": "light"
     },
     "output_type": "display_data"
    },
    {
     "name": "stdout",
     "output_type": "stream",
     "text": [
      "Les variables age et price ne suivent pas une loi normale\n"
     ]
    }
   ],
   "source": [
    "#Visualisation graphique en histogramme\n",
    "plt.hist(df_final_sans_pro['age'])\n",
    "plt.show()\n",
    "\n",
    "plt.hist(df_final_sans_pro['price'])\n",
    "plt.show()\n",
    "\n",
    "print('Les variables age et price ne suivent pas une loi normale')"
   ]
  },
  {
   "cell_type": "markdown",
   "id": "d1934d37",
   "metadata": {},
   "source": [
    "### Test de Shapiro pour vérifier la normalité"
   ]
  },
  {
   "cell_type": "markdown",
   "id": "98845928",
   "metadata": {},
   "source": [
    "Ho(Accepted): La distribution suit la loi normale.(Po>0.05)\n",
    "\n",
    "Ha(Rejected): La distribution ne suit pas la loi normale"
   ]
  },
  {
   "cell_type": "code",
   "execution_count": 83,
   "id": "318b64bc",
   "metadata": {},
   "outputs": [
    {
     "name": "stdout",
     "output_type": "stream",
     "text": [
      "ShapiroResult(statistic=0.9709652662277222, pvalue=0.0)\n",
      "La variable age a un P-value de 0.0 <0.05 et donc ce n'est pas une distribution normale \n",
      "ShapiroResult(statistic=0.5485800504684448, pvalue=0.0)\n",
      "La variable montant_achat a un P-value de 0.0 <0.05 et donc ce n'est pas une distribution normale \n"
     ]
    }
   ],
   "source": [
    "from scipy.stats import shapiro\n",
    "print(shapiro(df_final_sans_pro['age']))\n",
    "print(\"La variable age a un P-value de 0.0 <0.05 et donc ce n'est pas une distribution normale \")\n",
    "\n",
    "\n",
    "print(shapiro(df_final_sans_pro['price']))\n",
    "print(\"La variable montant_achat a un P-value de 0.0 <0.05 et donc ce n'est pas une distribution normale \")\n"
   ]
  },
  {
   "cell_type": "markdown",
   "id": "97ebe68a",
   "metadata": {},
   "source": [
    "# Test de Spearman, test de corrélation de deux variables quantitatives : l'âge des clients, le montant total et la fréquence des achats"
   ]
  },
  {
   "cell_type": "markdown",
   "id": "d6a251a0",
   "metadata": {},
   "source": [
    "Pour faire le test de Pearson, nous devons nous assurer des conditions suivantes:\n",
    "- Déterminer si deux variables continues sont indépendantes : le test de corrélation de Spearman. \n",
    "L’H0 à tester est : l'âge et le montant des achats sont indépendants\n",
    "\n",
    "- Visualisation avec nuage de points avec droite de régression linéaire \n",
    "- Les variables sont non paramétriques d'après test de Shapiro\n",
    "-Pearson est plus appropriée pour les mesures prises à partir d'une échelle d'intervalle"
   ]
  },
  {
   "cell_type": "code",
   "execution_count": 47,
   "id": "7346ec2d",
   "metadata": {},
   "outputs": [
    {
     "data": {
      "text/html": [
       "<div>\n",
       "<style scoped>\n",
       "    .dataframe tbody tr th:only-of-type {\n",
       "        vertical-align: middle;\n",
       "    }\n",
       "\n",
       "    .dataframe tbody tr th {\n",
       "        vertical-align: top;\n",
       "    }\n",
       "\n",
       "    .dataframe thead th {\n",
       "        text-align: right;\n",
       "    }\n",
       "</style>\n",
       "<table border=\"1\" class=\"dataframe\">\n",
       "  <thead>\n",
       "    <tr style=\"text-align: right;\">\n",
       "      <th></th>\n",
       "      <th>age</th>\n",
       "      <th>count</th>\n",
       "      <th>sum</th>\n",
       "    </tr>\n",
       "  </thead>\n",
       "  <tbody>\n",
       "    <tr>\n",
       "      <th>0</th>\n",
       "      <td>91</td>\n",
       "      <td>164</td>\n",
       "      <td>2691.19</td>\n",
       "    </tr>\n",
       "    <tr>\n",
       "      <th>1</th>\n",
       "      <td>93</td>\n",
       "      <td>199</td>\n",
       "      <td>3197.08</td>\n",
       "    </tr>\n",
       "    <tr>\n",
       "      <th>2</th>\n",
       "      <td>92</td>\n",
       "      <td>222</td>\n",
       "      <td>3959.24</td>\n",
       "    </tr>\n",
       "    <tr>\n",
       "      <th>3</th>\n",
       "      <td>87</td>\n",
       "      <td>260</td>\n",
       "      <td>4654.29</td>\n",
       "    </tr>\n",
       "    <tr>\n",
       "      <th>4</th>\n",
       "      <td>90</td>\n",
       "      <td>293</td>\n",
       "      <td>4803.64</td>\n",
       "    </tr>\n",
       "  </tbody>\n",
       "</table>\n",
       "</div>"
      ],
      "text/plain": [
       "   age  count      sum\n",
       "0   91    164  2691.19\n",
       "1   93    199  3197.08\n",
       "2   92    222  3959.24\n",
       "3   87    260  4654.29\n",
       "4   90    293  4803.64"
      ]
     },
     "execution_count": 47,
     "metadata": {},
     "output_type": "execute_result"
    }
   ],
   "source": [
    "#Age, Nombre d'achats, montant total achat\n",
    "age_ca = df_final_sans_pro.groupby('age')['price'].agg(['count', 'sum']).sort_values('sum').reset_index()\n",
    "age_ca.head()"
   ]
  },
  {
   "cell_type": "code",
   "execution_count": 77,
   "id": "f7060e65",
   "metadata": {},
   "outputs": [
    {
     "data": {
      "text/html": [
       "<div>\n",
       "<style scoped>\n",
       "    .dataframe tbody tr th:only-of-type {\n",
       "        vertical-align: middle;\n",
       "    }\n",
       "\n",
       "    .dataframe tbody tr th {\n",
       "        vertical-align: top;\n",
       "    }\n",
       "\n",
       "    .dataframe thead th {\n",
       "        text-align: right;\n",
       "    }\n",
       "</style>\n",
       "<table border=\"1\" class=\"dataframe\">\n",
       "  <thead>\n",
       "    <tr style=\"text-align: right;\">\n",
       "      <th>col_0</th>\n",
       "      <th>count</th>\n",
       "    </tr>\n",
       "    <tr>\n",
       "      <th>age</th>\n",
       "      <th></th>\n",
       "    </tr>\n",
       "  </thead>\n",
       "  <tbody>\n",
       "    <tr>\n",
       "      <th>18</th>\n",
       "      <td>0.024108</td>\n",
       "    </tr>\n",
       "    <tr>\n",
       "      <th>19</th>\n",
       "      <td>0.006918</td>\n",
       "    </tr>\n",
       "    <tr>\n",
       "      <th>20</th>\n",
       "      <td>0.007293</td>\n",
       "    </tr>\n",
       "    <tr>\n",
       "      <th>21</th>\n",
       "      <td>0.006792</td>\n",
       "    </tr>\n",
       "    <tr>\n",
       "      <th>22</th>\n",
       "      <td>0.007017</td>\n",
       "    </tr>\n",
       "    <tr>\n",
       "      <th>...</th>\n",
       "      <td>...</td>\n",
       "    </tr>\n",
       "    <tr>\n",
       "      <th>89</th>\n",
       "      <td>0.000514</td>\n",
       "    </tr>\n",
       "    <tr>\n",
       "      <th>90</th>\n",
       "      <td>0.000478</td>\n",
       "    </tr>\n",
       "    <tr>\n",
       "      <th>91</th>\n",
       "      <td>0.000268</td>\n",
       "    </tr>\n",
       "    <tr>\n",
       "      <th>92</th>\n",
       "      <td>0.000362</td>\n",
       "    </tr>\n",
       "    <tr>\n",
       "      <th>93</th>\n",
       "      <td>0.000325</td>\n",
       "    </tr>\n",
       "  </tbody>\n",
       "</table>\n",
       "<p>76 rows × 1 columns</p>\n",
       "</div>"
      ],
      "text/plain": [
       "col_0     count\n",
       "age            \n",
       "18     0.024108\n",
       "19     0.006918\n",
       "20     0.007293\n",
       "21     0.006792\n",
       "22     0.007017\n",
       "..          ...\n",
       "89     0.000514\n",
       "90     0.000478\n",
       "91     0.000268\n",
       "92     0.000362\n",
       "93     0.000325\n",
       "\n",
       "[76 rows x 1 columns]"
      ]
     },
     "execution_count": 77,
     "metadata": {},
     "output_type": "execute_result"
    }
   ],
   "source": [
    "#Fréquence d'achat\n",
    "tab= pd.crosstab(index=df_final_sans_pro['age'], columns='count')\n",
    "tab/tab.sum()"
   ]
  },
  {
   "cell_type": "code",
   "execution_count": 79,
   "id": "4e4b0be6",
   "metadata": {},
   "outputs": [
    {
     "data": {
      "text/plain": [
       "(15.0, 95.0)"
      ]
     },
     "execution_count": 79,
     "metadata": {},
     "output_type": "execute_result"
    },
    {
     "data": {
      "image/png": "[encoded data removed]",
      "text/plain": [
       "<Figure size 936x432 with 1 Axes>"
      ]
     },
     "metadata": {
      "needs_background": "light"
     },
     "output_type": "display_data"
    }
   ],
   "source": [
    "# Regression linéaire de la fréquence des achats et l'âge des clients\n",
    "plt.figure(figsize=(13, 6))\n",
    "sns.regplot(x='age', y='count', data = age_ca)\n",
    "plt.ylabel( \"Fréquence d'achat\")\n",
    "plt.xlabel('Âge des clients')\n",
    "plt.title(\"Fréquence d’achat par âge des clients\",fontsize= 16)\n",
    "plt.xlim(15,95)"
   ]
  },
  {
   "cell_type": "code",
   "execution_count": 75,
   "id": "a37f0352",
   "metadata": {},
   "outputs": [
    {
     "name": "stdout",
     "output_type": "stream",
     "text": [
      "Avec un rho de  -0.6737935748462065 on a une forte relation négative entre les deux variables\n",
      "La P-value 2.5520940213877932e-11 <0.05. On peut rejeter l'hypothèse nulle \n",
      "Plus le client est âgé, moins il va dépenser\n"
     ]
    }
   ],
   "source": [
    "from scipy.stats import spearmanr\n",
    "\n",
    "#calculate Spearman Rank correlation and corresponding p-value\n",
    "rho, p = spearmanr(age_ca[\"age\"],age_ca[\"count\"])\n",
    "\n",
    "#print Spearman rank correlation and p-value\n",
    "print(\"Avec un rho de \",rho,\"on a une forte relation négative entre les deux variables\")\n",
    "\n",
    "print(\"La P-value\", p, \"<0.05. On peut rejeter l'hypothèse nulle \")\n",
    "print(\"Plus le client est âgé, moins il va dépenser\")"
   ]
  },
  {
   "cell_type": "code",
   "execution_count": 51,
   "id": "b0298a38",
   "metadata": {},
   "outputs": [
    {
     "data": {
      "text/plain": [
       "(15.0, 95.0)"
      ]
     },
     "execution_count": 51,
     "metadata": {},
     "output_type": "execute_result"
    },
    {
     "data": {
      "image/png": "[encoded data removed]",
      "text/plain": [
       "<Figure size 936x432 with 1 Axes>"
      ]
     },
     "metadata": {
      "needs_background": "light"
     },
     "output_type": "display_data"
    }
   ],
   "source": [
    "#frequence d'achat et l'âge des clients\n",
    "plt.figure(figsize=(13, 6))\n",
    "sns.regplot(x='age', y='sum', data = age_ca)\n",
    "plt.ylabel( \"Montant des achats\")\n",
    "plt.xlabel('Âge des clients')\n",
    "plt.title(\"Montant des achats par âge des clients\",fontsize= 16)\n",
    "plt.xlim(15,95)"
   ]
  },
  {
   "cell_type": "code",
   "execution_count": 88,
   "id": "d03ef347",
   "metadata": {},
   "outputs": [
    {
     "name": "stdout",
     "output_type": "stream",
     "text": [
      "Avec un rho de  -0.8740396445659603 on a une très forte relation négative entre les deux variables\n",
      "La P-value 6.668764227215193e-25 <0.05. On peut rejeter l'hypothèse nulle \n"
     ]
    }
   ],
   "source": [
    "from scipy.stats import spearmanr\n",
    "\n",
    "#calculate Spearman Rank correlation and corresponding p-value\n",
    "rho, p = spearmanr(age_ca[\"age\"],age_ca[\"sum\"])\n",
    "\n",
    "#print Spearman rank correlation and p-value\n",
    "print(\"Avec un rho de \",rho,\"on a une très forte relation négative entre les deux variables\")\n",
    "\n",
    "print(\"La P-value\", p, \"<0.05. On peut rejeter l'hypothèse nulle \")\n"
   ]
  },
  {
   "cell_type": "markdown",
   "id": "86c6343c",
   "metadata": {},
   "source": [
    "- Nous avons une forte corrélation négative. Par conséquent, plus le client est âgé et moins il va dépenser et avec une fréquence plus faible"
   ]
  },
  {
   "cell_type": "markdown",
   "id": "b5446fe3",
   "metadata": {},
   "source": [
    "# Taille du panier moyen "
   ]
  },
  {
   "cell_type": "code",
   "execution_count": 53,
   "id": "772a2043",
   "metadata": {},
   "outputs": [
    {
     "data": {
      "text/html": [
       "<div>\n",
       "<style scoped>\n",
       "    .dataframe tbody tr th:only-of-type {\n",
       "        vertical-align: middle;\n",
       "    }\n",
       "\n",
       "    .dataframe tbody tr th {\n",
       "        vertical-align: top;\n",
       "    }\n",
       "\n",
       "    .dataframe thead th {\n",
       "        text-align: right;\n",
       "    }\n",
       "</style>\n",
       "<table border=\"1\" class=\"dataframe\">\n",
       "  <thead>\n",
       "    <tr style=\"text-align: right;\">\n",
       "      <th></th>\n",
       "      <th>Unnamed: 0</th>\n",
       "      <th>id_prod</th>\n",
       "      <th>price</th>\n",
       "      <th>categ</th>\n",
       "      <th>client_id</th>\n",
       "      <th>sex</th>\n",
       "      <th>birth</th>\n",
       "      <th>age</th>\n",
       "      <th>date</th>\n",
       "      <th>session_id</th>\n",
       "      <th>date_mois</th>\n",
       "      <th>date_annee</th>\n",
       "    </tr>\n",
       "  </thead>\n",
       "  <tbody>\n",
       "    <tr>\n",
       "      <th>0</th>\n",
       "      <td>0</td>\n",
       "      <td>0_1518</td>\n",
       "      <td>4.18</td>\n",
       "      <td>0</td>\n",
       "      <td>c_103</td>\n",
       "      <td>f</td>\n",
       "      <td>1986</td>\n",
       "      <td>36</td>\n",
       "      <td>2022-05-20</td>\n",
       "      <td>s_211425</td>\n",
       "      <td>2022-05</td>\n",
       "      <td>2022</td>\n",
       "    </tr>\n",
       "    <tr>\n",
       "      <th>1</th>\n",
       "      <td>1</td>\n",
       "      <td>1_251</td>\n",
       "      <td>15.99</td>\n",
       "      <td>1</td>\n",
       "      <td>c_8534</td>\n",
       "      <td>m</td>\n",
       "      <td>1988</td>\n",
       "      <td>34</td>\n",
       "      <td>2022-02-02</td>\n",
       "      <td>s_158752</td>\n",
       "      <td>2022-02</td>\n",
       "      <td>2022</td>\n",
       "    </tr>\n",
       "    <tr>\n",
       "      <th>2</th>\n",
       "      <td>3</td>\n",
       "      <td>2_209</td>\n",
       "      <td>69.99</td>\n",
       "      <td>2</td>\n",
       "      <td>c_6941</td>\n",
       "      <td>m</td>\n",
       "      <td>2000</td>\n",
       "      <td>22</td>\n",
       "      <td>2021-06-24</td>\n",
       "      <td>s_52962</td>\n",
       "      <td>2021-06</td>\n",
       "      <td>2021</td>\n",
       "    </tr>\n",
       "    <tr>\n",
       "      <th>3</th>\n",
       "      <td>4</td>\n",
       "      <td>0_1509</td>\n",
       "      <td>4.99</td>\n",
       "      <td>0</td>\n",
       "      <td>c_4232</td>\n",
       "      <td>m</td>\n",
       "      <td>1980</td>\n",
       "      <td>42</td>\n",
       "      <td>2023-01-11</td>\n",
       "      <td>s_325227</td>\n",
       "      <td>2023-01</td>\n",
       "      <td>2023</td>\n",
       "    </tr>\n",
       "    <tr>\n",
       "      <th>4</th>\n",
       "      <td>5</td>\n",
       "      <td>0_1418</td>\n",
       "      <td>8.57</td>\n",
       "      <td>0</td>\n",
       "      <td>c_1478</td>\n",
       "      <td>f</td>\n",
       "      <td>1972</td>\n",
       "      <td>50</td>\n",
       "      <td>2022-10-20</td>\n",
       "      <td>s_285425</td>\n",
       "      <td>2022-10</td>\n",
       "      <td>2022</td>\n",
       "    </tr>\n",
       "    <tr>\n",
       "      <th>...</th>\n",
       "      <td>...</td>\n",
       "      <td>...</td>\n",
       "      <td>...</td>\n",
       "      <td>...</td>\n",
       "      <td>...</td>\n",
       "      <td>...</td>\n",
       "      <td>...</td>\n",
       "      <td>...</td>\n",
       "      <td>...</td>\n",
       "      <td>...</td>\n",
       "      <td>...</td>\n",
       "      <td>...</td>\n",
       "    </tr>\n",
       "    <tr>\n",
       "      <th>612621</th>\n",
       "      <td>679327</td>\n",
       "      <td>0_1551</td>\n",
       "      <td>12.99</td>\n",
       "      <td>0</td>\n",
       "      <td>c_8489</td>\n",
       "      <td>f</td>\n",
       "      <td>1951</td>\n",
       "      <td>71</td>\n",
       "      <td>2022-01-15</td>\n",
       "      <td>s_150195</td>\n",
       "      <td>2022-01</td>\n",
       "      <td>2022</td>\n",
       "    </tr>\n",
       "    <tr>\n",
       "      <th>612622</th>\n",
       "      <td>679328</td>\n",
       "      <td>1_639</td>\n",
       "      <td>10.99</td>\n",
       "      <td>1</td>\n",
       "      <td>c_4370</td>\n",
       "      <td>f</td>\n",
       "      <td>1977</td>\n",
       "      <td>45</td>\n",
       "      <td>2022-03-19</td>\n",
       "      <td>s_181434</td>\n",
       "      <td>2022-03</td>\n",
       "      <td>2022</td>\n",
       "    </tr>\n",
       "    <tr>\n",
       "      <th>612623</th>\n",
       "      <td>679329</td>\n",
       "      <td>0_1425</td>\n",
       "      <td>12.99</td>\n",
       "      <td>0</td>\n",
       "      <td>c_304</td>\n",
       "      <td>f</td>\n",
       "      <td>1988</td>\n",
       "      <td>34</td>\n",
       "      <td>2022-12-20</td>\n",
       "      <td>s_314704</td>\n",
       "      <td>2022-12</td>\n",
       "      <td>2022</td>\n",
       "    </tr>\n",
       "    <tr>\n",
       "      <th>612624</th>\n",
       "      <td>679330</td>\n",
       "      <td>0_1994</td>\n",
       "      <td>4.98</td>\n",
       "      <td>0</td>\n",
       "      <td>c_2227</td>\n",
       "      <td>m</td>\n",
       "      <td>1986</td>\n",
       "      <td>36</td>\n",
       "      <td>2021-07-16</td>\n",
       "      <td>s_63204</td>\n",
       "      <td>2021-07</td>\n",
       "      <td>2021</td>\n",
       "    </tr>\n",
       "    <tr>\n",
       "      <th>612625</th>\n",
       "      <td>679331</td>\n",
       "      <td>1_523</td>\n",
       "      <td>23.99</td>\n",
       "      <td>1</td>\n",
       "      <td>c_3873</td>\n",
       "      <td>m</td>\n",
       "      <td>1995</td>\n",
       "      <td>27</td>\n",
       "      <td>2022-09-28</td>\n",
       "      <td>s_274568</td>\n",
       "      <td>2022-09</td>\n",
       "      <td>2022</td>\n",
       "    </tr>\n",
       "  </tbody>\n",
       "</table>\n",
       "<p>612626 rows × 12 columns</p>\n",
       "</div>"
      ],
      "text/plain": [
       "        Unnamed: 0 id_prod  price  categ client_id sex  birth  age  \\\n",
       "0                0  0_1518   4.18      0     c_103   f   1986   36   \n",
       "1                1   1_251  15.99      1    c_8534   m   1988   34   \n",
       "2                3   2_209  69.99      2    c_6941   m   2000   22   \n",
       "3                4  0_1509   4.99      0    c_4232   m   1980   42   \n",
       "4                5  0_1418   8.57      0    c_1478   f   1972   50   \n",
       "...            ...     ...    ...    ...       ...  ..    ...  ...   \n",
       "612621      679327  0_1551  12.99      0    c_8489   f   1951   71   \n",
       "612622      679328   1_639  10.99      1    c_4370   f   1977   45   \n",
       "612623      679329  0_1425  12.99      0     c_304   f   1988   34   \n",
       "612624      679330  0_1994   4.98      0    c_2227   m   1986   36   \n",
       "612625      679331   1_523  23.99      1    c_3873   m   1995   27   \n",
       "\n",
       "              date session_id date_mois  date_annee  \n",
       "0       2022-05-20   s_211425   2022-05        2022  \n",
       "1       2022-02-02   s_158752   2022-02        2022  \n",
       "2       2021-06-24    s_52962   2021-06        2021  \n",
       "3       2023-01-11   s_325227   2023-01        2023  \n",
       "4       2022-10-20   s_285425   2022-10        2022  \n",
       "...            ...        ...       ...         ...  \n",
       "612621  2022-01-15   s_150195   2022-01        2022  \n",
       "612622  2022-03-19   s_181434   2022-03        2022  \n",
       "612623  2022-12-20   s_314704   2022-12        2022  \n",
       "612624  2021-07-16    s_63204   2021-07        2021  \n",
       "612625  2022-09-28   s_274568   2022-09        2022  \n",
       "\n",
       "[612626 rows x 12 columns]"
      ]
     },
     "execution_count": 53,
     "metadata": {},
     "output_type": "execute_result"
    }
   ],
   "source": [
    "df_final_sans_pro"
   ]
  },
  {
   "cell_type": "code",
   "execution_count": 54,
   "id": "31aff86c",
   "metadata": {},
   "outputs": [
    {
     "name": "stdout",
     "output_type": "stream",
     "text": [
      "Le panier moyen est de 34.87€\n"
     ]
    }
   ],
   "source": [
    "#Panier moyen B2C : CA/nombre de commandes\n",
    "panier_moyen= df_final_sans_pro.groupby([\"session_id\"])[\"price\"].sum().mean()\n",
    "\n",
    "\n",
    "print(f\"Le panier moyen est de {round(prix_panier_moyen,2)}€\")"
   ]
  },
  {
   "cell_type": "markdown",
   "id": "aed757e2",
   "metadata": {},
   "source": [
    "# Taille du panier moyen par catégorie"
   ]
  },
  {
   "cell_type": "code",
   "execution_count": 55,
   "id": "40a2b99c",
   "metadata": {},
   "outputs": [
    {
     "name": "stdout",
     "output_type": "stream",
     "text": [
      "Le panier moyen de la catégorie 0 est de 19.54€\n"
     ]
    }
   ],
   "source": [
    "# panier moyen pour la catégorie 0\n",
    "prix_panier_moyen_categ_0 = df_final_sans_pro.loc[df_final_sans_pro[\"categ\"] == 0, :]\n",
    "prix_panier_moyen_categ_0 = prix_panier_moyen_categ_0.groupby([\"session_id\"])[\"price\"].sum().mean()\n",
    "\n",
    "print(f\"Le panier moyen de la catégorie 0 est de {round(prix_panier_moyen_categ_0,2)}€\")"
   ]
  },
  {
   "cell_type": "code",
   "execution_count": 56,
   "id": "2b7101fc",
   "metadata": {},
   "outputs": [
    {
     "name": "stdout",
     "output_type": "stream",
     "text": [
      "Le panier moyen de la catégorie 1 est de 25.96 €.\n"
     ]
    }
   ],
   "source": [
    "# panier moyen pour la catégorie 1\n",
    "prix_panier_moyen_categ_1 = df_final_sans_pro.loc[df_final_sans_pro[\"categ\"] == 1, :]\n",
    "prix_panier_moyen_categ_1 = prix_panier_moyen_categ_1.groupby([\"session_id\"])[\"price\"].sum().mean()\n",
    "\n",
    "print(\"Le panier moyen de la catégorie 1 est de {:,.2f} €.\".format(prix_panier_moyen_categ_1))"
   ]
  },
  {
   "cell_type": "code",
   "execution_count": 57,
   "id": "a282b30a",
   "metadata": {},
   "outputs": [
    {
     "name": "stdout",
     "output_type": "stream",
     "text": [
      "Le panier moyen de la catégorie 2 est de 90.98€\n"
     ]
    }
   ],
   "source": [
    "# panier moyen pour la catégorie 2\n",
    "prix_panier_moyen_categ_2 = df_final_sans_pro.loc[df_final_sans_pro[\"categ\"] == 2, :]\n",
    "prix_panier_moyen_categ_2 = prix_panier_moyen_categ_2.groupby([\"session_id\"])[\"price\"].sum().mean()\n",
    "\n",
    "print(f\"Le panier moyen de la catégorie 2 est de {round(prix_panier_moyen_categ_2,2)}€\")"
   ]
  },
  {
   "cell_type": "code",
   "execution_count": 58,
   "id": "b6f44435",
   "metadata": {},
   "outputs": [
    {
     "data": {
      "image/png": "[encoded data removed]",
      "text/plain": [
       "<Figure size 720x360 with 1 Axes>"
      ]
     },
     "metadata": {},
     "output_type": "display_data"
    }
   ],
   "source": [
    "#Répresentation graphique du prix du panier moyen par catégorie\n",
    "categ = [prix_panier_moyen_categ_0, prix_panier_moyen_categ_1, prix_panier_moyen_categ_2]\n",
    "labels = [\"Catégorie 0\", \"Catégorie 1\", \"Catégorie 2\"]\n",
    "\n",
    "plt.figure(figsize=(10, 5)) \n",
    "plt.pie(categ, labels=labels, autopct='%.2f%%')\n",
    "plt.title(\"Répresentation du prix du panier moyen par catégorie\")\n",
    "plt.show()"
   ]
  },
  {
   "cell_type": "markdown",
   "id": "0d0fbbc8",
   "metadata": {},
   "source": [
    "## Discrétisation de l'âge en tranche d'âge"
   ]
  },
  {
   "cell_type": "markdown",
   "id": "5b2ec8c3",
   "metadata": {},
   "source": [
    "Création de classe age en utilisant la formule de Formule de Scott : \n",
    "k = (xmax – xmin) ⁄ (3,5 × σ × N(-1 ⁄ 3))\n",
    "\n",
    "σ = écart-type\n",
    "N= population\n"
   ]
  },
  {
   "cell_type": "code",
   "execution_count": 59,
   "id": "faf8c0a4",
   "metadata": {},
   "outputs": [
    {
     "data": {
      "text/plain": [
       "8594"
      ]
     },
     "execution_count": 59,
     "metadata": {},
     "output_type": "execute_result"
    }
   ],
   "source": [
    "#Taille de la population\n",
    "taille_pop=df_final_sans_pro['client_id'].unique().shape[0]\n",
    "taille_pop"
   ]
  },
  {
   "cell_type": "code",
   "execution_count": 60,
   "id": "95c26303",
   "metadata": {},
   "outputs": [
    {
     "data": {
      "text/html": [
       "<div>\n",
       "<style scoped>\n",
       "    .dataframe tbody tr th:only-of-type {\n",
       "        vertical-align: middle;\n",
       "    }\n",
       "\n",
       "    .dataframe tbody tr th {\n",
       "        vertical-align: top;\n",
       "    }\n",
       "\n",
       "    .dataframe thead th {\n",
       "        text-align: right;\n",
       "    }\n",
       "</style>\n",
       "<table border=\"1\" class=\"dataframe\">\n",
       "  <thead>\n",
       "    <tr style=\"text-align: right;\">\n",
       "      <th></th>\n",
       "      <th>age</th>\n",
       "    </tr>\n",
       "  </thead>\n",
       "  <tbody>\n",
       "    <tr>\n",
       "      <th>count</th>\n",
       "      <td>612626.000000</td>\n",
       "    </tr>\n",
       "    <tr>\n",
       "      <th>mean</th>\n",
       "      <td>44.251449</td>\n",
       "    </tr>\n",
       "    <tr>\n",
       "      <th>std</th>\n",
       "      <td>13.886603</td>\n",
       "    </tr>\n",
       "    <tr>\n",
       "      <th>min</th>\n",
       "      <td>18.000000</td>\n",
       "    </tr>\n",
       "    <tr>\n",
       "      <th>25%</th>\n",
       "      <td>35.000000</td>\n",
       "    </tr>\n",
       "    <tr>\n",
       "      <th>50%</th>\n",
       "      <td>43.000000</td>\n",
       "    </tr>\n",
       "    <tr>\n",
       "      <th>75%</th>\n",
       "      <td>51.000000</td>\n",
       "    </tr>\n",
       "    <tr>\n",
       "      <th>max</th>\n",
       "      <td>93.000000</td>\n",
       "    </tr>\n",
       "  </tbody>\n",
       "</table>\n",
       "</div>"
      ],
      "text/plain": [
       "                 age\n",
       "count  612626.000000\n",
       "mean       44.251449\n",
       "std        13.886603\n",
       "min        18.000000\n",
       "25%        35.000000\n",
       "50%        43.000000\n",
       "75%        51.000000\n",
       "max        93.000000"
      ]
     },
     "execution_count": 60,
     "metadata": {},
     "output_type": "execute_result"
    }
   ],
   "source": [
    "#Statistiques de age\n",
    "df_final_sans_pro[['age']].describe()"
   ]
  },
  {
   "cell_type": "code",
   "execution_count": 61,
   "id": "9592bd85",
   "metadata": {},
   "outputs": [
    {
     "name": "stdout",
     "output_type": "stream",
     "text": [
      "31.62293699016332\n",
      "La discrétisation via la formule de Scott ne nous convient pas, donc nous décidons d'utiliser la discrétisation customisée \n"
     ]
    }
   ],
   "source": [
    "#Calcul des classes age\n",
    "xmin= 18\n",
    "xmax= 93\n",
    "intervalle_interquartile= 51-35 # 16\n",
    "N = taille_pop\n",
    "\n",
    "#Formule de Scott : k = (xmax – xmin) ⁄ (3.5 × standard dev × N ^(-1 ⁄ 3))\n",
    "k = (xmax-xmin)/(3.5*13.88 * N **(-1 / 3))\n",
    "print(k)\n",
    "print(\"La discrétisation via la formule de Scott ne nous convient pas, donc nous décidons d'utiliser la discrétisation customisée \")"
   ]
  },
  {
   "cell_type": "code",
   "execution_count": 62,
   "id": "2bbab66d",
   "metadata": {},
   "outputs": [
    {
     "data": {
      "text/html": [
       "<div>\n",
       "<style scoped>\n",
       "    .dataframe tbody tr th:only-of-type {\n",
       "        vertical-align: middle;\n",
       "    }\n",
       "\n",
       "    .dataframe tbody tr th {\n",
       "        vertical-align: top;\n",
       "    }\n",
       "\n",
       "    .dataframe thead th {\n",
       "        text-align: right;\n",
       "    }\n",
       "</style>\n",
       "<table border=\"1\" class=\"dataframe\">\n",
       "  <thead>\n",
       "    <tr style=\"text-align: right;\">\n",
       "      <th></th>\n",
       "      <th>Unnamed: 0</th>\n",
       "      <th>id_prod</th>\n",
       "      <th>price</th>\n",
       "      <th>categ</th>\n",
       "      <th>client_id</th>\n",
       "      <th>sex</th>\n",
       "      <th>birth</th>\n",
       "      <th>age</th>\n",
       "      <th>date</th>\n",
       "      <th>session_id</th>\n",
       "      <th>date_mois</th>\n",
       "      <th>date_annee</th>\n",
       "      <th>tranche_age</th>\n",
       "    </tr>\n",
       "  </thead>\n",
       "  <tbody>\n",
       "    <tr>\n",
       "      <th>0</th>\n",
       "      <td>0</td>\n",
       "      <td>0_1518</td>\n",
       "      <td>4.18</td>\n",
       "      <td>0</td>\n",
       "      <td>c_103</td>\n",
       "      <td>f</td>\n",
       "      <td>1986</td>\n",
       "      <td>36</td>\n",
       "      <td>2022-05-20</td>\n",
       "      <td>s_211425</td>\n",
       "      <td>2022-05</td>\n",
       "      <td>2022</td>\n",
       "      <td>30-40</td>\n",
       "    </tr>\n",
       "    <tr>\n",
       "      <th>1</th>\n",
       "      <td>1</td>\n",
       "      <td>1_251</td>\n",
       "      <td>15.99</td>\n",
       "      <td>1</td>\n",
       "      <td>c_8534</td>\n",
       "      <td>m</td>\n",
       "      <td>1988</td>\n",
       "      <td>34</td>\n",
       "      <td>2022-02-02</td>\n",
       "      <td>s_158752</td>\n",
       "      <td>2022-02</td>\n",
       "      <td>2022</td>\n",
       "      <td>30-40</td>\n",
       "    </tr>\n",
       "    <tr>\n",
       "      <th>2</th>\n",
       "      <td>3</td>\n",
       "      <td>2_209</td>\n",
       "      <td>69.99</td>\n",
       "      <td>2</td>\n",
       "      <td>c_6941</td>\n",
       "      <td>m</td>\n",
       "      <td>2000</td>\n",
       "      <td>22</td>\n",
       "      <td>2021-06-24</td>\n",
       "      <td>s_52962</td>\n",
       "      <td>2021-06</td>\n",
       "      <td>2021</td>\n",
       "      <td>18-30</td>\n",
       "    </tr>\n",
       "    <tr>\n",
       "      <th>3</th>\n",
       "      <td>4</td>\n",
       "      <td>0_1509</td>\n",
       "      <td>4.99</td>\n",
       "      <td>0</td>\n",
       "      <td>c_4232</td>\n",
       "      <td>m</td>\n",
       "      <td>1980</td>\n",
       "      <td>42</td>\n",
       "      <td>2023-01-11</td>\n",
       "      <td>s_325227</td>\n",
       "      <td>2023-01</td>\n",
       "      <td>2023</td>\n",
       "      <td>30-40</td>\n",
       "    </tr>\n",
       "    <tr>\n",
       "      <th>4</th>\n",
       "      <td>5</td>\n",
       "      <td>0_1418</td>\n",
       "      <td>8.57</td>\n",
       "      <td>0</td>\n",
       "      <td>c_1478</td>\n",
       "      <td>f</td>\n",
       "      <td>1972</td>\n",
       "      <td>50</td>\n",
       "      <td>2022-10-20</td>\n",
       "      <td>s_285425</td>\n",
       "      <td>2022-10</td>\n",
       "      <td>2022</td>\n",
       "      <td>50-60</td>\n",
       "    </tr>\n",
       "    <tr>\n",
       "      <th>...</th>\n",
       "      <td>...</td>\n",
       "      <td>...</td>\n",
       "      <td>...</td>\n",
       "      <td>...</td>\n",
       "      <td>...</td>\n",
       "      <td>...</td>\n",
       "      <td>...</td>\n",
       "      <td>...</td>\n",
       "      <td>...</td>\n",
       "      <td>...</td>\n",
       "      <td>...</td>\n",
       "      <td>...</td>\n",
       "      <td>...</td>\n",
       "    </tr>\n",
       "    <tr>\n",
       "      <th>612621</th>\n",
       "      <td>679327</td>\n",
       "      <td>0_1551</td>\n",
       "      <td>12.99</td>\n",
       "      <td>0</td>\n",
       "      <td>c_8489</td>\n",
       "      <td>f</td>\n",
       "      <td>1951</td>\n",
       "      <td>71</td>\n",
       "      <td>2022-01-15</td>\n",
       "      <td>s_150195</td>\n",
       "      <td>2022-01</td>\n",
       "      <td>2022</td>\n",
       "      <td>70-80</td>\n",
       "    </tr>\n",
       "    <tr>\n",
       "      <th>612622</th>\n",
       "      <td>679328</td>\n",
       "      <td>1_639</td>\n",
       "      <td>10.99</td>\n",
       "      <td>1</td>\n",
       "      <td>c_4370</td>\n",
       "      <td>f</td>\n",
       "      <td>1977</td>\n",
       "      <td>45</td>\n",
       "      <td>2022-03-19</td>\n",
       "      <td>s_181434</td>\n",
       "      <td>2022-03</td>\n",
       "      <td>2022</td>\n",
       "      <td>50-60</td>\n",
       "    </tr>\n",
       "    <tr>\n",
       "      <th>612623</th>\n",
       "      <td>679329</td>\n",
       "      <td>0_1425</td>\n",
       "      <td>12.99</td>\n",
       "      <td>0</td>\n",
       "      <td>c_304</td>\n",
       "      <td>f</td>\n",
       "      <td>1988</td>\n",
       "      <td>34</td>\n",
       "      <td>2022-12-20</td>\n",
       "      <td>s_314704</td>\n",
       "      <td>2022-12</td>\n",
       "      <td>2022</td>\n",
       "      <td>30-40</td>\n",
       "    </tr>\n",
       "    <tr>\n",
       "      <th>612624</th>\n",
       "      <td>679330</td>\n",
       "      <td>0_1994</td>\n",
       "      <td>4.98</td>\n",
       "      <td>0</td>\n",
       "      <td>c_2227</td>\n",
       "      <td>m</td>\n",
       "      <td>1986</td>\n",
       "      <td>36</td>\n",
       "      <td>2021-07-16</td>\n",
       "      <td>s_63204</td>\n",
       "      <td>2021-07</td>\n",
       "      <td>2021</td>\n",
       "      <td>30-40</td>\n",
       "    </tr>\n",
       "    <tr>\n",
       "      <th>612625</th>\n",
       "      <td>679331</td>\n",
       "      <td>1_523</td>\n",
       "      <td>23.99</td>\n",
       "      <td>1</td>\n",
       "      <td>c_3873</td>\n",
       "      <td>m</td>\n",
       "      <td>1995</td>\n",
       "      <td>27</td>\n",
       "      <td>2022-09-28</td>\n",
       "      <td>s_274568</td>\n",
       "      <td>2022-09</td>\n",
       "      <td>2022</td>\n",
       "      <td>18-30</td>\n",
       "    </tr>\n",
       "  </tbody>\n",
       "</table>\n",
       "<p>612626 rows × 13 columns</p>\n",
       "</div>"
      ],
      "text/plain": [
       "        Unnamed: 0 id_prod  price  categ client_id sex  birth  age  \\\n",
       "0                0  0_1518   4.18      0     c_103   f   1986   36   \n",
       "1                1   1_251  15.99      1    c_8534   m   1988   34   \n",
       "2                3   2_209  69.99      2    c_6941   m   2000   22   \n",
       "3                4  0_1509   4.99      0    c_4232   m   1980   42   \n",
       "4                5  0_1418   8.57      0    c_1478   f   1972   50   \n",
       "...            ...     ...    ...    ...       ...  ..    ...  ...   \n",
       "612621      679327  0_1551  12.99      0    c_8489   f   1951   71   \n",
       "612622      679328   1_639  10.99      1    c_4370   f   1977   45   \n",
       "612623      679329  0_1425  12.99      0     c_304   f   1988   34   \n",
       "612624      679330  0_1994   4.98      0    c_2227   m   1986   36   \n",
       "612625      679331   1_523  23.99      1    c_3873   m   1995   27   \n",
       "\n",
       "              date session_id date_mois  date_annee tranche_age  \n",
       "0       2022-05-20   s_211425   2022-05        2022       30-40  \n",
       "1       2022-02-02   s_158752   2022-02        2022       30-40  \n",
       "2       2021-06-24    s_52962   2021-06        2021       18-30  \n",
       "3       2023-01-11   s_325227   2023-01        2023       30-40  \n",
       "4       2022-10-20   s_285425   2022-10        2022       50-60  \n",
       "...            ...        ...       ...         ...         ...  \n",
       "612621  2022-01-15   s_150195   2022-01        2022       70-80  \n",
       "612622  2022-03-19   s_181434   2022-03        2022       50-60  \n",
       "612623  2022-12-20   s_314704   2022-12        2022       30-40  \n",
       "612624  2021-07-16    s_63204   2021-07        2021       30-40  \n",
       "612625  2022-09-28   s_274568   2022-09        2022       18-30  \n",
       "\n",
       "[612626 rows x 13 columns]"
      ]
     },
     "execution_count": 62,
     "metadata": {},
     "output_type": "execute_result"
    }
   ],
   "source": [
    "# Discrétisation customisée de la tranche d'âge\n",
    "labels_age = ['18-30','30-40','50-60', '60-70','70-80','80-93']\n",
    "\n",
    "df_final_sans_pro['tranche_age'] = pd.cut(df_final_sans_pro['age'], 6, labels=labels_age)\n",
    "df_final_sans_pro"
   ]
  },
  {
   "cell_type": "code",
   "execution_count": 63,
   "id": "1c698a3a",
   "metadata": {},
   "outputs": [
    {
     "data": {
      "text/html": [
       "<div>\n",
       "<style scoped>\n",
       "    .dataframe tbody tr th:only-of-type {\n",
       "        vertical-align: middle;\n",
       "    }\n",
       "\n",
       "    .dataframe tbody tr th {\n",
       "        vertical-align: top;\n",
       "    }\n",
       "\n",
       "    .dataframe thead th {\n",
       "        text-align: right;\n",
       "    }\n",
       "</style>\n",
       "<table border=\"1\" class=\"dataframe\">\n",
       "  <thead>\n",
       "    <tr style=\"text-align: right;\">\n",
       "      <th>sex</th>\n",
       "      <th>f</th>\n",
       "      <th>m</th>\n",
       "    </tr>\n",
       "    <tr>\n",
       "      <th>tranche_age</th>\n",
       "      <th></th>\n",
       "      <th></th>\n",
       "    </tr>\n",
       "  </thead>\n",
       "  <tbody>\n",
       "    <tr>\n",
       "      <th>18-30</th>\n",
       "      <td>37830</td>\n",
       "      <td>34881</td>\n",
       "    </tr>\n",
       "    <tr>\n",
       "      <th>30-40</th>\n",
       "      <td>127734</td>\n",
       "      <td>124257</td>\n",
       "    </tr>\n",
       "    <tr>\n",
       "      <th>50-60</th>\n",
       "      <td>92055</td>\n",
       "      <td>78348</td>\n",
       "    </tr>\n",
       "    <tr>\n",
       "      <th>60-70</th>\n",
       "      <td>39653</td>\n",
       "      <td>39648</td>\n",
       "    </tr>\n",
       "    <tr>\n",
       "      <th>70-80</th>\n",
       "      <td>16253</td>\n",
       "      <td>12885</td>\n",
       "    </tr>\n",
       "    <tr>\n",
       "      <th>80-93</th>\n",
       "      <td>5479</td>\n",
       "      <td>3603</td>\n",
       "    </tr>\n",
       "  </tbody>\n",
       "</table>\n",
       "</div>"
      ],
      "text/plain": [
       "sex               f       m\n",
       "tranche_age                \n",
       "18-30         37830   34881\n",
       "30-40        127734  124257\n",
       "50-60         92055   78348\n",
       "60-70         39653   39648\n",
       "70-80         16253   12885\n",
       "80-93          5479    3603"
      ]
     },
     "execution_count": 63,
     "metadata": {},
     "output_type": "execute_result"
    }
   ],
   "source": [
    "#Tableau croisé dynamique sur le nombre de ventes en fonction de la classe d'âge et du genre du client\n",
    "pivot = pd.pivot_table(data=df_final_sans_pro,index='tranche_age',columns='sex',values='price',aggfunc={'price' : 'count'})\n",
    "pivot"
   ]
  },
  {
   "cell_type": "code",
   "execution_count": 64,
   "id": "2c4424f9",
   "metadata": {},
   "outputs": [
    {
     "data": {
      "image/png": "[encoded data removed]",
      "text/plain": [
       "<Figure size 432x288 with 1 Axes>"
      ]
     },
     "metadata": {
      "needs_background": "light"
     },
     "output_type": "display_data"
    }
   ],
   "source": [
    "# Répartition des ventes par tranche d'âge et par genre\n",
    "pivot.groupby('tranche_age').sum().plot(kind='bar')\n",
    "plt.title(\"Répartition des ventes par tranche d'âge et par genre\")\n",
    "plt.show()"
   ]
  },
  {
   "cell_type": "markdown",
   "id": "cae0bc30",
   "metadata": {},
   "source": [
    "Les tranches d'âge qui sont les plus gros consommateurs sont : Les 30-40 ans, suivis par les 50-60 ans et les 60-70 ans."
   ]
  },
  {
   "cell_type": "code",
   "execution_count": 65,
   "id": "9713fb4f",
   "metadata": {},
   "outputs": [
    {
     "data": {
      "image/png": "[encoded data removed]",
      "text/plain": [
       "<Figure size 432x288 with 1 Axes>"
      ]
     },
     "metadata": {},
     "output_type": "display_data"
    }
   ],
   "source": [
    "# Diagramme en secteur\n",
    "df_final_sans_pro[\"tranche_age\"].value_counts(normalize=True).plot(kind='pie', autopct='%1.2f%%')\n",
    "plt.show() # Affiche le graphique"
   ]
  },
  {
   "cell_type": "markdown",
   "id": "01bdc02b",
   "metadata": {},
   "source": [
    "# Analyse du test de la variance ANOVA, corrélation entre une variable qualitative et quantitative : tranche d'âge et fréquence d'achat"
   ]
  },
  {
   "cell_type": "markdown",
   "id": "902538a7",
   "metadata": {},
   "source": [
    "## Calcul de la fréquence d'achat"
   ]
  },
  {
   "cell_type": "code",
   "execution_count": 66,
   "id": "5c14ced6",
   "metadata": {},
   "outputs": [
    {
     "data": {
      "text/html": [
       "<div>\n",
       "<style scoped>\n",
       "    .dataframe tbody tr th:only-of-type {\n",
       "        vertical-align: middle;\n",
       "    }\n",
       "\n",
       "    .dataframe tbody tr th {\n",
       "        vertical-align: top;\n",
       "    }\n",
       "\n",
       "    .dataframe thead th {\n",
       "        text-align: right;\n",
       "    }\n",
       "</style>\n",
       "<table border=\"1\" class=\"dataframe\">\n",
       "  <thead>\n",
       "    <tr style=\"text-align: right;\">\n",
       "      <th></th>\n",
       "      <th></th>\n",
       "      <th>frequence</th>\n",
       "    </tr>\n",
       "    <tr>\n",
       "      <th>date_mois</th>\n",
       "      <th>tranche_age</th>\n",
       "      <th></th>\n",
       "    </tr>\n",
       "  </thead>\n",
       "  <tbody>\n",
       "    <tr>\n",
       "      <th rowspan=\"5\" valign=\"top\">2021-03</th>\n",
       "      <th>18-30</th>\n",
       "      <td>2.632393</td>\n",
       "    </tr>\n",
       "    <tr>\n",
       "      <th>30-40</th>\n",
       "      <td>6.724749</td>\n",
       "    </tr>\n",
       "    <tr>\n",
       "      <th>50-60</th>\n",
       "      <td>5.238467</td>\n",
       "    </tr>\n",
       "    <tr>\n",
       "      <th>60-70</th>\n",
       "      <td>3.482161</td>\n",
       "    </tr>\n",
       "    <tr>\n",
       "      <th>70-80</th>\n",
       "      <td>3.196286</td>\n",
       "    </tr>\n",
       "    <tr>\n",
       "      <th>...</th>\n",
       "      <th>...</th>\n",
       "      <td>...</td>\n",
       "    </tr>\n",
       "    <tr>\n",
       "      <th rowspan=\"5\" valign=\"top\">2023-02</th>\n",
       "      <th>30-40</th>\n",
       "      <td>5.821320</td>\n",
       "    </tr>\n",
       "    <tr>\n",
       "      <th>50-60</th>\n",
       "      <td>4.871757</td>\n",
       "    </tr>\n",
       "    <tr>\n",
       "      <th>60-70</th>\n",
       "      <td>3.204684</td>\n",
       "    </tr>\n",
       "    <tr>\n",
       "      <th>70-80</th>\n",
       "      <td>2.989247</td>\n",
       "    </tr>\n",
       "    <tr>\n",
       "      <th>80-93</th>\n",
       "      <td>3.041667</td>\n",
       "    </tr>\n",
       "  </tbody>\n",
       "</table>\n",
       "<p>138 rows × 1 columns</p>\n",
       "</div>"
      ],
      "text/plain": [
       "                       frequence\n",
       "date_mois tranche_age           \n",
       "2021-03   18-30         2.632393\n",
       "          30-40         6.724749\n",
       "          50-60         5.238467\n",
       "          60-70         3.482161\n",
       "          70-80         3.196286\n",
       "...                          ...\n",
       "2023-02   30-40         5.821320\n",
       "          50-60         4.871757\n",
       "          60-70         3.204684\n",
       "          70-80         2.989247\n",
       "          80-93         3.041667\n",
       "\n",
       "[138 rows x 1 columns]"
      ]
     },
     "metadata": {},
     "output_type": "display_data"
    }
   ],
   "source": [
    "#Calcul de la fréquence d'achat\n",
    "def frequence(x):\n",
    "    freq = {}\n",
    "    freq[\"frequence\"] = (x['session_id'].count() / x['client_id'].value_counts().count()) #Calcul de la fréquence d'achat\n",
    "    return pd.Series(freq, index=['frequence'])\n",
    "\n",
    "df_frequence_achat = df_final_sans_pro.groupby(['date_mois', 'tranche_age']).apply(frequence)\n",
    "\n",
    "display(df_frequence_achat)"
   ]
  },
  {
   "cell_type": "code",
   "execution_count": 67,
   "id": "13e7f823",
   "metadata": {},
   "outputs": [],
   "source": [
    "df_frequence_achat = df_frequence_achat.reset_index()#On reset l'index pour pouvoir faire un boxplot"
   ]
  },
  {
   "cell_type": "code",
   "execution_count": 68,
   "id": "6e5638a5",
   "metadata": {},
   "outputs": [
    {
     "data": {
      "image/png": "[encoded data removed]",
      "text/plain": [
       "<Figure size 648x432 with 1 Axes>"
      ]
     },
     "metadata": {
      "needs_background": "light"
     },
     "output_type": "display_data"
    }
   ],
   "source": [
    "#Représentation graphique de la fréquence d'achat par rapport à la tranche d'âge\n",
    "fig = plt.figure(1, figsize=(9,6))\n",
    "sns.boxplot(x='tranche_age',y='frequence',data=df_frequence_achat, showfliers=True)\n",
    "plt.title(\"Fréquence d'achat par tranche d'âge\")\n",
    "plt.grid()\n",
    "plt.show()"
   ]
  },
  {
   "cell_type": "markdown",
   "id": "fceba2ad",
   "metadata": {},
   "source": [
    "Les tranches d'âge qui sont achètent le plus souvent sont : Les 30-40 ans, suivis par les 50-60 ans et les 60-70 ans.\n"
   ]
  },
  {
   "cell_type": "markdown",
   "id": "986112bd",
   "metadata": {},
   "source": [
    "# # Analyse du test de la variance ANOVA\n"
   ]
  },
  {
   "cell_type": "code",
   "execution_count": 69,
   "id": "dfc2bd92",
   "metadata": {},
   "outputs": [],
   "source": [
    "#Importation des librairies\n",
    "import statsmodels.api as sm\n",
    "from statsmodels.formula.api import ols"
   ]
  },
  {
   "cell_type": "code",
   "execution_count": 70,
   "id": "80ffe78c",
   "metadata": {},
   "outputs": [
    {
     "data": {
      "text/html": [
       "<div>\n",
       "<style scoped>\n",
       "    .dataframe tbody tr th:only-of-type {\n",
       "        vertical-align: middle;\n",
       "    }\n",
       "\n",
       "    .dataframe tbody tr th {\n",
       "        vertical-align: top;\n",
       "    }\n",
       "\n",
       "    .dataframe thead th {\n",
       "        text-align: right;\n",
       "    }\n",
       "</style>\n",
       "<table border=\"1\" class=\"dataframe\">\n",
       "  <thead>\n",
       "    <tr style=\"text-align: right;\">\n",
       "      <th></th>\n",
       "      <th>df</th>\n",
       "      <th>sum_sq</th>\n",
       "      <th>mean_sq</th>\n",
       "      <th>F</th>\n",
       "      <th>PR(&gt;F)</th>\n",
       "    </tr>\n",
       "  </thead>\n",
       "  <tbody>\n",
       "    <tr>\n",
       "      <th>tranche_age</th>\n",
       "      <td>5.0</td>\n",
       "      <td>240.758485</td>\n",
       "      <td>48.151697</td>\n",
       "      <td>508.419181</td>\n",
       "      <td>2.236767e-84</td>\n",
       "    </tr>\n",
       "    <tr>\n",
       "      <th>Residual</th>\n",
       "      <td>132.0</td>\n",
       "      <td>12.501543</td>\n",
       "      <td>0.094709</td>\n",
       "      <td>NaN</td>\n",
       "      <td>NaN</td>\n",
       "    </tr>\n",
       "  </tbody>\n",
       "</table>\n",
       "</div>"
      ],
      "text/plain": [
       "                df      sum_sq    mean_sq           F        PR(>F)\n",
       "tranche_age    5.0  240.758485  48.151697  508.419181  2.236767e-84\n",
       "Residual     132.0   12.501543   0.094709         NaN           NaN"
      ]
     },
     "execution_count": 70,
     "metadata": {},
     "output_type": "execute_result"
    }
   ],
   "source": [
    "\n",
    "lm = ols('frequence ~ tranche_age', data = df_frequence_achat).fit()\n",
    "import statsmodels.api; \n",
    "table = sm.stats.anova_lm(lm)\n",
    "table"
   ]
  },
  {
   "cell_type": "code",
   "execution_count": 71,
   "id": "5c3bb82e",
   "metadata": {},
   "outputs": [
    {
     "data": {
      "text/html": [
       "<table class=\"simpletable\">\n",
       "<caption>OLS Regression Results</caption>\n",
       "<tr>\n",
       "  <th>Dep. Variable:</th>        <td>frequence</td>    <th>  R-squared:         </th> <td>   0.951</td>\n",
       "</tr>\n",
       "<tr>\n",
       "  <th>Model:</th>                   <td>OLS</td>       <th>  Adj. R-squared:    </th> <td>   0.949</td>\n",
       "</tr>\n",
       "<tr>\n",
       "  <th>Method:</th>             <td>Least Squares</td>  <th>  F-statistic:       </th> <td>   508.4</td>\n",
       "</tr>\n",
       "<tr>\n",
       "  <th>Date:</th>             <td>Sat, 17 Dec 2022</td> <th>  Prob (F-statistic):</th> <td>2.24e-84</td>\n",
       "</tr>\n",
       "<tr>\n",
       "  <th>Time:</th>                 <td>10:25:11</td>     <th>  Log-Likelihood:    </th> <td> -30.117</td>\n",
       "</tr>\n",
       "<tr>\n",
       "  <th>No. Observations:</th>      <td>   138</td>      <th>  AIC:               </th> <td>   72.23</td>\n",
       "</tr>\n",
       "<tr>\n",
       "  <th>Df Residuals:</th>          <td>   132</td>      <th>  BIC:               </th> <td>   89.80</td>\n",
       "</tr>\n",
       "<tr>\n",
       "  <th>Df Model:</th>              <td>     5</td>      <th>                     </th>     <td> </td>   \n",
       "</tr>\n",
       "<tr>\n",
       "  <th>Covariance Type:</th>      <td>nonrobust</td>    <th>                     </th>     <td> </td>   \n",
       "</tr>\n",
       "</table>\n",
       "<table class=\"simpletable\">\n",
       "<tr>\n",
       "            <td></td>              <th>coef</th>     <th>std err</th>      <th>t</th>      <th>P>|t|</th>  <th>[0.025</th>    <th>0.975]</th>  \n",
       "</tr>\n",
       "<tr>\n",
       "  <th>Intercept</th>            <td>    2.7308</td> <td>    0.064</td> <td>   42.555</td> <td> 0.000</td> <td>    2.604</td> <td>    2.858</td>\n",
       "</tr>\n",
       "<tr>\n",
       "  <th>tranche_age[T.30-40]</th> <td>    3.7723</td> <td>    0.091</td> <td>   41.568</td> <td> 0.000</td> <td>    3.593</td> <td>    3.952</td>\n",
       "</tr>\n",
       "<tr>\n",
       "  <th>tranche_age[T.50-60]</th> <td>    2.5284</td> <td>    0.091</td> <td>   27.861</td> <td> 0.000</td> <td>    2.349</td> <td>    2.708</td>\n",
       "</tr>\n",
       "<tr>\n",
       "  <th>tranche_age[T.60-70]</th> <td>    0.7372</td> <td>    0.091</td> <td>    8.124</td> <td> 0.000</td> <td>    0.558</td> <td>    0.917</td>\n",
       "</tr>\n",
       "<tr>\n",
       "  <th>tranche_age[T.70-80]</th> <td>    0.6031</td> <td>    0.091</td> <td>    6.646</td> <td> 0.000</td> <td>    0.424</td> <td>    0.783</td>\n",
       "</tr>\n",
       "<tr>\n",
       "  <th>tranche_age[T.80-93]</th> <td>    0.6695</td> <td>    0.091</td> <td>    7.378</td> <td> 0.000</td> <td>    0.490</td> <td>    0.849</td>\n",
       "</tr>\n",
       "</table>\n",
       "<table class=\"simpletable\">\n",
       "<tr>\n",
       "  <th>Omnibus:</th>       <td>31.124</td> <th>  Durbin-Watson:     </th> <td>   0.971</td>\n",
       "</tr>\n",
       "<tr>\n",
       "  <th>Prob(Omnibus):</th> <td> 0.000</td> <th>  Jarque-Bera (JB):  </th> <td> 121.381</td>\n",
       "</tr>\n",
       "<tr>\n",
       "  <th>Skew:</th>          <td> 0.702</td> <th>  Prob(JB):          </th> <td>4.39e-27</td>\n",
       "</tr>\n",
       "<tr>\n",
       "  <th>Kurtosis:</th>      <td> 7.375</td> <th>  Cond. No.          </th> <td>    6.85</td>\n",
       "</tr>\n",
       "</table><br/><br/>Notes:<br/>[1] Standard Errors assume that the covariance matrix of the errors is correctly specified."
      ],
      "text/plain": [
       "<class 'statsmodels.iolib.summary.Summary'>\n",
       "\"\"\"\n",
       "                            OLS Regression Results                            \n",
       "==============================================================================\n",
       "Dep. Variable:              frequence   R-squared:                       0.951\n",
       "Model:                            OLS   Adj. R-squared:                  0.949\n",
       "Method:                 Least Squares   F-statistic:                     508.4\n",
       "Date:                Sat, 17 Dec 2022   Prob (F-statistic):           2.24e-84\n",
       "Time:                        10:25:11   Log-Likelihood:                -30.117\n",
       "No. Observations:                 138   AIC:                             72.23\n",
       "Df Residuals:                     132   BIC:                             89.80\n",
       "Df Model:                           5                                         \n",
       "Covariance Type:            nonrobust                                         \n",
       "========================================================================================\n",
       "                           coef    std err          t      P>|t|      [0.025      0.975]\n",
       "----------------------------------------------------------------------------------------\n",
       "Intercept                2.7308      0.064     42.555      0.000       2.604       2.858\n",
       "tranche_age[T.30-40]     3.7723      0.091     41.568      0.000       3.593       3.952\n",
       "tranche_age[T.50-60]     2.5284      0.091     27.861      0.000       2.349       2.708\n",
       "tranche_age[T.60-70]     0.7372      0.091      8.124      0.000       0.558       0.917\n",
       "tranche_age[T.70-80]     0.6031      0.091      6.646      0.000       0.424       0.783\n",
       "tranche_age[T.80-93]     0.6695      0.091      7.378      0.000       0.490       0.849\n",
       "==============================================================================\n",
       "Omnibus:                       31.124   Durbin-Watson:                   0.971\n",
       "Prob(Omnibus):                  0.000   Jarque-Bera (JB):              121.381\n",
       "Skew:                           0.702   Prob(JB):                     4.39e-27\n",
       "Kurtosis:                       7.375   Cond. No.                         6.85\n",
       "==============================================================================\n",
       "\n",
       "Notes:\n",
       "[1] Standard Errors assume that the covariance matrix of the errors is correctly specified.\n",
       "\"\"\""
      ]
     },
     "execution_count": 71,
     "metadata": {},
     "output_type": "execute_result"
    }
   ],
   "source": [
    "lm.summary()"
   ]
  },
  {
   "cell_type": "markdown",
   "id": "82e303c6",
   "metadata": {},
   "source": [
    "R_squared de 0.95, il existerait une relation entre l'âge et la fréquence d'achats.\n",
    "\n",
    "P-value = 0.025 est inférieure à 0.05%, on peut rejeter l'hypothèse H0.\n",
    "\n",
    "95% de la variation de la fréquence d'achat peut être expliqué par la tranche d'âge."
   ]
  }
 ],
 "metadata": {
  "kernelspec": {
   "display_name": "Python 3 (ipykernel)",
   "language": "python",
   "name": "python3"
  },
  "language_info": {
   "codemirror_mode": {
    "name": "ipython",
    "version": 3
   },
   "file_extension": ".py",
   "mimetype": "text/x-python",
   "name": "python",
   "nbconvert_exporter": "python",
   "pygments_lexer": "ipython3",
   "version": "3.9.12"
  }
 },
 "nbformat": 4,
 "nbformat_minor": 5
}
